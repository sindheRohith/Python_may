{
 "cells": [
  {
   "cell_type": "markdown",
   "id": "fc65cc50-0855-49e9-9c7c-2404e3392229",
   "metadata": {},
   "source": [
    "-  how to display\r",
    "- \n",
    " type-\r",
    " \n",
    " le-n \r\n",
    " m-a x\r\n",
    " -m in\r\n",
    "-  sum\r\n",
    " rev-e rsed\r\n",
    " -s ort-e d\r\n",
    " in\r",
    "-\n",
    "  not i-n \r\n",
    " index\r",
    "-\n",
    "  for loo-p \r\n",
    " mutab-l e\r\n",
    " slicing\r\n",
    " -c onctaination\r\n",
    " methods"
   ]
  },
  {
   "cell_type": "markdown",
   "id": "b5ce3019-79dd-48a0-a5a1-d61cbc5bd0c1",
   "metadata": {},
   "source": [
    "**tuple**"
   ]
  },
  {
   "cell_type": "code",
   "execution_count": 1,
   "id": "b0551399-8f42-4230-9227-f2b862ec8453",
   "metadata": {},
   "outputs": [
    {
     "data": {
      "text/plain": [
       "(1, 2, 3, 4)"
      ]
     },
     "execution_count": 1,
     "metadata": {},
     "output_type": "execute_result"
    }
   ],
   "source": [
    "t=(1,2,3,4,)\n",
    "t"
   ]
  },
  {
   "cell_type": "code",
   "execution_count": 2,
   "id": "35049b85-1b96-4e5f-8629-a6e63654c51b",
   "metadata": {},
   "outputs": [
    {
     "data": {
      "text/plain": [
       "('apple', 'ball', 'cat')"
      ]
     },
     "execution_count": 2,
     "metadata": {},
     "output_type": "execute_result"
    }
   ],
   "source": [
    "t=(\"apple\",\"ball\",\"cat\")\n",
    "t"
   ]
  },
  {
   "cell_type": "code",
   "execution_count": 3,
   "id": "ba624427-ced2-47ee-b033-ce63d52f677a",
   "metadata": {},
   "outputs": [
    {
     "data": {
      "text/plain": [
       "(1, 2, 3, 10.5, 'apple', 'ball', 'cat')"
      ]
     },
     "execution_count": 3,
     "metadata": {},
     "output_type": "execute_result"
    }
   ],
   "source": [
    "t=(1,2,3,10.5,\"apple\",\"ball\",\"cat\")\n",
    "t"
   ]
  },
  {
   "cell_type": "code",
   "execution_count": 4,
   "id": "015b6c6c-0688-40d0-8c5e-e34770e771c5",
   "metadata": {},
   "outputs": [
    {
     "data": {
      "text/plain": [
       "(1, 1, 2, 2, 3, 3, 'apple', 'ball')"
      ]
     },
     "execution_count": 4,
     "metadata": {},
     "output_type": "execute_result"
    }
   ],
   "source": [
    "t=(1,1,2,2,3,3,\"apple\",\"ball\")\n",
    "t"
   ]
  },
  {
   "cell_type": "code",
   "execution_count": 5,
   "id": "7e4815bb-2da3-415c-9213-958f11768b14",
   "metadata": {},
   "outputs": [
    {
     "data": {
      "text/plain": [
       "(1, 2, ('apple', 'ball'))"
      ]
     },
     "execution_count": 5,
     "metadata": {},
     "output_type": "execute_result"
    }
   ],
   "source": [
    "t=(1,2,(\"apple\",\"ball\"))\n",
    "t"
   ]
  },
  {
   "cell_type": "markdown",
   "id": "ebabf2ed-d926-40b8-b079-a2002efd49d4",
   "metadata": {},
   "source": [
    "#tuple\r\n",
    " tuple accepts all types of data\r\n",
    " tuple is heterogenous\r\n",
    " tuple accepts duplicate values\r\n",
    " tuple can have another tuple inside"
   ]
  },
  {
   "cell_type": "code",
   "execution_count": 6,
   "id": "5c0c8531-4170-4747-90a2-7e92abf50ce9",
   "metadata": {},
   "outputs": [
    {
     "data": {
      "text/plain": [
       "tuple"
      ]
     },
     "execution_count": 6,
     "metadata": {},
     "output_type": "execute_result"
    }
   ],
   "source": [
    "t=(1,2,3,10.5,\"apple\",\"ball\",\"cat\")\n",
    "type(t)"
   ]
  },
  {
   "cell_type": "markdown",
   "id": "0eaaf682-238e-4646-8448-59f1ffcdd187",
   "metadata": {},
   "source": [
    "**length**"
   ]
  },
  {
   "cell_type": "code",
   "execution_count": 7,
   "id": "77e8f81b-5a09-4705-9775-ac309b37d433",
   "metadata": {},
   "outputs": [
    {
     "data": {
      "text/plain": [
       "7"
      ]
     },
     "execution_count": 7,
     "metadata": {},
     "output_type": "execute_result"
    }
   ],
   "source": [
    "t=(1,2,3,10.5,\"apple\",\"ball\",\"cat\")\n",
    "len(t)"
   ]
  },
  {
   "cell_type": "code",
   "execution_count": 8,
   "id": "64b82c17-3463-4c95-a8f9-c55166fe1eaf",
   "metadata": {},
   "outputs": [
    {
     "data": {
      "text/plain": [
       "3"
      ]
     },
     "execution_count": 8,
     "metadata": {},
     "output_type": "execute_result"
    }
   ],
   "source": [
    "t=(1,2,(\"apple\",\"ball\"))\n",
    "len(t)"
   ]
  },
  {
   "cell_type": "code",
   "execution_count": 9,
   "id": "66a11bd8-b793-4f0e-9218-6ee26a000064",
   "metadata": {},
   "outputs": [
    {
     "data": {
      "text/plain": [
       "4"
      ]
     },
     "execution_count": 9,
     "metadata": {},
     "output_type": "execute_result"
    }
   ],
   "source": [
    "t=(1,2,3,4)\n",
    "max(t)"
   ]
  },
  {
   "cell_type": "code",
   "execution_count": 10,
   "id": "06083c37-86ac-40d2-9129-4a7e05f553ba",
   "metadata": {},
   "outputs": [
    {
     "data": {
      "text/plain": [
       "'cherry'"
      ]
     },
     "execution_count": 10,
     "metadata": {},
     "output_type": "execute_result"
    }
   ],
   "source": [
    "t1=(\"apple\",\"banana\",\"cherry\")\n",
    "max(t1)"
   ]
  },
  {
   "cell_type": "code",
   "execution_count": 11,
   "id": "fd15a491-d569-44f1-b9b3-4c02bec36646",
   "metadata": {},
   "outputs": [
    {
     "data": {
      "text/plain": [
       "100.5"
      ]
     },
     "execution_count": 11,
     "metadata": {},
     "output_type": "execute_result"
    }
   ],
   "source": [
    "t1=(10.5,100,100.5)\n",
    "max(t1)"
   ]
  },
  {
   "cell_type": "code",
   "execution_count": 12,
   "id": "67f2ca06-c15c-42b3-8303-b301718be5cf",
   "metadata": {},
   "outputs": [
    {
     "data": {
      "text/plain": [
       "1"
      ]
     },
     "execution_count": 12,
     "metadata": {},
     "output_type": "execute_result"
    }
   ],
   "source": [
    "t=(1,2,3,10)\n",
    "min(t)"
   ]
  },
  {
   "cell_type": "code",
   "execution_count": 13,
   "id": "2b1f3146-d6bb-4b1a-86d2-ea8856d07c46",
   "metadata": {},
   "outputs": [
    {
     "data": {
      "text/plain": [
       "'apple'"
      ]
     },
     "execution_count": 13,
     "metadata": {},
     "output_type": "execute_result"
    }
   ],
   "source": [
    "t=(\"apple\",\"ball\",\"cat\")\n",
    "min(t)"
   ]
  },
  {
   "cell_type": "code",
   "execution_count": 14,
   "id": "d90e665b-e71f-410b-9993-667f58c2702b",
   "metadata": {},
   "outputs": [],
   "source": [
    "#for max and min when the tuple having the strings and numerical values\n",
    "# it doesnot compares\n",
    "# for max and min when the tuple having the string values it gives answer based on ascii values"
   ]
  },
  {
   "cell_type": "markdown",
   "id": "606636dd-fc75-4c12-93e4-ba0caa8b2f4d",
   "metadata": {},
   "source": [
    "**index**"
   ]
  },
  {
   "cell_type": "code",
   "execution_count": 15,
   "id": "e9f64a7e-5138-42e7-9f46-57d0c62a1fd4",
   "metadata": {},
   "outputs": [
    {
     "data": {
      "text/plain": [
       "(1, 'ball', 10.5)"
      ]
     },
     "execution_count": 15,
     "metadata": {},
     "output_type": "execute_result"
    }
   ],
   "source": [
    "t=(1,2,3,10.5,\"apple\",\"ball\",\"cat\")\n",
    "t[0],t[5],t[3]"
   ]
  },
  {
   "cell_type": "code",
   "execution_count": 17,
   "id": "484f6a1a-85cb-4686-8ec7-4b719ae14774",
   "metadata": {},
   "outputs": [
    {
     "name": "stdout",
     "output_type": "stream",
     "text": [
      "1,2,3,10.5,apple,ball,cat,"
     ]
    }
   ],
   "source": [
    "t=(1,2,3,10.5,\"apple\",\"ball\",\"cat\")\n",
    "for i in range(len(t)):\n",
    "    print(t[i],end=\",\")"
   ]
  },
  {
   "cell_type": "code",
   "execution_count": 18,
   "id": "efee80d2-fe27-4300-961f-6726667ab045",
   "metadata": {},
   "outputs": [
    {
     "data": {
      "text/plain": [
       "5"
      ]
     },
     "execution_count": 18,
     "metadata": {},
     "output_type": "execute_result"
    }
   ],
   "source": [
    "t=(1,2,3,10.5,(\"apple\",\"ball\",\"cat\"))\n",
    "len(t)"
   ]
  },
  {
   "cell_type": "code",
   "execution_count": 19,
   "id": "e145db54-292c-46f8-80e4-af93a9e78e99",
   "metadata": {},
   "outputs": [
    {
     "data": {
      "text/plain": [
       "'apple'"
      ]
     },
     "execution_count": 19,
     "metadata": {},
     "output_type": "execute_result"
    }
   ],
   "source": [
    "t[4][0]"
   ]
  },
  {
   "cell_type": "markdown",
   "id": "600b8088-f110-4872-acb1-7a814a363088",
   "metadata": {},
   "source": [
    "**mutable-immmutable**"
   ]
  },
  {
   "cell_type": "code",
   "execution_count": 20,
   "id": "2c59722b-ef89-46c6-b047-9df7eb7f5f9d",
   "metadata": {},
   "outputs": [
    {
     "data": {
      "text/plain": [
       "(1, 2, 3, 4, 'apple', 'banana')"
      ]
     },
     "execution_count": 20,
     "metadata": {},
     "output_type": "execute_result"
    }
   ],
   "source": [
    "t=(1,2,3,4)\n",
    "t1=(\"apple\",\"banana\")\n",
    "t3=t+t1\n",
    "t3"
   ]
  },
  {
   "cell_type": "code",
   "execution_count": 21,
   "id": "37b2b56d-ae17-4910-9267-cddeb8e5b0a9",
   "metadata": {},
   "outputs": [],
   "source": [
    "# based on index we cannot change the value\n",
    "#tuple is immutable by using index"
   ]
  },
  {
   "cell_type": "code",
   "execution_count": 22,
   "id": "eb679847-3acb-426b-a373-8662fc8c8bf3",
   "metadata": {},
   "outputs": [
    {
     "name": "stdout",
     "output_type": "stream",
     "text": [
      "1 0\n",
      "2 1\n",
      "3 2\n",
      "10.5 3\n",
      "apple 4\n",
      "ball 5\n",
      "cat 6\n"
     ]
    }
   ],
   "source": [
    "t=(1,2,3,10.5,\"apple\",\"ball\",\"cat\")\n",
    "for i in range(len(t)):\n",
    "    print(t[i],i)"
   ]
  },
  {
   "cell_type": "code",
   "execution_count": 23,
   "id": "3aa5b9bc-438f-44bf-9fc8-f1ea52da1aa1",
   "metadata": {},
   "outputs": [
    {
     "data": {
      "text/plain": [
       "True"
      ]
     },
     "execution_count": 23,
     "metadata": {},
     "output_type": "execute_result"
    }
   ],
   "source": [
    " 1 in t"
   ]
  },
  {
   "cell_type": "code",
   "execution_count": 24,
   "id": "36b1fe80-61c5-4d2b-9ba8-0d19f024b55e",
   "metadata": {},
   "outputs": [
    {
     "data": {
      "text/plain": [
       "True"
      ]
     },
     "execution_count": 24,
     "metadata": {},
     "output_type": "execute_result"
    }
   ],
   "source": [
    "\"apple\" in t"
   ]
  },
  {
   "cell_type": "code",
   "execution_count": 25,
   "id": "3d47f6b4-06d5-4f00-99ad-5550bb3897e5",
   "metadata": {},
   "outputs": [
    {
     "name": "stdout",
     "output_type": "stream",
     "text": [
      "0\n",
      "1\n",
      "2\n",
      "3\n",
      "4\n",
      "5\n",
      "6\n"
     ]
    }
   ],
   "source": [
    " t=(1,2,3,10.5,\"apple\",\"ball\",\"cat\")\n",
    " for i in range(len(t)):\n",
    "    print(i)"
   ]
  },
  {
   "cell_type": "code",
   "execution_count": 26,
   "id": "20c5eff0-4708-42f5-86ab-5d8e55b98946",
   "metadata": {},
   "outputs": [],
   "source": [
    "#concatination"
   ]
  },
  {
   "cell_type": "code",
   "execution_count": 27,
   "id": "8e321ec8-f2f1-430c-b576-fd94efd2de14",
   "metadata": {},
   "outputs": [
    {
     "data": {
      "text/plain": [
       "(1, 2, 3, 4, 'apple', 'banana')"
      ]
     },
     "execution_count": 27,
     "metadata": {},
     "output_type": "execute_result"
    }
   ],
   "source": [
    "t=(1,2,3,4)\n",
    "t1=(\"apple\",\"banana\")\n",
    "t3=t+t1\n",
    "t3"
   ]
  },
  {
   "cell_type": "markdown",
   "id": "508b19fb-5b9f-4db4-8955-06d39d40bf23",
   "metadata": {},
   "source": [
    "-  for tuple we can add elements at the end"
   ]
  },
  {
   "cell_type": "code",
   "execution_count": 28,
   "id": "14a01d85-a3d4-444c-934d-82685da1c9f5",
   "metadata": {},
   "outputs": [],
   "source": [
    "# methods"
   ]
  },
  {
   "cell_type": "code",
   "execution_count": 29,
   "id": "aded60d0-ed28-4823-893e-85f2931fdd6a",
   "metadata": {},
   "outputs": [
    {
     "data": {
      "text/plain": [
       "['__add__',\n",
       " '__class__',\n",
       " '__class_getitem__',\n",
       " '__contains__',\n",
       " '__delattr__',\n",
       " '__dir__',\n",
       " '__doc__',\n",
       " '__eq__',\n",
       " '__format__',\n",
       " '__ge__',\n",
       " '__getattribute__',\n",
       " '__getitem__',\n",
       " '__getnewargs__',\n",
       " '__getstate__',\n",
       " '__gt__',\n",
       " '__hash__',\n",
       " '__init__',\n",
       " '__init_subclass__',\n",
       " '__iter__',\n",
       " '__le__',\n",
       " '__len__',\n",
       " '__lt__',\n",
       " '__mul__',\n",
       " '__ne__',\n",
       " '__new__',\n",
       " '__reduce__',\n",
       " '__reduce_ex__',\n",
       " '__repr__',\n",
       " '__rmul__',\n",
       " '__setattr__',\n",
       " '__sizeof__',\n",
       " '__str__',\n",
       " '__subclasshook__',\n",
       " 'count',\n",
       " 'index']"
      ]
     },
     "execution_count": 29,
     "metadata": {},
     "output_type": "execute_result"
    }
   ],
   "source": [
    "dir(())"
   ]
  },
  {
   "cell_type": "code",
   "execution_count": 31,
   "id": "77b60d73-30de-4a51-ae1b-223ee6e25fdd",
   "metadata": {},
   "outputs": [],
   "source": [
    "#count\n",
    "# using count we can return number of times a specified value present in tuple"
   ]
  },
  {
   "cell_type": "markdown",
   "id": "3815872b-de22-4b60-b8d2-ad17b6fd6b45",
   "metadata": {},
   "source": [
    "**index**"
   ]
  },
  {
   "cell_type": "code",
   "execution_count": 32,
   "id": "5cb388b0-1c98-45b9-a3a0-7fd4522c248e",
   "metadata": {},
   "outputs": [
    {
     "data": {
      "text/plain": [
       "1"
      ]
     },
     "execution_count": 32,
     "metadata": {},
     "output_type": "execute_result"
    }
   ],
   "source": [
    " t1=(1,2,3,4,\"apple\",\"banana\",)\n",
    " t1.index(2)"
   ]
  },
  {
   "cell_type": "code",
   "execution_count": 33,
   "id": "3f4479ec-2b21-4b6c-aa5f-d93f317e52eb",
   "metadata": {},
   "outputs": [
    {
     "data": {
      "text/plain": [
       "5"
      ]
     },
     "execution_count": 33,
     "metadata": {},
     "output_type": "execute_result"
    }
   ],
   "source": [
    " t1.index(\"banana\")"
   ]
  },
  {
   "cell_type": "code",
   "execution_count": 34,
   "id": "0315f04b-9ef9-4fc6-95cc-df674dd93de1",
   "metadata": {},
   "outputs": [],
   "source": [
    "#index returns the index of element we provided\n",
    "#it returns error when the value we provided not present in the tuple"
   ]
  },
  {
   "cell_type": "markdown",
   "id": "a53c2a53-e66e-41c6-9f0a-f8e22aad1a9a",
   "metadata": {},
   "source": [
    "**reversed**"
   ]
  },
  {
   "cell_type": "code",
   "execution_count": 35,
   "id": "0efb4cd8-4e91-45e5-95da-96ac7ff4062c",
   "metadata": {},
   "outputs": [
    {
     "data": {
      "text/plain": [
       "<reversed at 0x29c35161cc0>"
      ]
     },
     "execution_count": 35,
     "metadata": {},
     "output_type": "execute_result"
    }
   ],
   "source": [
    " t1=(1,2,3,4,\"apple\",\"banana\")\n",
    " reversed(t1)"
   ]
  },
  {
   "cell_type": "code",
   "execution_count": 37,
   "id": "48764937-5ea4-4b9b-8c16-313bc784fe81",
   "metadata": {},
   "outputs": [
    {
     "name": "stdout",
     "output_type": "stream",
     "text": [
      "banana\n",
      "apple\n",
      "4\n",
      "3\n",
      "2\n",
      "1\n"
     ]
    }
   ],
   "source": [
    "t1=(1,2,3,4,\"apple\",\"banana\")\n",
    "for i in reversed(t1):\n",
    "    print(i)"
   ]
  },
  {
   "cell_type": "code",
   "execution_count": 38,
   "id": "1f14cda9-8c97-4170-98ec-ad1ce2b5416d",
   "metadata": {},
   "outputs": [],
   "source": [
    "#sorted"
   ]
  },
  {
   "cell_type": "code",
   "execution_count": 40,
   "id": "901354c9-bfeb-41ef-8b78-125bb41d87e9",
   "metadata": {},
   "outputs": [
    {
     "data": {
      "text/plain": [
       "[1, 2, 10, 100]"
      ]
     },
     "execution_count": 40,
     "metadata": {},
     "output_type": "execute_result"
    }
   ],
   "source": [
    "t1=(10,1,100,2)\n",
    "sorted(t1)"
   ]
  },
  {
   "cell_type": "code",
   "execution_count": null,
   "id": "5ffe953c-eb4b-4e3e-9956-350c171d0f94",
   "metadata": {},
   "outputs": [],
   "source": []
  }
 ],
 "metadata": {
  "kernelspec": {
   "display_name": "Python 3 (ipykernel)",
   "language": "python",
   "name": "python3"
  },
  "language_info": {
   "codemirror_mode": {
    "name": "ipython",
    "version": 3
   },
   "file_extension": ".py",
   "mimetype": "text/x-python",
   "name": "python",
   "nbconvert_exporter": "python",
   "pygments_lexer": "ipython3",
   "version": "3.11.7"
  }
 },
 "nbformat": 4,
 "nbformat_minor": 5
}
