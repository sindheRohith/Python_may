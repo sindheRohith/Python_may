{
 "cells": [
  {
   "cell_type": "code",
   "execution_count": null,
   "id": "011d87f5-bf57-40d7-9714-2b27e694a8c6",
   "metadata": {},
   "outputs": [],
   "source": [
    " #find the vowels in given string\n",
    " #a):    str1: hai how are you\n",
    " #b)    find the indexes of vowels\n",
    " #c)   find count of vowels\n",
    " #d)   find the sum of before index of vowels"
   ]
  },
  {
   "cell_type": "code",
   "execution_count": 3,
   "id": "f15e0aca-7cac-4308-a911-1bb8b49af26a",
   "metadata": {},
   "outputs": [
    {
     "name": "stdout",
     "output_type": "stream",
     "text": [
      "a is a vowel\n",
      "i is a vowel\n",
      "o is a vowel\n",
      "a is a vowel\n",
      "e is a vowel\n",
      "o is a vowel\n",
      "u is a vowel\n"
     ]
    }
   ],
   "source": [
    "#a)  find the vowels in given string\n",
    "\n",
    "\n",
    "str1=\"hai how are you\"\n",
    "count=0\n",
    "for i in range(len(str1)):\n",
    "    if str1[i] in'aeiou':\n",
    "        print( f\"{str1[i]} is a vowel\")\n",
    "        count=count+1"
   ]
  },
  {
   "cell_type": "code",
   "execution_count": 4,
   "id": "3e6b75b2-d757-49a8-93a0-f4b7d490bfff",
   "metadata": {},
   "outputs": [
    {
     "name": "stdout",
     "output_type": "stream",
     "text": [
      "The index of the a is 1\n",
      "The index of the i is 2\n",
      "The index of the o is 5\n",
      "The index of the a is 8\n",
      "The index of the e is 10\n",
      "The index of the o is 13\n",
      "The index of the u is 14\n"
     ]
    }
   ],
   "source": [
    "#b)   find the indexes of the vowels\n",
    "\n",
    "\n",
    "count=0\n",
    "summ=0\n",
    "str1=\"hai how are you\"\n",
    "for i in range(len(str1)):\n",
    "    if str1[i] in 'aeiou':\n",
    "        count=count+1\n",
    "        summ=summ + i\n",
    "        print(f\"The index of the {str1[i]} is {i}\")"
   ]
  },
  {
   "cell_type": "code",
   "execution_count": 5,
   "id": "86614a89-217e-4a8c-8f9e-f8026b546a5d",
   "metadata": {},
   "outputs": [
    {
     "name": "stdout",
     "output_type": "stream",
     "text": [
      "The count of all the vowels in a given string is: 1\n",
      "The count of all the vowels in a given string is: 2\n",
      "The count of all the vowels in a given string is: 3\n",
      "The count of all the vowels in a given string is: 4\n",
      "The count of all the vowels in a given string is: 5\n",
      "The count of all the vowels in a given string is: 6\n",
      "The count of all the vowels in a given string is: 7\n"
     ]
    }
   ],
   "source": [
    " #c)   find count of vowels\n",
    "\n",
    "\n",
    "count=0\n",
    "summ=0\n",
    "str1=\"hai how are you\"\n",
    "for i in range(len(str1)):\n",
    "    if str1[i] in 'aeiou':\n",
    "        count=count+1\n",
    "        summ=summ + i\n",
    "        print(f\"The count of all the vowels in a given string is: {count}\")"
   ]
  },
  {
   "cell_type": "code",
   "execution_count": 6,
   "id": "1c2bec5c-6df5-4113-b738-127babf42c0d",
   "metadata": {},
   "outputs": [
    {
     "name": "stdout",
     "output_type": "stream",
     "text": [
      "The count of all the consonants in a given string is: 0\n",
      "The count of all the consonants in a given string is: 4\n",
      "The count of all the consonants in a given string is: 10\n",
      "The count of all the consonants in a given string is: 19\n",
      "The count of all the consonants in a given string is: 31\n"
     ]
    }
   ],
   "source": [
    "#d)  find the sum of before index of vowels\n",
    "\n",
    "count=0\n",
    "summ=0\n",
    "str1=\"hai how are you\"\n",
    "consonants=\"bcdfghjklmnpqrstvwxyz\"\n",
    "for i in range(len(str1)):\n",
    "    if str1[i] in consonants:\n",
    "        count=count+1\n",
    "        summ=summ+ i\n",
    "        print(f\"The count of all the consonants in a given string is: {summ}\")"
   ]
  },
  {
   "cell_type": "code",
   "execution_count": null,
   "id": "27229097-3b7b-454b-8885-e030e529835d",
   "metadata": {},
   "outputs": [],
   "source": []
  }
 ],
 "metadata": {
  "kernelspec": {
   "display_name": "Python 3 (ipykernel)",
   "language": "python",
   "name": "python3"
  },
  "language_info": {
   "codemirror_mode": {
    "name": "ipython",
    "version": 3
   },
   "file_extension": ".py",
   "mimetype": "text/x-python",
   "name": "python",
   "nbconvert_exporter": "python",
   "pygments_lexer": "ipython3",
   "version": "3.11.7"
  }
 },
 "nbformat": 4,
 "nbformat_minor": 5
}
