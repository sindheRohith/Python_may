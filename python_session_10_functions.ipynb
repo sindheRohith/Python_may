{
 "cells": [
  {
   "cell_type": "markdown",
   "id": "82eab340-0711-46c6-b035-cb7c26d6fa1a",
   "metadata": {},
   "source": [
    "**Functions**\n",
    "\n",
    "-  resuse of the code\n",
    "-  imagine you want to calculate tax of all tax payers\n",
    "-  suppose there are 100 tax payer are there\n",
    "-  in order to calculate tax we required 5 lines of code\n",
    "-  for 100 tax payers it will requires 500 lines\n",
    "-  this is not the good approach\n",
    "-  because 5 lines we are repeting for 100 members\n",
    "-  here functions will help us how to use onlt these 5 lines to all 100 tax payers"
   ]
  },
  {
   "cell_type": "code",
   "execution_count": 13,
   "id": "4ba0d6e9-642b-45d7-82a3-036f1e4ac7e6",
   "metadata": {},
   "outputs": [
    {
     "name": "stdin",
     "output_type": "stream",
     "text": [
      "enter the salary: 50000\n",
      "enter the tax per: 20\n"
     ]
    },
    {
     "name": "stdout",
     "output_type": "stream",
     "text": [
      "the amount of tax pay is 10000.0\n"
     ]
    }
   ],
   "source": [
    "salary=eval(input('enter the salary:'))\n",
    "tax=eval(input('enter the tax per:'))\n",
    "tax_amount=salary*tax/100\n",
    "print(f\"the amount of tax pay is {tax_amount}\")"
   ]
  },
  {
   "cell_type": "code",
   "execution_count": null,
   "id": "104682ab-a7fe-4e4f-9f87-e3c89b7ac31c",
   "metadata": {},
   "outputs": [],
   "source": [
    "#syntax\n",
    "\n",
    "# def <function_name>()\n",
    "#   <code starts here>"
   ]
  },
  {
   "cell_type": "code",
   "execution_count": 6,
   "id": "35d14b93-3162-435f-9e39-6f1ee488f7a1",
   "metadata": {},
   "outputs": [
    {
     "name": "stdout",
     "output_type": "stream",
     "text": [
      "60\n"
     ]
    }
   ],
   "source": [
    "n1=20\n",
    "n2=40\n",
    "add=n1+n2\n",
    "print(add)"
   ]
  },
  {
   "cell_type": "code",
   "execution_count": 7,
   "id": "1432f23d-4232-465e-8c66-54110e269e23",
   "metadata": {},
   "outputs": [],
   "source": [
    "def addition():\n",
    "    n1=20\n",
    "    n2=40\n",
    "    add=n1+n2\n",
    "    print(add)\n",
    "    "
   ]
  },
  {
   "cell_type": "code",
   "execution_count": 11,
   "id": "ca82f8a6-d3a6-46cb-81d0-195b33917abb",
   "metadata": {},
   "outputs": [
    {
     "name": "stdout",
     "output_type": "stream",
     "text": [
      "60\n"
     ]
    }
   ],
   "source": [
    "addition()"
   ]
  },
  {
   "cell_type": "markdown",
   "id": "c3259284-c997-4a95-b628-17a822e4a501",
   "metadata": {},
   "source": [
    "**mistakes**\n",
    "- first mistake you will forget the brackets while define functions\n",
    "- second mistake you will forget the colon\n",
    "- third mistake you will not give indentation\n",
    "- fourth mistake you will forget make the alligement after copying the code \n",
    "- fifth mistake variables name and function name must be different\n",
    "- sixth mistake while calling the function you will forget the brackets\n",
    "\n",
    "  **function also called method**\n",
    "- whenever function is there brackets must"
   ]
  },
  {
   "cell_type": "code",
   "execution_count": 14,
   "id": "92e04bcb-7d7e-4384-9bc0-39cf48523d0d",
   "metadata": {},
   "outputs": [
    {
     "ename": "SyntaxError",
     "evalue": "expected ':' (3123118321.py, line 1)",
     "output_type": "error",
     "traceback": [
      "\u001b[1;36m  Cell \u001b[1;32mIn[14], line 1\u001b[1;36m\u001b[0m\n\u001b[1;33m    def addition()\u001b[0m\n\u001b[1;37m                  ^\u001b[0m\n\u001b[1;31mSyntaxError\u001b[0m\u001b[1;31m:\u001b[0m expected ':'\n"
     ]
    }
   ],
   "source": [
    "def addition()\n",
    "    n1=20\n",
    "    n2=40\n",
    "    add=n1+n2\n",
    "    print(add)"
   ]
  },
  {
   "cell_type": "code",
   "execution_count": 15,
   "id": "96fd3695-e076-40f3-8fac-afd84dac2bee",
   "metadata": {},
   "outputs": [
    {
     "ename": "SyntaxError",
     "evalue": "expected '(' (1451706438.py, line 1)",
     "output_type": "error",
     "traceback": [
      "\u001b[1;36m  Cell \u001b[1;32mIn[15], line 1\u001b[1;36m\u001b[0m\n\u001b[1;33m    def addition\u001b[0m\n\u001b[1;37m                ^\u001b[0m\n\u001b[1;31mSyntaxError\u001b[0m\u001b[1;31m:\u001b[0m expected '('\n"
     ]
    }
   ],
   "source": [
    "def addition\n",
    "    n1=20\n",
    "    n2=40\n",
    "    add=n1+n2\n",
    "    print(add)"
   ]
  },
  {
   "cell_type": "code",
   "execution_count": 16,
   "id": "b21e5e4b-99de-4a26-a4e5-27e484c4ff6e",
   "metadata": {},
   "outputs": [
    {
     "ename": "IndentationError",
     "evalue": "expected an indented block after function definition on line 1 (924562174.py, line 2)",
     "output_type": "error",
     "traceback": [
      "\u001b[1;36m  Cell \u001b[1;32mIn[16], line 2\u001b[1;36m\u001b[0m\n\u001b[1;33m    n1=20\u001b[0m\n\u001b[1;37m    ^\u001b[0m\n\u001b[1;31mIndentationError\u001b[0m\u001b[1;31m:\u001b[0m expected an indented block after function definition on line 1\n"
     ]
    }
   ],
   "source": [
    "def addition():\n",
    "n1=20\n",
    "    n2=40\n",
    "    add=n1+n2\n",
    "    print(add)"
   ]
  },
  {
   "cell_type": "code",
   "execution_count": 17,
   "id": "91335e68-6590-42a0-977a-481f95458508",
   "metadata": {},
   "outputs": [
    {
     "name": "stdout",
     "output_type": "stream",
     "text": [
      "60\n"
     ]
    }
   ],
   "source": [
    "def addition():\n",
    "    n1=20\n",
    "    n2=40\n",
    "    add=n1+n2\n",
    "print(add)"
   ]
  },
  {
   "cell_type": "code",
   "execution_count": 18,
   "id": "47eee84f-5b8b-4a51-bf0e-cec87880be1f",
   "metadata": {},
   "outputs": [
    {
     "ename": "IndentationError",
     "evalue": "unexpected indent (950928650.py, line 5)",
     "output_type": "error",
     "traceback": [
      "\u001b[1;36m  Cell \u001b[1;32mIn[18], line 5\u001b[1;36m\u001b[0m\n\u001b[1;33m    print(add)\u001b[0m\n\u001b[1;37m    ^\u001b[0m\n\u001b[1;31mIndentationError\u001b[0m\u001b[1;31m:\u001b[0m unexpected indent\n"
     ]
    }
   ],
   "source": [
    "def addition():\n",
    "    n1=20\n",
    "    n2=40\n",
    "add=n1+n2\n",
    "    print(add)"
   ]
  },
  {
   "cell_type": "code",
   "execution_count": 19,
   "id": "50bf273f-ff26-4659-b8dd-b17f5edd2e33",
   "metadata": {},
   "outputs": [
    {
     "ename": "IndentationError",
     "evalue": "expected an indented block after function definition on line 1 (3313333367.py, line 2)",
     "output_type": "error",
     "traceback": [
      "\u001b[1;36m  Cell \u001b[1;32mIn[19], line 2\u001b[1;36m\u001b[0m\n\u001b[1;33m    n1=20\u001b[0m\n\u001b[1;37m    ^\u001b[0m\n\u001b[1;31mIndentationError\u001b[0m\u001b[1;31m:\u001b[0m expected an indented block after function definition on line 1\n"
     ]
    }
   ],
   "source": [
    "def addition():\n",
    "n1=20\n",
    "n2=40\n",
    "add=n1+n2\n",
    "    print(add)"
   ]
  },
  {
   "cell_type": "code",
   "execution_count": 20,
   "id": "d149f7c1-cea9-40a9-a314-84a725e804bc",
   "metadata": {},
   "outputs": [
    {
     "ename": "SyntaxError",
     "evalue": "Missing parentheses in call to 'print'. Did you mean print(...)? (2568111400.py, line 5)",
     "output_type": "error",
     "traceback": [
      "\u001b[1;36m  Cell \u001b[1;32mIn[20], line 5\u001b[1;36m\u001b[0m\n\u001b[1;33m    print add\u001b[0m\n\u001b[1;37m    ^\u001b[0m\n\u001b[1;31mSyntaxError\u001b[0m\u001b[1;31m:\u001b[0m Missing parentheses in call to 'print'. Did you mean print(...)?\n"
     ]
    }
   ],
   "source": [
    "def addition():\n",
    "    n1=20\n",
    "    n2=40\n",
    "    add=n1+n2\n",
    "    print add"
   ]
  },
  {
   "cell_type": "code",
   "execution_count": 25,
   "id": "7947b54e-6631-4932-aa25-3bc8d6b96414",
   "metadata": {},
   "outputs": [],
   "source": [
    "def add1():\n",
    "    n1=eval(input(\"enter the number1:\"))\n",
    "    n2=eval(input(\"enter the number2:\"))\n",
    "    add=n111+n2\n",
    "    print(add)"
   ]
  },
  {
   "cell_type": "code",
   "execution_count": 26,
   "id": "9388b15f-179a-4e2c-b8e8-ae06e56ca8f8",
   "metadata": {},
   "outputs": [
    {
     "name": "stdin",
     "output_type": "stream",
     "text": [
      "enter the number1: 20\n",
      "enter the number2: 40\n"
     ]
    },
    {
     "ename": "NameError",
     "evalue": "name 'n111' is not defined",
     "output_type": "error",
     "traceback": [
      "\u001b[1;31m---------------------------------------------------------------------------\u001b[0m",
      "\u001b[1;31mNameError\u001b[0m                                 Traceback (most recent call last)",
      "Cell \u001b[1;32mIn[26], line 1\u001b[0m\n\u001b[1;32m----> 1\u001b[0m add1()\n",
      "Cell \u001b[1;32mIn[25], line 4\u001b[0m, in \u001b[0;36madd1\u001b[1;34m()\u001b[0m\n\u001b[0;32m      2\u001b[0m n1\u001b[38;5;241m=\u001b[39m\u001b[38;5;28meval\u001b[39m(\u001b[38;5;28minput\u001b[39m(\u001b[38;5;124m\"\u001b[39m\u001b[38;5;124menter the number1:\u001b[39m\u001b[38;5;124m\"\u001b[39m))\n\u001b[0;32m      3\u001b[0m n2\u001b[38;5;241m=\u001b[39m\u001b[38;5;28meval\u001b[39m(\u001b[38;5;28minput\u001b[39m(\u001b[38;5;124m\"\u001b[39m\u001b[38;5;124menter the number2:\u001b[39m\u001b[38;5;124m\"\u001b[39m))\n\u001b[1;32m----> 4\u001b[0m add\u001b[38;5;241m=\u001b[39mn111\u001b[38;5;241m+\u001b[39mn2\n\u001b[0;32m      5\u001b[0m \u001b[38;5;28mprint\u001b[39m(add)\n",
      "\u001b[1;31mNameError\u001b[0m: name 'n111' is not defined"
     ]
    }
   ],
   "source": [
    "add1()"
   ]
  },
  {
   "cell_type": "markdown",
   "id": "4910ef4a-7b10-4425-ba23-7da4bf27621e",
   "metadata": {},
   "source": [
    "**note**\n",
    "- when we define function will not give the error\n",
    "- error will display after calling the fucntion only"
   ]
  },
  {
   "cell_type": "markdown",
   "id": "012e0dcc-8392-46c0-bb7e-36fb29116821",
   "metadata": {},
   "source": [
    "**method_1**\n",
    "\n",
    "**function without argument**\n",
    "\n",
    "- when we define function we will provide brackets\n",
    "- inside these brackets we can provide the values also\n",
    "- these values are called as **areguments** or **parameters**\n",
    "- if we dont provide arguments it is know as\n",
    "    - function with out arguments"
   ]
  },
  {
   "cell_type": "code",
   "execution_count": 31,
   "id": "2748fc3c-00b1-467b-afe9-d43f5991b88e",
   "metadata": {},
   "outputs": [],
   "source": [
    "#1Q)\n",
    "# create a function\n",
    "# read 3 numbers\n",
    "# find the average\n",
    "\n",
    "def avg():\n",
    "         n1=eval(input(\"enter the number1:\"))\n",
    "         n2=eval(input(\"enter the number2:\"))\n",
    "         n3=eval(input(\"enter the number2:\"))\n",
    "         avg=(n1+n2+n3)/3\n",
    "         print(avg)\n"
   ]
  },
  {
   "cell_type": "code",
   "execution_count": 32,
   "id": "ea5c7aae-1aec-4ffb-9e5b-4fde5b328d97",
   "metadata": {},
   "outputs": [
    {
     "name": "stdin",
     "output_type": "stream",
     "text": [
      "enter the number1: 5\n",
      "enter the number2: 10\n",
      "enter the number2: 6\n"
     ]
    },
    {
     "name": "stdout",
     "output_type": "stream",
     "text": [
      "7.0\n"
     ]
    }
   ],
   "source": [
    "avg()"
   ]
  },
  {
   "cell_type": "code",
   "execution_count": 4,
   "id": "f027bf0c-fd53-4aab-abe5-ebf4c7a7b7c3",
   "metadata": {},
   "outputs": [
    {
     "name": "stdin",
     "output_type": "stream",
     "text": [
      "enter the bill amount: 5000\n",
      "enter the tip percentage: 10\n"
     ]
    },
    {
     "name": "stdout",
     "output_type": "stream",
     "text": [
      "5500.0\n"
     ]
    }
   ],
   "source": [
    "#2Q)\n",
    "# create a function ask the user enter the bill amount\n",
    "# enter the tip per\n",
    "# calculate total bill pay\n",
    "\n",
    "def billing():\n",
    "    bill=eval(input(\"enter the bill amount:\"))\n",
    "    tip_per=eval(input(\"enter the tip percentage:\"))\n",
    "    tip_amount=(bill*tip_per)/100\n",
    "    total=bill+tip_amount\n",
    "    print(total)\n",
    "billing()\n",
    "    "
   ]
  },
  {
   "cell_type": "code",
   "execution_count": 6,
   "id": "dbab1ea2-302e-478d-a50b-8587e1cc4ac3",
   "metadata": {},
   "outputs": [
    {
     "name": "stdin",
     "output_type": "stream",
     "text": [
      "Enter radius of the circle 20\n"
     ]
    },
    {
     "name": "stdout",
     "output_type": "stream",
     "text": [
      "area of the circle is 1256.64\n"
     ]
    }
   ],
   "source": [
    "#3Q)\n",
    "# create a function ask the user enter the radius\n",
    "# calculate the area of the circle\n",
    "\n",
    "import math\n",
    "def circle():\n",
    "    r=eval(input(\"Enter radius of the circle\"))\n",
    "    pi=math.pi\n",
    "    area=round(pi*r*r,2)\n",
    "    print(f\"area of the circle is {area}\")\n",
    "circle()\n"
   ]
  },
  {
   "cell_type": "code",
   "execution_count": 8,
   "id": "84e976af-439c-4dc6-8541-14da34f0a692",
   "metadata": {},
   "outputs": [
    {
     "name": "stdin",
     "output_type": "stream",
     "text": [
      "Enter breadth:  10\n",
      "Enter height:  5.8\n"
     ]
    },
    {
     "name": "stdout",
     "output_type": "stream",
     "text": [
      "Area of the Triangle : 29.0\n"
     ]
    }
   ],
   "source": [
    "#4Q)\n",
    "# create a fucntion ask the user enter breadth and height\n",
    "# calculate area of the circle\n",
    "\n",
    "def areaOfTriangle():\n",
    "    breadth = eval(input('Enter breadth: '))\n",
    "    height = eval(input('Enter height: '))\n",
    "    area = round(breadth * height /2, 2)\n",
    "    print(f'Area of the Triangle : {area}')\n",
    "areaOfTriangle()"
   ]
  },
  {
   "cell_type": "code",
   "execution_count": 9,
   "id": "1842b01e-266b-4976-937c-3c1fb9ef17d1",
   "metadata": {},
   "outputs": [
    {
     "name": "stdin",
     "output_type": "stream",
     "text": [
      "Enter a number:  5\n"
     ]
    },
    {
     "name": "stdout",
     "output_type": "stream",
     "text": [
      "5 is an odd number\n"
     ]
    }
   ],
   "source": [
    "#5Q)\n",
    "# create a function ask the user enter a number find it is even or odd\n",
    "\n",
    "num = eval(input('Enter a number: '))\n",
    "if(num%2 == 0):\n",
    "    print(f'{num} is an even number')\n",
    "else:\n",
    "    print(f'{num} is an odd number')\n"
   ]
  },
  {
   "cell_type": "code",
   "execution_count": 12,
   "id": "053fedc4-6bab-4af1-9984-646a0a0d4095",
   "metadata": {},
   "outputs": [
    {
     "name": "stdin",
     "output_type": "stream",
     "text": [
      "Enter a number:  -50\n"
     ]
    },
    {
     "name": "stdout",
     "output_type": "stream",
     "text": [
      "-50 is a negative number\n"
     ]
    }
   ],
   "source": [
    "#6Q)\n",
    "# create a function ask the user find it is positive or negative or zero\n",
    "\n",
    "def positive_negative():\n",
    "    num = eval(input('Enter a number: '))\n",
    "    if(num>0):\n",
    "        print(f'{num} is a positive number')\n",
    "    elif(num==0):\n",
    "        print(f'{num} is a zero')\n",
    "    else:\n",
    "        print(f'{num} is a negative number')\n",
    "positive_negative()"
   ]
  },
  {
   "cell_type": "code",
   "execution_count": 13,
   "id": "b53e8c6e-4b60-4567-a89f-a49a84e8a6a2",
   "metadata": {},
   "outputs": [
    {
     "name": "stdin",
     "output_type": "stream",
     "text": [
      "Enter the number1: 5\n",
      "Enter the number2: 1\n",
      "Enter the number3: 6\n"
     ]
    },
    {
     "name": "stdout",
     "output_type": "stream",
     "text": [
      "6 is greatest\n"
     ]
    }
   ],
   "source": [
    "#7Q)\n",
    "# create a function ask the user enter threes numbers find the greatest number\n",
    "\n",
    "def greatest():\n",
    "    num1 = eval(input(\"Enter the number1:\"))\n",
    "    num2 = eval(input(\"Enter the number2:\"))\n",
    "    num3 = eval(input(\"Enter the number3:\"))\n",
    "    if num1>num2 and num1>num3:\n",
    "        print(f\"{num1} is greatest\")\n",
    "    elif num2>num3:\n",
    "        print(f\"{num2} is greatest\")\n",
    "    else:\n",
    "        print(f\"{num3} is greatest\")\n",
    "greatest()"
   ]
  },
  {
   "cell_type": "code",
   "execution_count": null,
   "id": "4f61b2ab-c57e-40a7-ab40-12964f37fb30",
   "metadata": {},
   "outputs": [],
   "source": [
    "def average():\n",
    "def billing():\n",
    "def circle():\n",
    "def areaOfTriangle():\n",
    "def eve_odd():\n",
    "def positive_negative():\n",
    "def greatest():"
   ]
  },
  {
   "cell_type": "markdown",
   "id": "c7e4de28-a8f5-414d-964c-48d049bfd8c9",
   "metadata": {},
   "source": [
    "**method_2**\n",
    "\n",
    "**function_with_argument**\n",
    "\n",
    "- how many variables are there in a given function\n",
    "   - input variables : user will provide\n",
    "   - suppose n1 and n2 are two input variables\n",
    "   - output variable: we are creating a new variable using input variable\n",
    "\n",
    "**concentarte on input variables**"
   ]
  },
  {
   "cell_type": "code",
   "execution_count": 37,
   "id": "53b23122-8862-4dd8-81aa-47bcbf65a699",
   "metadata": {},
   "outputs": [],
   "source": [
    "def add2(n1,n2):\n",
    "    add=n1+n2\n",
    "    print(add)"
   ]
  },
  {
   "cell_type": "code",
   "execution_count": 42,
   "id": "be7cd821-f49f-45d7-9899-f8698e4cfe69",
   "metadata": {},
   "outputs": [
    {
     "ename": "TypeError",
     "evalue": "add2() missing 1 required positional argument: 'n2'",
     "output_type": "error",
     "traceback": [
      "\u001b[1;31m---------------------------------------------------------------------------\u001b[0m",
      "\u001b[1;31mTypeError\u001b[0m                                 Traceback (most recent call last)",
      "Cell \u001b[1;32mIn[42], line 1\u001b[0m\n\u001b[1;32m----> 1\u001b[0m add2(\u001b[38;5;241m100\u001b[39m)\n",
      "\u001b[1;31mTypeError\u001b[0m: add2() missing 1 required positional argument: 'n2'"
     ]
    }
   ],
   "source": [
    "add2(100)"
   ]
  },
  {
   "cell_type": "code",
   "execution_count": 43,
   "id": "c5566ff4-6ed6-46b9-8771-8fb0bc200681",
   "metadata": {},
   "outputs": [],
   "source": [
    "def add2(n1,n2):\n",
    "    add=n1+n2\n",
    "    print(add)"
   ]
  },
  {
   "cell_type": "code",
   "execution_count": 44,
   "id": "8bf5adf7-dc77-4c38-bf76-52a34a0c0409",
   "metadata": {},
   "outputs": [
    {
     "name": "stdout",
     "output_type": "stream",
     "text": [
      "60\n"
     ]
    }
   ],
   "source": [
    "add2(10,50)"
   ]
  },
  {
   "cell_type": "code",
   "execution_count": 17,
   "id": "86dc7c9e-4583-4e7a-baec-13fd7bda1934",
   "metadata": {},
   "outputs": [
    {
     "name": "stdout",
     "output_type": "stream",
     "text": [
      "Average of 10, 20,30 is 20.0\n"
     ]
    }
   ],
   "source": [
    "def average(num1,num2,num3):\n",
    "    ave = round((num1+num2+num3)/3,2)\n",
    "    print(f'Average of {num1}, {num2},{num3} is {ave}')\n",
    "average(10,20,30)"
   ]
  },
  {
   "cell_type": "code",
   "execution_count": null,
   "id": "1be44ec4-a567-46f9-9e2c-d3ad85a8c049",
   "metadata": {},
   "outputs": [],
   "source": [
    "# Perform the with argumnets concept\n",
    "# all other 6 problems"
   ]
  },
  {
   "cell_type": "markdown",
   "id": "5dbb70ed-5b39-4352-9ee3-82c439f28c52",
   "metadata": {},
   "source": [
    "- function with out arguments\n",
    "- function with arguments"
   ]
  },
  {
   "cell_type": "code",
   "execution_count": 1,
   "id": "50cb94e9-4976-4835-9bbc-31e62b634be6",
   "metadata": {},
   "outputs": [
    {
     "name": "stdout",
     "output_type": "stream",
     "text": [
      "Average of 10, 20,30 is 20.0\n"
     ]
    }
   ],
   "source": [
    "#1Q)\n",
    "# create a function\n",
    "# read 3 numbers\n",
    "# find the average\n",
    "\n",
    "def average(num1,num2,num3):\n",
    "    ave = round((num1+num2+num3)/3,2)\n",
    "    print(f'Average of {num1}, {num2},{num3} is {ave}')\n",
    "average(10,20,30)\n"
   ]
  },
  {
   "cell_type": "code",
   "execution_count": 4,
   "id": "d9969ffe-5376-49b3-b02c-137761dd2c4c",
   "metadata": {},
   "outputs": [
    {
     "name": "stdout",
     "output_type": "stream",
     "text": [
      "num1: 10\n",
      "num2: 20\n"
     ]
    },
    {
     "name": "stdin",
     "output_type": "stream",
     "text": [
      "enter number3: 20\n"
     ]
    },
    {
     "name": "stdout",
     "output_type": "stream",
     "text": [
      "Average of 10, 20,20 is 16.67\n"
     ]
    }
   ],
   "source": [
    "def average(num1,num2):\n",
    "    print(\"num1:\",num1)\n",
    "    print(\"num2:\",num2)\n",
    "    num3=eval(input('enter number3:'))\n",
    "    ave=round((num1+num2+num3)/3,2)\n",
    "    print(f'Average of {num1}, {num2},{num3} is {ave}')\n",
    "average(10,20)"
   ]
  },
  {
   "cell_type": "code",
   "execution_count": 5,
   "id": "46d3c0b7-608d-47e3-9241-e3ecff0164d0",
   "metadata": {},
   "outputs": [
    {
     "ename": "TypeError",
     "evalue": "average() takes 1 positional argument but 2 were given",
     "output_type": "error",
     "traceback": [
      "\u001b[1;31m---------------------------------------------------------------------------\u001b[0m",
      "\u001b[1;31mTypeError\u001b[0m                                 Traceback (most recent call last)",
      "Cell \u001b[1;32mIn[5], line 6\u001b[0m\n\u001b[0;32m      4\u001b[0m     ave\u001b[38;5;241m=\u001b[39m\u001b[38;5;28mround\u001b[39m((num1\u001b[38;5;241m+\u001b[39mnum2\u001b[38;5;241m+\u001b[39mnum3)\u001b[38;5;241m/\u001b[39m\u001b[38;5;241m3\u001b[39m,\u001b[38;5;241m2\u001b[39m)\n\u001b[0;32m      5\u001b[0m     \u001b[38;5;28mprint\u001b[39m(\u001b[38;5;124mf\u001b[39m\u001b[38;5;124m'\u001b[39m\u001b[38;5;124mAverage of \u001b[39m\u001b[38;5;132;01m{\u001b[39;00mnum1\u001b[38;5;132;01m}\u001b[39;00m\u001b[38;5;124m, \u001b[39m\u001b[38;5;132;01m{\u001b[39;00mnum2\u001b[38;5;132;01m}\u001b[39;00m\u001b[38;5;124m,\u001b[39m\u001b[38;5;132;01m{\u001b[39;00mnum3\u001b[38;5;132;01m}\u001b[39;00m\u001b[38;5;124m is \u001b[39m\u001b[38;5;132;01m{\u001b[39;00mave\u001b[38;5;132;01m}\u001b[39;00m\u001b[38;5;124m'\u001b[39m)\n\u001b[1;32m----> 6\u001b[0m average(\u001b[38;5;241m10\u001b[39m,\u001b[38;5;241m20\u001b[39m)\n",
      "\u001b[1;31mTypeError\u001b[0m: average() takes 1 positional argument but 2 were given"
     ]
    }
   ],
   "source": [
    "def average(num1):\n",
    "    print(\"num1:\",num1)\n",
    "    num3=eval(input('enter number3:'))\n",
    "    ave=round((num1+num2+num3)/3,2)\n",
    "    print(f'Average of {num1}, {num2},{num3} is {ave}')\n",
    "average(10,20)"
   ]
  },
  {
   "cell_type": "code",
   "execution_count": 6,
   "id": "2030707e-6a42-4bc8-8ad9-799d8ccb2821",
   "metadata": {},
   "outputs": [
    {
     "name": "stdout",
     "output_type": "stream",
     "text": [
      "num1: 10\n"
     ]
    },
    {
     "name": "stdin",
     "output_type": "stream",
     "text": [
      "enter number2: 50\n",
      "enter number3: 20\n"
     ]
    },
    {
     "name": "stdout",
     "output_type": "stream",
     "text": [
      "Average of 10, 50,20 is 26.67\n"
     ]
    }
   ],
   "source": [
    "def average(num1,num2):\n",
    "    print(\"num1:\",num1)\n",
    "    num2=eval(input('enter number2:'))\n",
    "    num3=eval(input('enter number3:'))\n",
    "    ave=round((num1+num2+num3)/3,2)\n",
    "    print(f'Average of {num1}, {num2},{num3} is {ave}')\n",
    "average(10,20)"
   ]
  },
  {
   "cell_type": "code",
   "execution_count": 25,
   "id": "a8d61c5f-fa9b-4e8f-bb2c-150c57b1ce3e",
   "metadata": {},
   "outputs": [
    {
     "name": "stdin",
     "output_type": "stream",
     "text": [
      "enter number1: 10\n",
      "enter the number2: 20\n"
     ]
    },
    {
     "name": "stdout",
     "output_type": "stream",
     "text": [
      "num1: 10\n"
     ]
    },
    {
     "name": "stdin",
     "output_type": "stream",
     "text": [
      "enter number3: 30\n"
     ]
    },
    {
     "name": "stdout",
     "output_type": "stream",
     "text": [
      "Average of 10, 20,30 is 20.0\n"
     ]
    }
   ],
   "source": [
    "import random\n",
    "def average(num1,num2):\n",
    "    print(\"num1:\",num1)\n",
    "    num3=eval(input('enter number3:'))\n",
    "    ave=round((num1+num2+num3)/3,2)\n",
    "    print(f'Average of {num1}, {num2},{num3} is {ave}')\n",
    "average(eval(input(\"enter number1:\")),eval(input(\"enter the number2:\")))"
   ]
  },
  {
   "cell_type": "code",
   "execution_count": 26,
   "id": "85f19ed5-3340-4657-b5be-139da2ea51ab",
   "metadata": {},
   "outputs": [
    {
     "ename": "TypeError",
     "evalue": "average() missing 1 required positional argument: 'num2'",
     "output_type": "error",
     "traceback": [
      "\u001b[1;31m---------------------------------------------------------------------------\u001b[0m",
      "\u001b[1;31mTypeError\u001b[0m                                 Traceback (most recent call last)",
      "Cell \u001b[1;32mIn[26], line 1\u001b[0m\n\u001b[1;32m----> 1\u001b[0m average(\u001b[38;5;241m10\u001b[39m)\n\u001b[0;32m      2\u001b[0m average(\u001b[38;5;28meval\u001b[39m(\u001b[38;5;28minput\u001b[39m(\u001b[38;5;124m\"\u001b[39m\u001b[38;5;124menter the number:\u001b[39m\u001b[38;5;124m\"\u001b[39m)))\n\u001b[0;32m      3\u001b[0m average(random\u001b[38;5;241m.\u001b[39mrandint)\n",
      "\u001b[1;31mTypeError\u001b[0m: average() missing 1 required positional argument: 'num2'"
     ]
    }
   ],
   "source": [
    "average(10)\n",
    "average(eval(input(\"enter the number:\")))\n",
    "average(random.randint)"
   ]
  },
  {
   "cell_type": "code",
   "execution_count": null,
   "id": "1479417e-1237-4537-b2c9-620c9565c237",
   "metadata": {},
   "outputs": [],
   "source": [
    "#2Q) (with arguments)\n",
    "# create a function ask the user enter the bill amount\n",
    "# enter the tip per\n",
    "# calculate total bill pay\n",
    "\n",
    "def billing():\n",
    "    bill=eval(input(\"enter the bill amount:\"))\n",
    "    tip_per=eval(input(\"enter the tip percentage:\"))\n",
    "    tip_amount=(bill*tip_per)/100\n",
    "    total=bill+tip_amount\n",
    "    print(total)\n",
    "billing()"
   ]
  },
  {
   "cell_type": "code",
   "execution_count": 27,
   "id": "dc83f93f-b25e-48dc-a579-2c4bf35cff14",
   "metadata": {},
   "outputs": [
    {
     "name": "stdin",
     "output_type": "stream",
     "text": [
      "enter the bill amount: 1000\n",
      "enter the tip percentage: 1\n"
     ]
    },
    {
     "name": "stdout",
     "output_type": "stream",
     "text": [
      "1010.0\n"
     ]
    }
   ],
   "source": [
    "def billing(bill,tip_per):                            (#with arguments)\n",
    "    tip_amount=(bill*tip_per)/100\n",
    "    total=bill+tip_amount\n",
    "    print(total)\n",
    "billing(eval(input(\"enter the bill amount:\")),eval(input(\"enter the tip percentage:\")))"
   ]
  },
  {
   "cell_type": "code",
   "execution_count": 28,
   "id": "ef5564a3-3b77-4fa1-88b6-ad50403765c0",
   "metadata": {},
   "outputs": [
    {
     "name": "stdin",
     "output_type": "stream",
     "text": [
      "Enter radius of the circle 5\n"
     ]
    },
    {
     "name": "stdout",
     "output_type": "stream",
     "text": [
      "area of the circle is 78.54\n"
     ]
    }
   ],
   "source": [
    "#3Q)             (#with arguments)\n",
    "# create a function ask the user enter the radius\n",
    "# calculate the area of the circle\n",
    "(#1st method)\n",
    "import math\n",
    "def circle(r):\n",
    "    pi=math.pi\n",
    "    area=round(pi*r*r,2)\n",
    "    print(f\"area of the circle is {area}\")\n",
    "circle(eval(input(\"Enter radius of the circle\")))\n"
   ]
  },
  {
   "cell_type": "code",
   "execution_count": 31,
   "id": "0c7a7885-5d7d-4f2c-be5d-c2a66304a650",
   "metadata": {},
   "outputs": [
    {
     "name": "stdout",
     "output_type": "stream",
     "text": [
      "area of the circle is 314.16\n"
     ]
    }
   ],
   "source": [
    "#2nd method\n",
    "circle(random.randint(10,20))"
   ]
  },
  {
   "cell_type": "code",
   "execution_count": 32,
   "id": "ae406e54-9f0b-4d6b-9640-4427619eab6f",
   "metadata": {},
   "outputs": [
    {
     "name": "stdout",
     "output_type": "stream",
     "text": [
      "area of the circle is 314.16\n"
     ]
    }
   ],
   "source": [
    "#3rd method (direct)\n",
    "circle(10)"
   ]
  },
  {
   "cell_type": "code",
   "execution_count": 30,
   "id": "5060fd39-d151-4c9a-a632-74206e791dce",
   "metadata": {},
   "outputs": [
    {
     "name": "stdin",
     "output_type": "stream",
     "text": [
      "Enter breadth:  5\n",
      "Enter height:  2\n"
     ]
    },
    {
     "name": "stdout",
     "output_type": "stream",
     "text": [
      "Area of the Triangle : 5.0\n"
     ]
    }
   ],
   "source": [
    "#4Q)\n",
    "# create a fucntion ask the user enter breadth and height\n",
    "# calculate area of the circle\n",
    "\n",
    "def areaOfTriangle(breadth,height):\n",
    "    area = round(breadth * height /2, 2)\n",
    "    print(f'Area of the Triangle : {area}')\n",
    "areaOfTriangle(eval(input('Enter breadth: ')),eval(input('Enter height: ')))"
   ]
  },
  {
   "cell_type": "code",
   "execution_count": 37,
   "id": "9e0b600e-2e72-4b5b-b36f-e5a34526e572",
   "metadata": {},
   "outputs": [
    {
     "ename": "NameError",
     "evalue": "name 'area' is not defined",
     "output_type": "error",
     "traceback": [
      "\u001b[1;31m---------------------------------------------------------------------------\u001b[0m",
      "\u001b[1;31mNameError\u001b[0m                                 Traceback (most recent call last)",
      "Cell \u001b[1;32mIn[37], line 1\u001b[0m\n\u001b[1;32m----> 1\u001b[0m area(random\u001b[38;5;241m.\u001b[39mrandint(\u001b[38;5;241m5\u001b[39m,\u001b[38;5;241m2\u001b[39m))\n",
      "\u001b[1;31mNameError\u001b[0m: name 'area' is not defined"
     ]
    }
   ],
   "source": [
    "area(random.randint(5,2))"
   ]
  },
  {
   "cell_type": "markdown",
   "id": "91811bda-1261-47be-92cd-c70c6bcfe51e",
   "metadata": {},
   "source": [
    "**Default_Arguments**\n",
    "\n",
    "- arguments value is fixed"
   ]
  },
  {
   "cell_type": "code",
   "execution_count": 38,
   "id": "495d5f13-ac1b-4e32-935c-97be1b460117",
   "metadata": {},
   "outputs": [
    {
     "name": "stdout",
     "output_type": "stream",
     "text": [
      "the bill is: 1000\n",
      "the tip per is: 10\n",
      "1100.0\n"
     ]
    }
   ],
   "source": [
    "#2Q) \n",
    "# create a function ask the user enter the bill amount\n",
    "# enter the tip per\n",
    "# calculate total bill pay\n",
    "\n",
    "def billing(bill,tip_per=10):\n",
    "    print(\"the bill is:\",bill)\n",
    "    print(\"the tip per is:\",tip_per)\n",
    "    tip_amount=(bill*tip_per)/100\n",
    "    total=bill+tip_amount\n",
    "    print(total)\n",
    "billing(1000)"
   ]
  },
  {
   "cell_type": "markdown",
   "id": "55efc360-544e-4ea6-a396-d92711708094",
   "metadata": {},
   "source": [
    "**case_1**\n",
    "\n",
    "- all the arguments are default\n",
    "- so no need to pass the value while calling the function"
   ]
  },
  {
   "cell_type": "code",
   "execution_count": 43,
   "id": "5a946fc4-4695-4725-82f7-4ebbdf1a5653",
   "metadata": {},
   "outputs": [
    {
     "name": "stdout",
     "output_type": "stream",
     "text": [
      "the bill is: 1000\n",
      "the tip per is: 10\n",
      "1100.0\n"
     ]
    }
   ],
   "source": [
    "#2Q) \n",
    "# create a function ask the user enter the bill amount\n",
    "# enter the tip per\n",
    "# calculate total bill pay\n",
    "\n",
    "def billing(bill=1000,tip_per=10):\n",
    "    print(\"the bill is:\",bill)\n",
    "    print(\"the tip per is:\",tip_per)\n",
    "    tip_amount=(bill*tip_per)/100\n",
    "    total=bill+tip_amount\n",
    "    print(total)\n",
    "billing(1000)"
   ]
  },
  {
   "cell_type": "markdown",
   "id": "854f4952-1a4c-4cba-9bd4-b423d37a3811",
   "metadata": {},
   "source": [
    "**case_2**\n",
    "\n",
    "- all default parameters should assign after non default arguments\n"
   ]
  },
  {
   "cell_type": "code",
   "execution_count": 48,
   "id": "4ab32747-871f-46af-b401-1d146645c1ca",
   "metadata": {},
   "outputs": [
    {
     "ename": "SyntaxError",
     "evalue": "non-default argument follows default argument (2876191154.py, line 5)",
     "output_type": "error",
     "traceback": [
      "\u001b[1;36m  Cell \u001b[1;32mIn[48], line 5\u001b[1;36m\u001b[0m\n\u001b[1;33m    def billing(bill=1000,tip_per):\u001b[0m\n\u001b[1;37m                          ^\u001b[0m\n\u001b[1;31mSyntaxError\u001b[0m\u001b[1;31m:\u001b[0m non-default argument follows default argument\n"
     ]
    }
   ],
   "source": [
    "#here non default argument : tip_per\n",
    "# assigned after default argument: bill=1000\n",
    "# when we call the function will assign the value for bill only\n",
    "\n",
    "def billing(bill=1000,tip_per):\n",
    "    print(\"the bill is:\",bill)\n",
    "    print(\"the tip per is:\",tip_per)\n",
    "    tip_amount=(bill*tip_per)/100\n",
    "    total=bill+tip_amount\n",
    "    print(total)\n",
    "billing(10)"
   ]
  },
  {
   "cell_type": "code",
   "execution_count": 49,
   "id": "9830942e-de04-436f-bd24-e4bb2a4dfbfc",
   "metadata": {},
   "outputs": [
    {
     "name": "stdout",
     "output_type": "stream",
     "text": [
      "the bill is: 1000\n",
      "the tip per is: 10\n",
      "1100.0\n"
     ]
    }
   ],
   "source": [
    "def billing(tip_per,bill=1000):\n",
    "    print(\"the bill is:\",bill)\n",
    "    print(\"the tip per is:\",tip_per)\n",
    "    tip_amount=(bill*tip_per)/100\n",
    "    total=bill+tip_amount\n",
    "    print(total)\n",
    "billing(10)"
   ]
  },
  {
   "cell_type": "markdown",
   "id": "5d52aaaf-de03-4609-8860-194e9986dd0a",
   "metadata": {},
   "source": [
    "**case_3**\n",
    "\n",
    "- Default arguments values will be override"
   ]
  },
  {
   "cell_type": "code",
   "execution_count": 56,
   "id": "076d434e-e635-4f49-9382-5845b1879625",
   "metadata": {},
   "outputs": [
    {
     "name": "stdout",
     "output_type": "stream",
     "text": [
      "the bill is: 1000\n",
      "the tip per is: 20\n",
      "1200.0\n"
     ]
    }
   ],
   "source": [
    "def billing(bill,tip_per=10):\n",
    "    print(\"the bill is:\",bill)\n",
    "    print(\"the tip per is:\",tip_per)\n",
    "    tip_amount=(bill*tip_per)/100\n",
    "    total=bill+tip_amount\n",
    "    print(total)\n",
    "billing(1000,20)"
   ]
  },
  {
   "cell_type": "code",
   "execution_count": 57,
   "id": "cb183c0c-24a8-4705-9a33-d99b3b1f7a26",
   "metadata": {},
   "outputs": [
    {
     "name": "stdout",
     "output_type": "stream",
     "text": [
      "the bill is: 1000\n",
      "the tip per is: 20\n",
      "1200.0\n"
     ]
    }
   ],
   "source": [
    "def billing(bill=1000,tip_per=10):\n",
    "    print(\"the bill is:\",bill)\n",
    "    print(\"the tip per is:\",tip_per)\n",
    "    tip_amount=(bill*tip_per)/100\n",
    "    total=bill+tip_amount\n",
    "    print(total)\n",
    "billing(1000,20)"
   ]
  },
  {
   "cell_type": "code",
   "execution_count": 59,
   "id": "e0755a5d-e8f1-4bb8-87ca-1df15c580f08",
   "metadata": {},
   "outputs": [
    {
     "name": "stdout",
     "output_type": "stream",
     "text": [
      "the bill is: 5000\n",
      "the tip per is: 20\n",
      "6000.0\n"
     ]
    }
   ],
   "source": [
    "def billing(bill=1000,tip_per=10):\n",
    "    bill=5000\n",
    "    print(\"the bill is:\",bill)\n",
    "    print(\"the tip per is:\",tip_per)\n",
    "    tip_amount=(bill*tip_per)/100\n",
    "    total=bill+tip_amount\n",
    "    print(total)\n",
    "billing(2000,20)"
   ]
  },
  {
   "cell_type": "code",
   "execution_count": null,
   "id": "49abdc06-52a2-4673-b24d-64cd3894b2dc",
   "metadata": {},
   "outputs": [],
   "source": [
    "# step-1: define the function\n",
    "# step-2: call the function\n",
    "# step-3: run the function"
   ]
  },
  {
   "cell_type": "code",
   "execution_count": 62,
   "id": "5e484d14-0795-4832-9ff6-ceb742239963",
   "metadata": {},
   "outputs": [
    {
     "name": "stdout",
     "output_type": "stream",
     "text": [
      "the bill is: 5000\n",
      "the tip per is: 40\n",
      "7000.0\n"
     ]
    }
   ],
   "source": [
    "def billing(bill=1000,tip_per=20):\n",
    "    bill=5000\n",
    "    print(\"the bill is:\",bill)\n",
    "    print(\"the tip per is:\",tip_per)\n",
    "    tip_amount=(bill*tip_per)/100\n",
    "    total=bill+tip_amount\n",
    "    print(total)\n",
    "bill=7000\n",
    "billing(2000,40)"
   ]
  },
  {
   "cell_type": "code",
   "execution_count": 63,
   "id": "12153b21-c46c-4588-9efe-8059b9377ba5",
   "metadata": {},
   "outputs": [
    {
     "name": "stdout",
     "output_type": "stream",
     "text": [
      "the bill is: 2000\n",
      "the tip per is: 40\n",
      "2800.0\n"
     ]
    }
   ],
   "source": [
    "def billing(bill=1000,tip_per=20):\n",
    "    print(\"the bill is:\",bill)\n",
    "    print(\"the tip per is:\",tip_per)\n",
    "    tip_amount=(bill*tip_per)/100\n",
    "    total=bill+tip_amount\n",
    "    print(total)\n",
    "bill=7000\n",
    "billing(2000,40)"
   ]
  },
  {
   "cell_type": "code",
   "execution_count": 64,
   "id": "c5802171-f4ea-4bd6-997d-0f07afad0e46",
   "metadata": {},
   "outputs": [
    {
     "name": "stdout",
     "output_type": "stream",
     "text": [
      "the bill is: 2000\n",
      "the tip per is: 40\n",
      "2800.0\n"
     ]
    }
   ],
   "source": [
    "bill=8000\n",
    "def billing(bill=1000,tip_per=20):\n",
    "    print(\"the bill is:\",bill)\n",
    "    print(\"the tip per is:\",tip_per)\n",
    "    tip_amount=(bill*tip_per)/100\n",
    "    total=bill+tip_amount\n",
    "    print(total)\n",
    "bill=7000\n",
    "billing(2000,40)"
   ]
  },
  {
   "cell_type": "code",
   "execution_count": null,
   "id": "e5aad158-0c5f-4d04-92c7-e1d47a635643",
   "metadata": {},
   "outputs": [],
   "source": [
    "#8000\n",
    "#1000\n",
    "#7000\n",
    "#2000"
   ]
  },
  {
   "cell_type": "code",
   "execution_count": 66,
   "id": "3f71ac7f-04f4-4450-925d-abfe94b58e7a",
   "metadata": {},
   "outputs": [
    {
     "name": "stdout",
     "output_type": "stream",
     "text": [
      "the bill is: 7000\n",
      "the tip per is: 40\n",
      "9800.0\n"
     ]
    }
   ],
   "source": [
    "bill=8000\n",
    "def billing(tip_per=20):                (#global and local variable concept)\n",
    "    print(\"the bill is:\",bill)\n",
    "    print(\"the tip per is:\",tip_per)\n",
    "    tip_amount=(bill*tip_per)/100\n",
    "    total=bill+tip_amount\n",
    "    print(total)\n",
    "bill=7000\n",
    "billing(40)"
   ]
  },
  {
   "cell_type": "markdown",
   "id": "f297230d-b78c-4db7-9718-d46e83d93508",
   "metadata": {},
   "source": [
    "**global variable - local variable**\n",
    "\n",
    "- local variable means th variables defined inside the fun\n",
    "- local var can not access outside the fun\n",
    "- global var means the var define outside the fun\n",
    "- global var can access anywhere anytime"
   ]
  },
  {
   "cell_type": "code",
   "execution_count": 67,
   "id": "a21b836a-64f2-42c7-82ac-e349eb20a57b",
   "metadata": {},
   "outputs": [
    {
     "name": "stdout",
     "output_type": "stream",
     "text": [
      "30\n"
     ]
    }
   ],
   "source": [
    "def addition():\n",
    "    n1=10\n",
    "    n2=20\n",
    "    print(n1+n2)\n",
    "addition()    "
   ]
  },
  {
   "cell_type": "code",
   "execution_count": 68,
   "id": "68b41b9e-9202-4a9b-a6ed-ee1b125f0490",
   "metadata": {},
   "outputs": [
    {
     "name": "stdout",
     "output_type": "stream",
     "text": [
      "30\n"
     ]
    }
   ],
   "source": [
    "#local inside the function\n",
    "\n",
    "def addition():            \n",
    "    number1=10\n",
    "    number2=20\n",
    "    print(number1+number2)\n",
    "addition() "
   ]
  },
  {
   "cell_type": "code",
   "execution_count": 69,
   "id": "3d63f933-4c6b-49e2-8617-0d8c3590bfb8",
   "metadata": {},
   "outputs": [
    {
     "ename": "NameError",
     "evalue": "name 'number1' is not defined",
     "output_type": "error",
     "traceback": [
      "\u001b[1;31m---------------------------------------------------------------------------\u001b[0m",
      "\u001b[1;31mNameError\u001b[0m                                 Traceback (most recent call last)",
      "Cell \u001b[1;32mIn[69], line 1\u001b[0m\n\u001b[1;32m----> 1\u001b[0m number1\n",
      "\u001b[1;31mNameError\u001b[0m: name 'number1' is not defined"
     ]
    }
   ],
   "source": [
    "number1"
   ]
  },
  {
   "cell_type": "code",
   "execution_count": 73,
   "id": "34f41a11-0c23-443c-a810-19710840169b",
   "metadata": {},
   "outputs": [
    {
     "name": "stdout",
     "output_type": "stream",
     "text": [
      "300\n"
     ]
    }
   ],
   "source": [
    "#global \n",
    "\n",
    "n1=100\n",
    "n2=200\n",
    "def addition():\n",
    "    print(n1+n2)\n",
    "addition() "
   ]
  },
  {
   "cell_type": "code",
   "execution_count": 74,
   "id": "bd721568-f186-4934-925c-b66c03c00599",
   "metadata": {},
   "outputs": [
    {
     "data": {
      "text/plain": [
       "100"
      ]
     },
     "execution_count": 74,
     "metadata": {},
     "output_type": "execute_result"
    }
   ],
   "source": [
    "n1"
   ]
  },
  {
   "cell_type": "code",
   "execution_count": 75,
   "id": "0900b9eb-e9f6-4eea-92de-c75bed52ef74",
   "metadata": {},
   "outputs": [
    {
     "data": {
      "text/plain": [
       "200"
      ]
     },
     "execution_count": 75,
     "metadata": {},
     "output_type": "execute_result"
    }
   ],
   "source": [
    "n2"
   ]
  },
  {
   "cell_type": "code",
   "execution_count": 76,
   "id": "555a6356-f5b9-4e52-a14b-6a8a34de2318",
   "metadata": {},
   "outputs": [
    {
     "name": "stdout",
     "output_type": "stream",
     "text": [
      "300\n",
      "20000\n"
     ]
    }
   ],
   "source": [
    "n1=100\n",
    "n2=200\n",
    "def addition():\n",
    "    print(n1+n2)\n",
    "addition() \n",
    "def mul():\n",
    "    print(n1*n2)\n",
    "mul()    "
   ]
  },
  {
   "cell_type": "code",
   "execution_count": 78,
   "id": "d7d8c1f0-3bb4-4334-851d-0ce0c8b5b78d",
   "metadata": {},
   "outputs": [
    {
     "name": "stdout",
     "output_type": "stream",
     "text": [
      "number1: 100\n",
      "number2: 200\n",
      "300\n"
     ]
    }
   ],
   "source": [
    "n1=100\n",
    "n2=200\n",
    "def addition():\n",
    "    number11=100\n",
    "    number22=200\n",
    "    print(\"number1:\",number11)\n",
    "    print(\"number2:\",number22)\n",
    "    add=number11+number22\n",
    "    print(add)\n",
    "number11=100\n",
    "number22=200\n",
    "addition() "
   ]
  },
  {
   "cell_type": "code",
   "execution_count": 84,
   "id": "d521bf39-9b5e-4c2a-a288-feb628d0c3cf",
   "metadata": {},
   "outputs": [
    {
     "name": "stdout",
     "output_type": "stream",
     "text": [
      "number1: 1000\n",
      "number2: 500\n",
      "1500\n"
     ]
    }
   ],
   "source": [
    "n1=100\n",
    "n2=200\n",
    "def addition(number22):\n",
    "    number11=1000\n",
    "    print(\"number1:\",number11)\n",
    "    print(\"number2:\",number22)\n",
    "    add=number11+number22\n",
    "    print(add)\n",
    "number11=1000\n",
    "number22=2000\n",
    "addition(500) "
   ]
  },
  {
   "cell_type": "code",
   "execution_count": 86,
   "id": "ff8b18dd-95f1-4460-9731-01de8e41e6fd",
   "metadata": {},
   "outputs": [
    {
     "name": "stdout",
     "output_type": "stream",
     "text": [
      "30\n"
     ]
    }
   ],
   "source": [
    "def addition():\n",
    "    number_one=10\n",
    "    number_two=20\n",
    "    print(number_one+number_two)\n",
    "addition()"
   ]
  },
  {
   "cell_type": "code",
   "execution_count": 87,
   "id": "e072a3fe-00f3-4ae5-b722-7c5b9dae00c0",
   "metadata": {},
   "outputs": [
    {
     "ename": "NameError",
     "evalue": "name 'number_one' is not defined",
     "output_type": "error",
     "traceback": [
      "\u001b[1;31m---------------------------------------------------------------------------\u001b[0m",
      "\u001b[1;31mNameError\u001b[0m                                 Traceback (most recent call last)",
      "Cell \u001b[1;32mIn[87], line 1\u001b[0m\n\u001b[1;32m----> 1\u001b[0m number_one\n",
      "\u001b[1;31mNameError\u001b[0m: name 'number_one' is not defined"
     ]
    }
   ],
   "source": [
    "number_one"
   ]
  },
  {
   "cell_type": "code",
   "execution_count": 88,
   "id": "34092b92-c8a5-491c-8179-64198d4aad36",
   "metadata": {},
   "outputs": [
    {
     "name": "stdout",
     "output_type": "stream",
     "text": [
      "30\n"
     ]
    }
   ],
   "source": [
    "def addition():\n",
    "    global number_one\n",
    "    number_one=10\n",
    "    number_two=20\n",
    "    print(number_one+number_two)\n",
    "addition()"
   ]
  },
  {
   "cell_type": "code",
   "execution_count": 92,
   "id": "2300a1ab-1759-4e1f-9768-f45477a329ae",
   "metadata": {},
   "outputs": [
    {
     "ename": "NameError",
     "evalue": "name 'number_one1' is not defined",
     "output_type": "error",
     "traceback": [
      "\u001b[1;31m---------------------------------------------------------------------------\u001b[0m",
      "\u001b[1;31mNameError\u001b[0m                                 Traceback (most recent call last)",
      "Cell \u001b[1;32mIn[92], line 6\u001b[0m\n\u001b[0;32m      4\u001b[0m     number_two\u001b[38;5;241m=\u001b[39m\u001b[38;5;241m20\u001b[39m\n\u001b[0;32m      5\u001b[0m     \u001b[38;5;28mprint\u001b[39m(number_one1\u001b[38;5;241m+\u001b[39mnumber_two)\n\u001b[1;32m----> 6\u001b[0m \u001b[38;5;28mprint\u001b[39m(number_one1)    \n\u001b[0;32m      7\u001b[0m addition()\n",
      "\u001b[1;31mNameError\u001b[0m: name 'number_one1' is not defined"
     ]
    }
   ],
   "source": [
    "def addition():\n",
    "    global number_one1\n",
    "    number_one1=10\n",
    "    number_two=20\n",
    "    print(number_one1+number_two)\n",
    "print(number_one1)    \n",
    "addition()"
   ]
  },
  {
   "cell_type": "code",
   "execution_count": 93,
   "id": "8c8523fe-7824-427d-8a84-7bfe11e17cf1",
   "metadata": {},
   "outputs": [
    {
     "name": "stdout",
     "output_type": "stream",
     "text": [
      "30\n",
      "10\n"
     ]
    }
   ],
   "source": [
    "def addition():\n",
    "    global number_one1\n",
    "    number_one1=10\n",
    "    number_two=20\n",
    "    print(number_one1+number_two)\n",
    "addition()\n",
    "print(number_one1)    \n"
   ]
  },
  {
   "cell_type": "markdown",
   "id": "c51602fd-72c9-40ae-bfae-307b5b86a644",
   "metadata": {},
   "source": [
    "we done\n",
    "- function with out arguments\n",
    "- function with arguments\n",
    "- function with default arguments\n",
    "- lacal variable and global variable"
   ]
  },
  {
   "cell_type": "code",
   "execution_count": 1,
   "id": "a1cda0ca-3f2b-4f9d-8cd1-62855155aaf7",
   "metadata": {},
   "outputs": [
    {
     "name": "stdout",
     "output_type": "stream",
     "text": [
      "Average of 10, 20,30 is 20.0\n"
     ]
    }
   ],
   "source": [
    "def average(num1,num2,num3):                            (#with arguments)\n",
    "    ave = round((num1+num2+num3)/3,2)\n",
    "    print(f'Average of {num1}, {num2},{num3} is {ave}')\n",
    "average(10,20,30)"
   ]
  },
  {
   "cell_type": "code",
   "execution_count": 2,
   "id": "c3fa736d-bf3f-451d-a4c5-be87fa88a45d",
   "metadata": {},
   "outputs": [
    {
     "name": "stdin",
     "output_type": "stream",
     "text": [
      "enter number1: 50\n",
      "enter the number2: 10\n"
     ]
    },
    {
     "name": "stdout",
     "output_type": "stream",
     "text": [
      "num1: 50\n"
     ]
    },
    {
     "name": "stdin",
     "output_type": "stream",
     "text": [
      "enter number3: 20\n"
     ]
    },
    {
     "name": "stdout",
     "output_type": "stream",
     "text": [
      "Average of 50, 10,20 is 26.67\n"
     ]
    }
   ],
   "source": [
    "import random\n",
    "def average(num1,num2):\n",
    "    print(\"num1:\",num1)\n",
    "    num3=eval(input('enter number3:'))\n",
    "    ave=round((num1+num2+num3)/3,2)\n",
    "    print(f'Average of {num1}, {num2},{num3} is {ave}')\n",
    "average(eval(input(\"enter number1:\")),eval(input(\"enter the number2:\")))"
   ]
  },
  {
   "cell_type": "code",
   "execution_count": 4,
   "id": "c4ea08e3-6e0e-4537-856d-649a7545bcc8",
   "metadata": {},
   "outputs": [
    {
     "name": "stdout",
     "output_type": "stream",
     "text": [
      "Average of 10, 20,50 is 26.67\n"
     ]
    }
   ],
   "source": [
    "def average(num1,num2,num3=50):                            #with arguments\n",
    "    ave = round((num1+num2+num3)/3,2)\n",
    "    print(f'Average of {num1}, {num2},{num3} is {ave}')\n",
    "average(10,20)"
   ]
  },
  {
   "cell_type": "code",
   "execution_count": 5,
   "id": "59ba88d4-0a27-4182-bb6b-21fad1e5febc",
   "metadata": {},
   "outputs": [
    {
     "name": "stdout",
     "output_type": "stream",
     "text": [
      "40\n"
     ]
    }
   ],
   "source": [
    "def add():\n",
    "    print(a+b)\n",
    "a=10\n",
    "b=30\n",
    "add()"
   ]
  },
  {
   "cell_type": "code",
   "execution_count": 6,
   "id": "3f55845c-f394-4f27-8088-e1b4dc1552e9",
   "metadata": {},
   "outputs": [
    {
     "name": "stdout",
     "output_type": "stream",
     "text": [
      "40\n"
     ]
    }
   ],
   "source": [
    "def add():\n",
    "    print(a+b)\n",
    "add()\n",
    "a=10\n",
    "b=30\n"
   ]
  },
  {
   "cell_type": "code",
   "execution_count": 8,
   "id": "0a13cb9f-ba32-43fe-8c60-07a806079c63",
   "metadata": {},
   "outputs": [
    {
     "name": "stdout",
     "output_type": "stream",
     "text": [
      "70\n"
     ]
    }
   ],
   "source": [
    "add()"
   ]
  },
  {
   "cell_type": "code",
   "execution_count": 1,
   "id": "9f79bdcc-916c-4e2e-838b-63175a89084f",
   "metadata": {},
   "outputs": [
    {
     "ename": "NameError",
     "evalue": "name 'c' is not defined",
     "output_type": "error",
     "traceback": [
      "\u001b[1;31m---------------------------------------------------------------------------\u001b[0m",
      "\u001b[1;31mNameError\u001b[0m                                 Traceback (most recent call last)",
      "Cell \u001b[1;32mIn[1], line 3\u001b[0m\n\u001b[0;32m      1\u001b[0m \u001b[38;5;28;01mdef\u001b[39;00m \u001b[38;5;21madd\u001b[39m():\n\u001b[0;32m      2\u001b[0m     \u001b[38;5;28mprint\u001b[39m(c\u001b[38;5;241m+\u001b[39md)\n\u001b[1;32m----> 3\u001b[0m add()    \n\u001b[0;32m      4\u001b[0m c\u001b[38;5;241m=\u001b[39m\u001b[38;5;241m40\u001b[39m\n\u001b[0;32m      5\u001b[0m d\u001b[38;5;241m=\u001b[39m\u001b[38;5;241m60\u001b[39m\n",
      "Cell \u001b[1;32mIn[1], line 2\u001b[0m, in \u001b[0;36madd\u001b[1;34m()\u001b[0m\n\u001b[0;32m      1\u001b[0m \u001b[38;5;28;01mdef\u001b[39;00m \u001b[38;5;21madd\u001b[39m():\n\u001b[1;32m----> 2\u001b[0m     \u001b[38;5;28mprint\u001b[39m(c\u001b[38;5;241m+\u001b[39md)\n",
      "\u001b[1;31mNameError\u001b[0m: name 'c' is not defined"
     ]
    }
   ],
   "source": [
    "def add():\n",
    "    print(c+d)\n",
    "add()    \n",
    "c=40\n",
    "d=60"
   ]
  },
  {
   "cell_type": "code",
   "execution_count": 3,
   "id": "a4b2d8bb-87d5-454e-8227-ddb0cbf6fe8b",
   "metadata": {},
   "outputs": [
    {
     "ename": "NameError",
     "evalue": "name 'c1' is not defined",
     "output_type": "error",
     "traceback": [
      "\u001b[1;31m---------------------------------------------------------------------------\u001b[0m",
      "\u001b[1;31mNameError\u001b[0m                                 Traceback (most recent call last)",
      "Cell \u001b[1;32mIn[3], line 3\u001b[0m\n\u001b[0;32m      1\u001b[0m \u001b[38;5;28;01mdef\u001b[39;00m \u001b[38;5;21madd\u001b[39m():\n\u001b[0;32m      2\u001b[0m     \u001b[38;5;28mprint\u001b[39m(c1\u001b[38;5;241m+\u001b[39md1)\n\u001b[1;32m----> 3\u001b[0m add()    \n\u001b[0;32m      4\u001b[0m c1\u001b[38;5;241m=\u001b[39m\u001b[38;5;241m40\u001b[39m\n\u001b[0;32m      5\u001b[0m d1\u001b[38;5;241m=\u001b[39m\u001b[38;5;241m60\u001b[39m\n",
      "Cell \u001b[1;32mIn[3], line 2\u001b[0m, in \u001b[0;36madd\u001b[1;34m()\u001b[0m\n\u001b[0;32m      1\u001b[0m \u001b[38;5;28;01mdef\u001b[39;00m \u001b[38;5;21madd\u001b[39m():\n\u001b[1;32m----> 2\u001b[0m     \u001b[38;5;28mprint\u001b[39m(c1\u001b[38;5;241m+\u001b[39md1)\n",
      "\u001b[1;31mNameError\u001b[0m: name 'c1' is not defined"
     ]
    }
   ],
   "source": [
    "def add():\n",
    "    print(c1+d1)\n",
    "add()    \n",
    "c1=40\n",
    "d1=60"
   ]
  },
  {
   "cell_type": "code",
   "execution_count": 4,
   "id": "91573f29-9ec7-4eef-8d87-eef427d22a9e",
   "metadata": {},
   "outputs": [
    {
     "name": "stdout",
     "output_type": "stream",
     "text": [
      "40\n"
     ]
    }
   ],
   "source": [
    "def add():\n",
    "    print(a+b)\n",
    "a=10\n",
    "b=30\n",
    "add()"
   ]
  },
  {
   "cell_type": "code",
   "execution_count": 6,
   "id": "4a0d78f3-209d-4dc8-95bf-f6570aa0f9d0",
   "metadata": {},
   "outputs": [
    {
     "name": "stdout",
     "output_type": "stream",
     "text": [
      "20\n"
     ]
    }
   ],
   "source": [
    "s=10                           #global variable\n",
    "def add():\n",
    "    s=20                        #local variable\n",
    "    print(s)\n",
    "add()    "
   ]
  },
  {
   "cell_type": "code",
   "execution_count": 7,
   "id": "1b2edced-7fde-4483-92d6-2da24a1204cd",
   "metadata": {},
   "outputs": [
    {
     "data": {
      "text/plain": [
       "10"
      ]
     },
     "execution_count": 7,
     "metadata": {},
     "output_type": "execute_result"
    }
   ],
   "source": [
    "s"
   ]
  },
  {
   "cell_type": "code",
   "execution_count": 11,
   "id": "eacad007-07bf-41e8-acd6-01ad027f2bb9",
   "metadata": {},
   "outputs": [
    {
     "name": "stdout",
     "output_type": "stream",
     "text": [
      "20\n"
     ]
    }
   ],
   "source": [
    "s=10\n",
    "def add():\n",
    "    global s\n",
    "    s=20\n",
    "    print(s)\n",
    "add()  "
   ]
  },
  {
   "cell_type": "markdown",
   "id": "08991880-6860-41a9-8ce0-a3e3a1bcb778",
   "metadata": {},
   "source": [
    "**use the loacl varibales: outside function with out using global**\n",
    "- we already know that local variables cant use outside the function directly\n",
    "- if we want to use local variable outside the function we need to use global keyword\n",
    "- we can aslo use local variables with out using global keyword\n",
    "- that concept is called return"
   ]
  },
  {
   "cell_type": "code",
   "execution_count": 12,
   "id": "1fb0c0c0-526b-44cd-9ed8-bcadc113e3cb",
   "metadata": {},
   "outputs": [
    {
     "name": "stdout",
     "output_type": "stream",
     "text": [
      "20\n"
     ]
    }
   ],
   "source": [
    "def add1():\n",
    "    num1=10\n",
    "    num2=20\n",
    "    print(num1+num2)\n",
    "add()    "
   ]
  },
  {
   "cell_type": "code",
   "execution_count": 13,
   "id": "beee9552-707f-4735-a75c-c933c709ec5d",
   "metadata": {},
   "outputs": [
    {
     "ename": "NameError",
     "evalue": "name 'num1' is not defined",
     "output_type": "error",
     "traceback": [
      "\u001b[1;31m---------------------------------------------------------------------------\u001b[0m",
      "\u001b[1;31mNameError\u001b[0m                                 Traceback (most recent call last)",
      "Cell \u001b[1;32mIn[13], line 1\u001b[0m\n\u001b[1;32m----> 1\u001b[0m num1\n",
      "\u001b[1;31mNameError\u001b[0m: name 'num1' is not defined"
     ]
    }
   ],
   "source": [
    "num1"
   ]
  },
  {
   "cell_type": "code",
   "execution_count": 18,
   "id": "6b4e1cd4-df86-4d3f-80b9-b63f71ea932e",
   "metadata": {},
   "outputs": [],
   "source": [
    "def add1():\n",
    "    num1=10\n",
    "    num2=20\n",
    "    sum=num1+num2\n",
    "    return(num1)\n",
    "dr=add1()    "
   ]
  },
  {
   "cell_type": "code",
   "execution_count": 19,
   "id": "c498615a-fe6c-472d-aba9-21afe76d4b7b",
   "metadata": {},
   "outputs": [
    {
     "data": {
      "text/plain": [
       "10"
      ]
     },
     "execution_count": 19,
     "metadata": {},
     "output_type": "execute_result"
    }
   ],
   "source": [
    "dr"
   ]
  },
  {
   "cell_type": "code",
   "execution_count": 32,
   "id": "8ad1739c-cf78-4a35-be0b-1fbca59b0794",
   "metadata": {},
   "outputs": [
    {
     "name": "stdout",
     "output_type": "stream",
     "text": [
      "30\n",
      "10\n"
     ]
    }
   ],
   "source": [
    "def add1():\n",
    "    num1=10\n",
    "    num2=20\n",
    "    s1=num1+num2\n",
    "    return(s1,num1)\n",
    "s1,num1=add1() \n",
    "print(s1)\n",
    "print(num1)"
   ]
  },
  {
   "cell_type": "code",
   "execution_count": 21,
   "id": "cf646979-3451-429b-9f24-f4ce02ec03dd",
   "metadata": {},
   "outputs": [
    {
     "data": {
      "text/plain": [
       "10"
      ]
     },
     "execution_count": 21,
     "metadata": {},
     "output_type": "execute_result"
    }
   ],
   "source": [
    "num1"
   ]
  },
  {
   "cell_type": "code",
   "execution_count": 33,
   "id": "afacf5a0-540c-414c-bdef-0f290c24865d",
   "metadata": {},
   "outputs": [
    {
     "name": "stdout",
     "output_type": "stream",
     "text": [
      "30\n",
      "10\n",
      "20\n"
     ]
    }
   ],
   "source": [
    "def add1():\n",
    "    num1=10\n",
    "    num2=20\n",
    "    s1=num1+num2\n",
    "    return(s1,num1,num2)\n",
    "s1,num1,num2=add1() \n",
    "print(s1)\n",
    "print(num1)\n",
    "print(num2)"
   ]
  },
  {
   "cell_type": "code",
   "execution_count": 1,
   "id": "6a42f4bc-c8a7-43e6-a8a2-676022a9b22d",
   "metadata": {},
   "outputs": [],
   "source": [
    "def add():\n",
    "    n1=10\n",
    "    n2=30\n",
    "    a1=n1+n2\n",
    "    return(a1,n1)\n",
    "val=add()    "
   ]
  },
  {
   "cell_type": "code",
   "execution_count": 2,
   "id": "2ecb0175-99f9-4a07-8c1b-1502ed6a058e",
   "metadata": {},
   "outputs": [
    {
     "data": {
      "text/plain": [
       "(40, 10)"
      ]
     },
     "execution_count": 2,
     "metadata": {},
     "output_type": "execute_result"
    }
   ],
   "source": [
    "val"
   ]
  },
  {
   "cell_type": "markdown",
   "id": "6508cec0-0d2c-46dc-8597-206af22483c0",
   "metadata": {},
   "source": [
    "**Function in functions**"
   ]
  },
  {
   "cell_type": "code",
   "execution_count": 5,
   "id": "6236b8a1-03b6-4914-a3ef-cf1c9c5b22b3",
   "metadata": {},
   "outputs": [
    {
     "name": "stdout",
     "output_type": "stream",
     "text": [
      "============calling greet1 function=============\n",
      "good mrng\n",
      "=========calling greet2 function==========\n",
      "good night\n"
     ]
    }
   ],
   "source": [
    "def greet1():\n",
    "    print(\"============calling greet1 function=============\")\n",
    "    print(\"good mrng\")\n",
    "def greet2():\n",
    "    print(\"=========calling greet2 function==========\")\n",
    "    print(\"good night\")\n",
    "greet1()\n",
    "greet2()"
   ]
  },
  {
   "cell_type": "code",
   "execution_count": 4,
   "id": "55e2bc82-93f1-4274-8b57-7e3f1987b8b9",
   "metadata": {},
   "outputs": [
    {
     "name": "stdout",
     "output_type": "stream",
     "text": [
      "good mrng\n",
      "good night\n"
     ]
    }
   ],
   "source": [
    "def greet1():\n",
    "    print(\"good mrng\")\n",
    "def greet2():\n",
    "    print(\"good night\")\n",
    "greet1()\n",
    "greet2()"
   ]
  },
  {
   "cell_type": "code",
   "execution_count": 6,
   "id": "62bb4ec8-35b5-4865-a8e0-9c6fcd2c463f",
   "metadata": {},
   "outputs": [
    {
     "name": "stdout",
     "output_type": "stream",
     "text": [
      "============calling greet1 function=============\n",
      "=========calling greet2 function==========\n",
      "good night\n",
      "good mrng\n"
     ]
    }
   ],
   "source": [
    "def greet1():\n",
    "    print(\"============calling greet1 function=============\")\n",
    "    greet2()\n",
    "    print(\"good mrng\")\n",
    "def greet2():\n",
    "    print(\"=========calling greet2 function==========\")\n",
    "    print(\"good night\")\n",
    "greet1()\n",
    "#stp1: ===calling greet1 function========\n",
    "#stp2: ===calling greet2 function=========\n",
    "#stp3: good night\n",
    "#stp4: good mrng"
   ]
  },
  {
   "cell_type": "code",
   "execution_count": 8,
   "id": "2758bfeb-a5b8-4eed-92c2-3aef569b697a",
   "metadata": {},
   "outputs": [
    {
     "name": "stdout",
     "output_type": "stream",
     "text": [
      "=========calling greet2 function==========\n",
      "============calling greet1 function=============\n",
      "good mrng\n",
      "good night\n"
     ]
    }
   ],
   "source": [
    "def greet1():\n",
    "    print(\"============calling greet1 function=============\")\n",
    "    print(\"good mrng\")\n",
    "def greet2():\n",
    "    print(\"=========calling greet2 function==========\")\n",
    "    greet1()\n",
    "    print(\"good night\")\n",
    "greet2()\n",
    "\n",
    "#stp1: ===calling greet2 function========\n",
    "#stp2: ===calling greet1 function=========\n",
    "#stp3: good mrng\n",
    "#stp4: good night"
   ]
  },
  {
   "cell_type": "code",
   "execution_count": 14,
   "id": "f3e8a975-8635-4c51-8ed6-70d7b065d493",
   "metadata": {},
   "outputs": [
    {
     "name": "stdout",
     "output_type": "stream",
     "text": [
      "3\n",
      "-1\n"
     ]
    }
   ],
   "source": [
    "#local variable concept\n",
    "\n",
    "def add():                                \n",
    "    a=1\n",
    "    b=2\n",
    "    print(a+b)\n",
    "def sub():\n",
    "    a=3\n",
    "    b=4\n",
    "    print(a-b)\n",
    "def math_operation():\n",
    "    add()\n",
    "    sub()\n",
    "math_operation()"
   ]
  },
  {
   "cell_type": "code",
   "execution_count": 15,
   "id": "87e7395e-bba4-407d-adae-c11aeb42dc89",
   "metadata": {},
   "outputs": [
    {
     "name": "stdout",
     "output_type": "stream",
     "text": [
      "3\n",
      "-1\n"
     ]
    }
   ],
   "source": [
    "#global variable concept\n",
    "\n",
    "a=1\n",
    "b=2\n",
    "def add():\n",
    "    print(a+b)\n",
    "def sub():\n",
    "    print(a-b)\n",
    "def math_operation():\n",
    "    add()\n",
    "    sub()\n",
    "math_operation()"
   ]
  },
  {
   "cell_type": "code",
   "execution_count": 20,
   "id": "e81dcaaf-5058-42b0-8313-055624f3f2f3",
   "metadata": {},
   "outputs": [
    {
     "name": "stdout",
     "output_type": "stream",
     "text": [
      "70\n",
      "30\n"
     ]
    }
   ],
   "source": [
    "def add(a1,b1):\n",
    "    print(a1+b1)\n",
    "def sub(a1,b1):\n",
    "    print(a1-b1)\n",
    "def math_operation(a1,b1):\n",
    "    add(a1,b1)\n",
    "    sub(a1,b1)\n",
    "math_operation(50,20)"
   ]
  },
  {
   "cell_type": "code",
   "execution_count": null,
   "id": "e8803830-9573-47d6-93d6-4dedcc95aaa0",
   "metadata": {},
   "outputs": [],
   "source": [
    "# calculator program\n",
    "# you need to create 4 functions\n",
    "# add()\n",
    "# sub()\n",
    "# mul()\n",
    "# div()\n",
    "\n",
    "# you need to convey to the user\n",
    "# operation=1 then perform addition operation\n",
    "# operation=2 then perform sub operation\n",
    "# operation=3 then perform mul operation\n",
    "# operation=4 then perform div operation\n",
    "\n",
    "\n",
    "# entire if-elif-else you need to keep in big function\n",
    "# math operation\n",
    "# ask the user enter the operation\n",
    "\n",
    "# if operation==1 : call the addition function\n",
    "# if operation==2 : call the div function\n",
    "# if operation==3 : call the mul function\n",
    "# if operation==4 : call the div function\n",
    "\n",
    "# entire if-elif-else you need to keep big func\n",
    "#math operation"
   ]
  },
  {
   "cell_type": "code",
   "execution_count": 28,
   "id": "74afd572-4531-4b23-a703-f70e788604d1",
   "metadata": {},
   "outputs": [
    {
     "name": "stdout",
     "output_type": "stream",
     "text": [
      "enter 1 for add\n",
      "enter 2 for sub\n",
      "enter 3 for mul\n",
      "enter 4 for div\n"
     ]
    },
    {
     "name": "stdin",
     "output_type": "stream",
     "text": [
      "enter the operations 2\n"
     ]
    },
    {
     "name": "stdout",
     "output_type": "stream",
     "text": [
      "45\n"
     ]
    }
   ],
   "source": [
    "def add(a,b):\n",
    "    add=a+b\n",
    "    print(add)\n",
    "def sub(a,b):\n",
    "    sub=a-b\n",
    "    print(sub)\n",
    "def mul(a,b):\n",
    "    mul=a*b\n",
    "    print(mul)\n",
    "def div(a,b):\n",
    "    div=a/b\n",
    "    print(div)\n",
    "\n",
    "def math_operation(a,b):\n",
    "    print(\"enter 1 for add\")\n",
    "    print(\"enter 2 for sub\")\n",
    "    print(\"enter 3 for mul\")\n",
    "    print(\"enter 4 for div\")\n",
    "    operation=input(\"enter the operations\")\n",
    "    if operation==\"1\":\n",
    "        add(a,b)\n",
    "    elif operation==\"2\":\n",
    "        sub(a,b)\n",
    "    elif operation==\"3\":\n",
    "        mul(a,b)\n",
    "    elif operation==\"4\":\n",
    "        div(a,b)\n",
    "    else:\n",
    "        print(\"valid operation\")\n",
    "math_operation(50,5)        \n",
    "    \n"
   ]
  },
  {
   "cell_type": "code",
   "execution_count": null,
   "id": "98db9b26-b018-439f-81c6-9986577e4a4d",
   "metadata": {},
   "outputs": [],
   "source": []
  }
 ],
 "metadata": {
  "kernelspec": {
   "display_name": "Python 3 (ipykernel)",
   "language": "python",
   "name": "python3"
  },
  "language_info": {
   "codemirror_mode": {
    "name": "ipython",
    "version": 3
   },
   "file_extension": ".py",
   "mimetype": "text/x-python",
   "name": "python",
   "nbconvert_exporter": "python",
   "pygments_lexer": "ipython3",
   "version": "3.11.7"
  }
 },
 "nbformat": 4,
 "nbformat_minor": 5
}
