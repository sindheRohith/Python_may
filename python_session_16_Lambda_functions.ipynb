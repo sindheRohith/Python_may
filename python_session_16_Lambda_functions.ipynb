{
 "cells": [
  {
   "cell_type": "markdown",
   "id": "0047b00b-431d-4a20-ae9e-dc7e4d86b246",
   "metadata": {},
   "source": [
    "- Lambda function also a function\n",
    "- it is a kind of a single line function\n",
    "- we already seen list comprehension which means single line\n",
    "- Lambda functions gives a flexibility to stop writing many lines\n",
    "- on interative executions it will save the timing"
   ]
  },
  {
   "cell_type": "code",
   "execution_count": 1,
   "id": "621a767c-e12f-468a-bb64-6b0baa8d482c",
   "metadata": {},
   "outputs": [
    {
     "data": {
      "text/plain": [
       "30"
      ]
     },
     "execution_count": 1,
     "metadata": {},
     "output_type": "execute_result"
    }
   ],
   "source": [
    "def summ(num):\n",
    "    return(num+10)\n",
    "summ(20)"
   ]
  },
  {
   "cell_type": "markdown",
   "id": "6c766082-6f0a-4637-8b34-b9dacbcfc7a1",
   "metadata": {},
   "source": [
    "$pattern-1$"
   ]
  },
  {
   "cell_type": "markdown",
   "id": "9527191c-7239-4695-86f7-331952b1f0dc",
   "metadata": {},
   "source": [
    "- function name\n",
    "- variable name\n",
    "- return output"
   ]
  },
  {
   "cell_type": "code",
   "execution_count": 3,
   "id": "2ecad8bf-77ab-4211-b41a-52e57c40591f",
   "metadata": {},
   "outputs": [],
   "source": [
    "#<function_name>=lambda<variable_name>:<return_output>"
   ]
  },
  {
   "cell_type": "code",
   "execution_count": 5,
   "id": "0fbff03e-7ab7-4542-9e5d-909bdce920da",
   "metadata": {},
   "outputs": [
    {
     "data": {
      "text/plain": [
       "40"
      ]
     },
     "execution_count": 5,
     "metadata": {},
     "output_type": "execute_result"
    }
   ],
   "source": [
    "summ=lambda num : num+10\n",
    "summ(30)"
   ]
  },
  {
   "cell_type": "code",
   "execution_count": 6,
   "id": "42d174e3-0845-4e6b-855a-abd4eb65f79f",
   "metadata": {},
   "outputs": [
    {
     "data": {
      "text/plain": [
       "1000"
      ]
     },
     "execution_count": 6,
     "metadata": {},
     "output_type": "execute_result"
    }
   ],
   "source": [
    "def cube(x):\n",
    "    return(x*x*x)\n",
    "cube(10)"
   ]
  },
  {
   "cell_type": "code",
   "execution_count": 7,
   "id": "e6802661-0330-4167-a485-b816ed667155",
   "metadata": {},
   "outputs": [
    {
     "data": {
      "text/plain": [
       "625"
      ]
     },
     "execution_count": 7,
     "metadata": {},
     "output_type": "execute_result"
    }
   ],
   "source": [
    "def square(x):\n",
    "    return(x*x*x*x)\n",
    "square(5)"
   ]
  },
  {
   "cell_type": "code",
   "execution_count": 8,
   "id": "3516aa87-fbc2-4132-94d8-294d29b86ac8",
   "metadata": {},
   "outputs": [
    {
     "data": {
      "text/plain": [
       "8000"
      ]
     },
     "execution_count": 8,
     "metadata": {},
     "output_type": "execute_result"
    }
   ],
   "source": [
    "cube = lambda x : x*x*x\n",
    "cube(20)"
   ]
  },
  {
   "cell_type": "markdown",
   "id": "68392dbb-d6e5-448f-ac07-1b3956e72ded",
   "metadata": {},
   "source": [
    "$pattern-2$"
   ]
  },
  {
   "cell_type": "markdown",
   "id": "374398ef-28f8-476b-8fdc-f953299b16aa",
   "metadata": {},
   "source": [
    "**Two arguments**"
   ]
  },
  {
   "cell_type": "code",
   "execution_count": 9,
   "id": "3ee319c5-23d9-45c4-9db3-b8d36cbedb5f",
   "metadata": {},
   "outputs": [
    {
     "data": {
      "text/plain": [
       "30"
      ]
     },
     "execution_count": 9,
     "metadata": {},
     "output_type": "execute_result"
    }
   ],
   "source": [
    "def add(n1,n2):\n",
    "    return(n1+n2)\n",
    "add(10,20)"
   ]
  },
  {
   "cell_type": "code",
   "execution_count": 10,
   "id": "d24f1051-9604-4612-bfc1-83ece1ca211e",
   "metadata": {},
   "outputs": [],
   "source": [
    "#<function name>=lambda<arg1>,<arg2>: <output>"
   ]
  },
  {
   "cell_type": "code",
   "execution_count": 13,
   "id": "505d4321-7309-4946-b6ad-c0550841cacd",
   "metadata": {},
   "outputs": [
    {
     "data": {
      "text/plain": [
       "30"
      ]
     },
     "execution_count": 13,
     "metadata": {},
     "output_type": "execute_result"
    }
   ],
   "source": [
    "add=lambda n1,n2:n1+n2\n",
    "add(20,10)"
   ]
  },
  {
   "cell_type": "code",
   "execution_count": 20,
   "id": "cf9d54a3-ab66-4e8e-8578-be92e00f64a2",
   "metadata": {},
   "outputs": [
    {
     "data": {
      "text/plain": [
       "33.3"
      ]
     },
     "execution_count": 20,
     "metadata": {},
     "output_type": "execute_result"
    }
   ],
   "source": [
    "avg=lambda n1,n2,n3 : round((n1+n2+n3)/3,1)\n",
    "avg(10,40,50)"
   ]
  },
  {
   "cell_type": "markdown",
   "id": "8009b8c4-6105-4d19-8993-6bcc0c2c8365",
   "metadata": {},
   "source": [
    "$pattern-3$"
   ]
  },
  {
   "cell_type": "markdown",
   "id": "df62fbd8-eb72-458a-8e80-9d7cd119e629",
   "metadata": {},
   "source": [
    "**Default arguments**"
   ]
  },
  {
   "cell_type": "code",
   "execution_count": 22,
   "id": "169e74be-39bd-4496-b4e9-955580864913",
   "metadata": {},
   "outputs": [
    {
     "data": {
      "text/plain": [
       "50.0"
      ]
     },
     "execution_count": 22,
     "metadata": {},
     "output_type": "execute_result"
    }
   ],
   "source": [
    "avg=lambda n1,n2,n3=100 : round((n1+n2+n3)/3,1)\n",
    "avg(10,40)"
   ]
  },
  {
   "cell_type": "markdown",
   "id": "95ba2b23-d910-487c-afee-c4fc6235ec91",
   "metadata": {},
   "source": [
    "$pattern-3$"
   ]
  },
  {
   "cell_type": "markdown",
   "id": "cf275a5e-6952-466d-8b5f-c5d8ffa22a13",
   "metadata": {},
   "source": [
    "**if**"
   ]
  },
  {
   "cell_type": "code",
   "execution_count": 27,
   "id": "6eeec50c-13e6-410d-ab86-0551c31f630c",
   "metadata": {},
   "outputs": [
    {
     "data": {
      "text/plain": [
       "'hey'"
      ]
     },
     "execution_count": 27,
     "metadata": {},
     "output_type": "execute_result"
    }
   ],
   "source": [
    "def greet(n1):\n",
    "    if n1>10:\n",
    "        return(\"hey\")\n",
    "greet(20)"
   ]
  },
  {
   "cell_type": "code",
   "execution_count": 30,
   "id": "0b99cf65-01a6-45a2-872d-571904b6d408",
   "metadata": {},
   "outputs": [],
   "source": [
    "#in the list comprehension\n",
    "#[<if_out> <if condition> <else> <else_output> <forloop>]\n",
    "# no for loop\n",
    "# <fun_name)= lambda <arg1>: <if_out> <if_condition> <else> <else_output>"
   ]
  },
  {
   "cell_type": "code",
   "execution_count": 29,
   "id": "2a0dccac-1f3d-423f-89bb-5b635deecd5f",
   "metadata": {},
   "outputs": [
    {
     "data": {
      "text/plain": [
       "'bye'"
      ]
     },
     "execution_count": 29,
     "metadata": {},
     "output_type": "execute_result"
    }
   ],
   "source": [
    "greet= lambda n1: 'hello' if n1>10 else 'bye'\n",
    "greet(10)"
   ]
  },
  {
   "cell_type": "code",
   "execution_count": 31,
   "id": "1a30bde5-52df-4827-adc4-f2b5155bd7c5",
   "metadata": {},
   "outputs": [
    {
     "data": {
      "text/plain": [
       "20"
      ]
     },
     "execution_count": 31,
     "metadata": {},
     "output_type": "execute_result"
    }
   ],
   "source": [
    "#wap lambda function to identify the greater number between two numbers\n",
    "\n",
    "maxx=lambda n1,n2: f\"{n2} is greater\" if n2>n1 else f\"{n1} is greater\"\n",
    "max(10,20)"
   ]
  },
  {
   "cell_type": "markdown",
   "id": "1add6ead-cbab-4bc0-ab5c-29090f6302b4",
   "metadata": {},
   "source": [
    "$pattern-5$"
   ]
  },
  {
   "cell_type": "markdown",
   "id": "f29bcda9-0568-4643-8200-0e5f83ba53a0",
   "metadata": {},
   "source": [
    "**using list**"
   ]
  },
  {
   "cell_type": "code",
   "execution_count": null,
   "id": "ada08537-e0e0-499c-ada6-881c6babbeea",
   "metadata": {},
   "outputs": [],
   "source": [
    "list1-['hyd','blr','aus']     # op=list2=['hyd','blr','aus']\n",
    "\n",
    "\n",
    "'hi how are you' ==== > 'Hi How Are You'"
   ]
  },
  {
   "cell_type": "code",
   "execution_count": 33,
   "id": "bf1e679b-4d2e-41e7-b605-304885345e19",
   "metadata": {},
   "outputs": [
    {
     "data": {
      "text/plain": [
       "['Hyd', 'Blr', 'Aus']"
      ]
     },
     "execution_count": 33,
     "metadata": {},
     "output_type": "execute_result"
    }
   ],
   "source": [
    "list1=['hyd','blr','aus'] \n",
    "list2=[]\n",
    "for i in list1:\n",
    "    list2.append(i.capitalize())\n",
    "list2"
   ]
  },
  {
   "cell_type": "code",
   "execution_count": 34,
   "id": "e0356845-c7f4-42d8-9fc5-614a47bf8f59",
   "metadata": {},
   "outputs": [
    {
     "data": {
      "text/plain": [
       "['HYD', 'BLR', 'AUS']"
      ]
     },
     "execution_count": 34,
     "metadata": {},
     "output_type": "execute_result"
    }
   ],
   "source": [
    "list1=['hyd','blr','aus'] \n",
    "list2=[]\n",
    "for i in list1:\n",
    "    list2.append(i.upper())\n",
    "list2"
   ]
  },
  {
   "cell_type": "code",
   "execution_count": 35,
   "id": "b1f85025-3cd1-4aae-a4af-df032c835a54",
   "metadata": {},
   "outputs": [
    {
     "data": {
      "text/plain": [
       "['hyd', 'blr', 'aus']"
      ]
     },
     "execution_count": 35,
     "metadata": {},
     "output_type": "execute_result"
    }
   ],
   "source": [
    "list1=['hyd','blr','aus'] \n",
    "list2=[]\n",
    "for i in list1:\n",
    "    list2.append(i.lower())\n",
    "list2"
   ]
  },
  {
   "cell_type": "code",
   "execution_count": 38,
   "id": "152e275f-4522-4c85-90fc-cef1ed7817aa",
   "metadata": {},
   "outputs": [
    {
     "data": {
      "text/plain": [
       "['Hyd', 'Blr', 'Aus']"
      ]
     },
     "execution_count": 38,
     "metadata": {},
     "output_type": "execute_result"
    }
   ],
   "source": [
    "list1=['hyd','blr','aus'] \n",
    "list2=[]\n",
    "for i in list1:\n",
    "    list2.append(i.title())\n",
    "list2"
   ]
  },
  {
   "cell_type": "markdown",
   "id": "1737c6d1-f609-4d54-8db8-a97fa4212867",
   "metadata": {},
   "source": [
    "- what is the variable name  === > i\n",
    "- what is the return output  === > i.capitalize()\n",
    "- from where it is coming    === > list1\n",
    "- strings are iterable\n",
    "- lists are iterable\n",
    "- we can iterate using for loop"
   ]
  },
  {
   "cell_type": "code",
   "execution_count": 40,
   "id": "23616805-4a99-4e9e-ab5d-848b8345aab9",
   "metadata": {},
   "outputs": [],
   "source": [
    "#lambda <variable name> : <output>,<iterable>"
   ]
  },
  {
   "cell_type": "code",
   "execution_count": 41,
   "id": "e1d0a714-aae1-4d18-9c02-bb508c0d08d7",
   "metadata": {},
   "outputs": [
    {
     "data": {
      "text/plain": [
       "(<function __main__.<lambda>(i)>, ['hyd', 'blr', 'aus'])"
      ]
     },
     "execution_count": 41,
     "metadata": {},
     "output_type": "execute_result"
    }
   ],
   "source": [
    "lambda i : i.capitalize(),list1"
   ]
  },
  {
   "cell_type": "markdown",
   "id": "92b1e530-0993-43e2-a591-e1e6b37f8b9b",
   "metadata": {},
   "source": [
    "**Map method**"
   ]
  },
  {
   "cell_type": "code",
   "execution_count": 42,
   "id": "07fa6759-9cd1-4b12-9127-7da7b6181a68",
   "metadata": {},
   "outputs": [
    {
     "data": {
      "text/plain": [
       "<map at 0x25ad99edc30>"
      ]
     },
     "execution_count": 42,
     "metadata": {},
     "output_type": "execute_result"
    }
   ],
   "source": [
    "map(lambda i : i.capitalize(),list1)"
   ]
  },
  {
   "cell_type": "code",
   "execution_count": 44,
   "id": "9ff5dc47-9f86-49c9-b7d2-dbe729521392",
   "metadata": {},
   "outputs": [
    {
     "data": {
      "text/plain": [
       "['Hyd', 'Blr', 'Aus']"
      ]
     },
     "execution_count": 44,
     "metadata": {},
     "output_type": "execute_result"
    }
   ],
   "source": [
    "list(map(lambda i : i.capitalize(),list1))"
   ]
  },
  {
   "cell_type": "code",
   "execution_count": 45,
   "id": "515b83c4-88b8-4325-8c82-c8c2729f6359",
   "metadata": {},
   "outputs": [
    {
     "data": {
      "text/plain": [
       "('Hyd', 'Blr', 'Aus')"
      ]
     },
     "execution_count": 45,
     "metadata": {},
     "output_type": "execute_result"
    }
   ],
   "source": [
    "tuple(map(lambda i : i.capitalize(),list1))"
   ]
  },
  {
   "cell_type": "code",
   "execution_count": 46,
   "id": "f3011548-b5af-4edb-a984-3b01969e6749",
   "metadata": {},
   "outputs": [],
   "source": [
    "# step-1: create a normal lambda function\n",
    "          # lambda <arg> : <output>\n",
    "#step-2 : add thr iterable\n",
    "         # lambda <arg> : <output>,<list>\n",
    "#step-3 : map the both function and list \n",
    "          # map(lambda <arg> : <output>,<list>)\n",
    "#step-4: save the result ina list or tuple\n",
    "         # list(map(lambda <arg>: <output>,<list>))"
   ]
  },
  {
   "cell_type": "code",
   "execution_count": 47,
   "id": "aa67dadc-66db-476e-af7b-3196b48add43",
   "metadata": {},
   "outputs": [
    {
     "data": {
      "text/plain": [
       "['Hyd', 'Blr', 'Aus']"
      ]
     },
     "execution_count": 47,
     "metadata": {},
     "output_type": "execute_result"
    }
   ],
   "source": [
    "lambda i : i.capitalize\n",
    "lambda i : i.capitalize,list1\n",
    "map(lambda i : i.capitalize,list1)\n",
    "list(map(lambda i : i.capitalize(),list1))"
   ]
  },
  {
   "cell_type": "code",
   "execution_count": 50,
   "id": "9d293c55-2b7f-4966-87c4-6abb5f6fff81",
   "metadata": {},
   "outputs": [
    {
     "data": {
      "text/plain": [
       "['Hyd', 'Blr', 'Aus', 'ma#ll', 'g#a', 'ma#ll', 'g#a']"
      ]
     },
     "execution_count": 50,
     "metadata": {},
     "output_type": "execute_result"
    }
   ],
   "source": [
    "list1=['hyd','blr','ma#ll','g#a']\n",
    "#list2=['ma#ll','g#a']\n",
    "for i in list1:\n",
    "    if '#' in i:\n",
    "        list2.append(i)\n",
    "list2"
   ]
  },
  {
   "cell_type": "code",
   "execution_count": 54,
   "id": "f524b524-051c-4b7d-939e-e99f27f301b3",
   "metadata": {},
   "outputs": [
    {
     "data": {
      "text/plain": [
       "[False, False, True, True]"
      ]
     },
     "execution_count": 54,
     "metadata": {},
     "output_type": "execute_result"
    }
   ],
   "source": [
    "lambda i : '#' in i,list1    # whenever you see the condition on list write only condition without using list\n",
    "list(map(lambda i : '#' in i,list1))"
   ]
  },
  {
   "cell_type": "markdown",
   "id": "ce5a730a-2829-47f3-915a-97c2fe08ade4",
   "metadata": {},
   "source": [
    "**filter method**"
   ]
  },
  {
   "cell_type": "code",
   "execution_count": 56,
   "id": "b8793424-ae8f-4470-90b2-92e0d6479bc5",
   "metadata": {},
   "outputs": [
    {
     "data": {
      "text/plain": [
       "['ma#ll', 'g#a']"
      ]
     },
     "execution_count": 56,
     "metadata": {},
     "output_type": "execute_result"
    }
   ],
   "source": [
    "list(filter(lambda i : '#' in i,list1))"
   ]
  },
  {
   "cell_type": "code",
   "execution_count": 57,
   "id": "d69e91db-8d7c-4dd9-9d1f-ff75d709c674",
   "metadata": {},
   "outputs": [
    {
     "data": {
      "text/plain": [
       "['hyd', 'blr', 'g#a']"
      ]
     },
     "execution_count": 57,
     "metadata": {},
     "output_type": "execute_result"
    }
   ],
   "source": [
    "list1=['hyd','blr','ma#ll','g#a']\n",
    "list2=['hyd','blr'] #len(i)<=3\n",
    "list(filter(lambda i : len(i)<=3,list1))"
   ]
  },
  {
   "cell_type": "code",
   "execution_count": null,
   "id": "84d9203d-2c27-4c37-bfb7-250b872878be",
   "metadata": {},
   "outputs": [],
   "source": []
  }
 ],
 "metadata": {
  "kernelspec": {
   "display_name": "Python 3 (ipykernel)",
   "language": "python",
   "name": "python3"
  },
  "language_info": {
   "codemirror_mode": {
    "name": "ipython",
    "version": 3
   },
   "file_extension": ".py",
   "mimetype": "text/x-python",
   "name": "python",
   "nbconvert_exporter": "python",
   "pygments_lexer": "ipython3",
   "version": "3.11.7"
  }
 },
 "nbformat": 4,
 "nbformat_minor": 5
}
