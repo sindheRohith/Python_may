{
 "cells": [
  {
   "cell_type": "code",
   "execution_count": 4,
   "id": "709eeae0-c421-4b73-bef1-b6c80af109f0",
   "metadata": {},
   "outputs": [
    {
     "name": "stdin",
     "output_type": "stream",
     "text": [
      "enter the num1: 500\n",
      "enter the num2: 200\n"
     ]
    },
    {
     "name": "stdout",
     "output_type": "stream",
     "text": [
      "the addition of 500 and 200 is 700\n",
      "the subtraction of 500 and 200 is 300\n",
      "the multiplication of 500 and 200 is 100000\n",
      "the division of 500 and 200 is 2.5\n"
     ]
    }
   ],
   "source": [
    "#Q1) Wap ask the user enter two numbers from keyboard\n",
    "# print addition\n",
    "# print subtraction\n",
    "# print multiplication\n",
    "# print division using f string method\n",
    "\n",
    "n1=eval(input(\"enter the num1:\"))  \n",
    "n2=eval(input(\"enter the num2:\"))  \n",
    "add=n1+n2\n",
    "sub=n1-n2\n",
    "mul=n1*n2\n",
    "div=n1/n2\n",
    "print(f\"the addition of {n1} and {n2} is {add}\")\n",
    "print(f\"the subtraction of {n1} and {n2} is {sub}\")\n",
    "print(f\"the multiplication of {n1} and {n2} is {mul}\")\n",
    "print(f\"the division of {n1} and {n2} is {div}\")"
   ]
  },
  {
   "cell_type": "code",
   "execution_count": 8,
   "id": "6e95b7f7-258e-4920-a28a-4c4ce204272a",
   "metadata": {},
   "outputs": [
    {
     "name": "stdin",
     "output_type": "stream",
     "text": [
      "enter the num1: 500\n",
      "enter the num2: 200\n",
      "enter the num3: 500\n"
     ]
    },
    {
     "name": "stdout",
     "output_type": "stream",
     "text": [
      "the avg of 500,200,500 is300.0\n"
     ]
    }
   ],
   "source": [
    "# Q2) Ask the user enter 3 numbers to find the average of those number\n",
    "\n",
    "n1=eval(input(\"enter the num1:\"))  \n",
    "n2=eval(input(\"enter the num2:\")) \n",
    "n3=eval(input(\"enter the num3:\"))\n",
    "avg=(n1+n2+n2)/3\n",
    "print(f\"the avg of {n1},{n2},{n3} is{avg}\")\n"
   ]
  },
  {
   "cell_type": "code",
   "execution_count": 15,
   "id": "bc95a38b-f179-49ed-8a30-d76d11b48daa",
   "metadata": {},
   "outputs": [
    {
     "name": "stdin",
     "output_type": "stream",
     "text": [
      "enter the bill: 1000\n",
      "enter the tip in percentage: 10\n"
     ]
    },
    {
     "name": "stdout",
     "output_type": "stream",
     "text": [
      "the total bill is: 1100.0\n"
     ]
    }
   ],
   "source": [
    "#Q3)  Ask the user to enter the bill\n",
    "      # ask the user hw much trip percentage\n",
    "      # calculate the total bill\n",
    "\n",
    "# 1000 rs\n",
    "# 10 : 100\n",
    "# 1000+100\n",
    "\n",
    "bill=eval(input(\"enter the bill:\"))\n",
    "tip_per=eval(input(\"enter the tip in percentage:\"))\n",
    "tip_amount=tip_per*bill/100\n",
    "total_bill=bill+tip_amount\n",
    "print(\"the total bill is:\",total_bill)\n"
   ]
  },
  {
   "cell_type": "code",
   "execution_count": null,
   "id": "77a7dc3f-c2f0-4877-8b0b-4385d5dac37d",
   "metadata": {},
   "outputs": [],
   "source": [
    "#Q4) ask the user enter the weight in kgs\n",
    "     # display the answer in pounds\n",
    "    # 1kg=2.2 pounds\n",
    "\n"
   ]
  },
  {
   "cell_type": "code",
   "execution_count": 24,
   "id": "f9709849-5cd6-4252-8427-d7d0e60993f2",
   "metadata": {},
   "outputs": [
    {
     "name": "stdin",
     "output_type": "stream",
     "text": [
      "enter the weight in kgs: 100\n",
      "how many pounds for 1kg: 2.2\n"
     ]
    },
    {
     "ename": "NameError",
     "evalue": "name 'weight_kg' is not defined",
     "output_type": "error",
     "traceback": [
      "\u001b[1;31m---------------------------------------------------------------------------\u001b[0m",
      "\u001b[1;31mNameError\u001b[0m                                 Traceback (most recent call last)",
      "Cell \u001b[1;32mIn[24], line 3\u001b[0m\n\u001b[0;32m      1\u001b[0m weight\u001b[38;5;241m=\u001b[39m\u001b[38;5;28meval\u001b[39m(\u001b[38;5;28minput\u001b[39m(\u001b[38;5;124m\"\u001b[39m\u001b[38;5;124menter the weight in kgs:\u001b[39m\u001b[38;5;124m\"\u001b[39m))\n\u001b[0;32m      2\u001b[0m pounds\u001b[38;5;241m=\u001b[39m\u001b[38;5;28meval\u001b[39m(\u001b[38;5;28minput\u001b[39m(\u001b[38;5;124m\"\u001b[39m\u001b[38;5;124mhow many pounds for 1kg:\u001b[39m\u001b[38;5;124m\"\u001b[39m))\n\u001b[1;32m----> 3\u001b[0m weight_pounds\u001b[38;5;241m=\u001b[39m\u001b[38;5;28mround\u001b[39m(pounds\u001b[38;5;241m*\u001b[39mweight_kg,\u001b[38;5;241m2\u001b[39m)\n\u001b[0;32m      4\u001b[0m \u001b[38;5;28mprint\u001b[39m(\u001b[38;5;124mf\u001b[39m\u001b[38;5;124m\"\u001b[39m\u001b[38;5;124mthe weight in pound is \u001b[39m\u001b[38;5;132;01m{\u001b[39;00mweight_pounds\u001b[38;5;132;01m}\u001b[39;00m\u001b[38;5;124m\"\u001b[39m)\n",
      "\u001b[1;31mNameError\u001b[0m: name 'weight_kg' is not defined"
     ]
    }
   ],
   "source": [
    "weight=eval(input(\"enter the weight in kgs:\"))\n",
    "pounds=eval(input(\"how many pounds for 1kg:\"))\n",
    "weight_pounds=round(pounds*weight_kg,2)\n",
    "print(f\"the weight in pound is {weight_pounds}\")\n",
    "\n"
   ]
  },
  {
   "cell_type": "code",
   "execution_count": 20,
   "id": "aeacc374-280d-474e-b494-ae0462818d11",
   "metadata": {},
   "outputs": [
    {
     "name": "stdout",
     "output_type": "stream",
     "text": [
      "the addition of 492 and 465 is957\n"
     ]
    }
   ],
   "source": [
    "import random\n",
    "n1=random.randint(1,500)\n",
    "n2=random.randint(1,500)\n",
    "add=n1+n2\n",
    "print(f'the addition of {n1} and {n2} is{add}')"
   ]
  },
  {
   "cell_type": "code",
   "execution_count": 21,
   "id": "7fc5a57f-a7f2-4e36-95cf-a01b8e773464",
   "metadata": {},
   "outputs": [
    {
     "name": "stdout",
     "output_type": "stream",
     "text": [
      "the addition of 53 and 41 is94\n"
     ]
    }
   ],
   "source": [
    "import random\n",
    "n1=random.randint(1,100)\n",
    "n2=random.randint(1,100)\n",
    "add=n1+n2\n",
    "print(f'the addition of {n1} and {n2} is{add}')"
   ]
  },
  {
   "cell_type": "code",
   "execution_count": 25,
   "id": "bebe71f8-907f-4c1a-9f28-c38758d6ccb8",
   "metadata": {},
   "outputs": [
    {
     "data": {
      "text/plain": [
       "100.4567"
      ]
     },
     "execution_count": 25,
     "metadata": {},
     "output_type": "execute_result"
    }
   ],
   "source": [
    "val=100.4567\n",
    "val"
   ]
  },
  {
   "cell_type": "code",
   "execution_count": 29,
   "id": "f1e0641c-e02c-4760-bfa8-2e01a3c71b69",
   "metadata": {},
   "outputs": [
    {
     "name": "stdin",
     "output_type": "stream",
     "text": [
      "enter the num1: 50\n",
      "enter the num2: 40\n"
     ]
    },
    {
     "name": "stdout",
     "output_type": "stream",
     "text": [
      "the addition of 50 and 40 is 90\n"
     ]
    },
    {
     "ename": "NameError",
     "evalue": "name 'time' is not defined",
     "output_type": "error",
     "traceback": [
      "\u001b[1;31m---------------------------------------------------------------------------\u001b[0m",
      "\u001b[1;31mNameError\u001b[0m                                 Traceback (most recent call last)",
      "Cell \u001b[1;32mIn[29], line 9\u001b[0m\n\u001b[0;32m      7\u001b[0m div\u001b[38;5;241m=\u001b[39m\u001b[38;5;28mround\u001b[39m(n1\u001b[38;5;241m/\u001b[39mn2,\u001b[38;5;241m2\u001b[39m)\n\u001b[0;32m      8\u001b[0m \u001b[38;5;28mprint\u001b[39m(\u001b[38;5;124mf\u001b[39m\u001b[38;5;124m\"\u001b[39m\u001b[38;5;124mthe addition of \u001b[39m\u001b[38;5;132;01m{\u001b[39;00mn1\u001b[38;5;132;01m}\u001b[39;00m\u001b[38;5;124m and \u001b[39m\u001b[38;5;132;01m{\u001b[39;00mn2\u001b[38;5;132;01m}\u001b[39;00m\u001b[38;5;124m is \u001b[39m\u001b[38;5;132;01m{\u001b[39;00madd\u001b[38;5;132;01m}\u001b[39;00m\u001b[38;5;124m\"\u001b[39m)\n\u001b[1;32m----> 9\u001b[0m time\u001b[38;5;241m.\u001b[39msleep(\u001b[38;5;241m2\u001b[39m)\n\u001b[0;32m     10\u001b[0m \u001b[38;5;28mprint\u001b[39m(\u001b[38;5;124mf\u001b[39m\u001b[38;5;124m\"\u001b[39m\u001b[38;5;124mthe subtraction of \u001b[39m\u001b[38;5;132;01m{\u001b[39;00mn1\u001b[38;5;132;01m}\u001b[39;00m\u001b[38;5;124m and \u001b[39m\u001b[38;5;132;01m{\u001b[39;00mn2\u001b[38;5;132;01m}\u001b[39;00m\u001b[38;5;124m is \u001b[39m\u001b[38;5;132;01m{\u001b[39;00msub\u001b[38;5;132;01m}\u001b[39;00m\u001b[38;5;124m\"\u001b[39m)\n\u001b[0;32m     11\u001b[0m time\u001b[38;5;241m.\u001b[39msleep(\u001b[38;5;241m2\u001b[39m)\n",
      "\u001b[1;31mNameError\u001b[0m: name 'time' is not defined"
     ]
    }
   ],
   "source": [
    "# print all 4 lines 2 seconds gap\n",
    "n1=eval(input(\"enter the num1:\"))  \n",
    "n2=eval(input(\"enter the num2:\"))  \n",
    "add=n1+n2\n",
    "sub=n1-n2\n",
    "mul=n1*n2\n",
    "div=round(n1/n2,2)\n",
    "print(f\"the addition of {n1} and {n2} is {add}\")\n",
    "time.sleep(2)\n",
    "print(f\"the subtraction of {n1} and {n2} is {sub}\")\n",
    "time.sleep(2)\n",
    "print(f\"the multiplication of {n1} and {n2} is {mul}\")\n",
    "time.sleep(2)\n",
    "print(f\"the division of {n1} and {n2} is {div}\")\n",
    "time.sleep(2)"
   ]
  },
  {
   "cell_type": "code",
   "execution_count": 7,
   "id": "c3ad796e-fddf-427e-92f6-c009b9641adc",
   "metadata": {},
   "outputs": [
    {
     "name": "stdin",
     "output_type": "stream",
     "text": [
      "enter the radius 10\n"
     ]
    },
    {
     "name": "stdout",
     "output_type": "stream",
     "text": [
      "the area of circle is 314.2\n"
     ]
    }
   ],
   "source": [
    "#wap ask the user\n",
    "#calculate the area of the circle\n",
    "# ask the user take radius from keyboard\n",
    "# area of circle = pi*r*r\n",
    "#get the pi value from math package\n",
    "\n",
    "import math\n",
    "pi=math.pi\n",
    "radius=eval(input(\"enter the radius\"))\n",
    "area=pi*radius*radius\n",
    "area=round(area,1)\n",
    "print(f\"the area of circle is {area}\")"
   ]
  },
  {
   "cell_type": "code",
   "execution_count": 11,
   "id": "33cf991c-8dfd-4302-923e-fee077b5d8ce",
   "metadata": {},
   "outputs": [
    {
     "name": "stdin",
     "output_type": "stream",
     "text": [
      "enter the breadth of triangle 10\n",
      "enter the height of traingle 50\n"
     ]
    },
    {
     "name": "stdout",
     "output_type": "stream",
     "text": [
      "the area of traingle is 250.0\n"
     ]
    }
   ],
   "source": [
    "#wap ask the user take the breadth and height\n",
    "# calculate area of traingle\n",
    "#formulae; 0.5*b*h\n",
    "\n",
    "breadth = eval(input(\"enter the breadth of triangle\"))\n",
    "height= eval(input(\"enter the height of traingle\"))\n",
    "area_triangle=0.5*breadth*height\n",
    "print(f\"the area of traingle is {area_triangle}\")"
   ]
  },
  {
   "cell_type": "markdown",
   "id": "9f5b6532-71da-4e13-806f-3939e60b8e79",
   "metadata": {},
   "source": [
    "- how many ways we can provide the number\n",
    "- hard coded\n",
    "- a=10\n",
    "- from keyboard\n",
    "- a=eval(input()\n",
    "- using random package\n",
    "- a  "
   ]
  },
  {
   "cell_type": "code",
   "execution_count": null,
   "id": "70946701-8792-4af9-9145-f704c2e86f1a",
   "metadata": {},
   "outputs": [],
   "source": [
    "m1 2 3"
   ]
  },
  {
   "cell_type": "code",
   "execution_count": null,
   "id": "02a7fe6a-158c-443d-a0f0-9bf4ac5ddb9a",
   "metadata": {},
   "outputs": [],
   "source": [
    "import random\n",
    "start=eval(input(\"enter the start value:\"))\n",
    "end=eval(input(\"enter the end value:\"))\n"
   ]
  },
  {
   "cell_type": "code",
   "execution_count": null,
   "id": "ffefce66-3219-4096-b29f-e6eae9561b63",
   "metadata": {},
   "outputs": [],
   "source": [
    "#wap ask the user calculate area of the perimeter\n",
    "\n",
    "#m-1; hard coded\n",
    "#m-2; keyboard\n",
    "#m-3; random\n",
    "\n",
    "#formulae; perimeter 2(l+b)\n",
    "#formulae; area (l*b)\n",
    "\n",
    "#m-1\n",
    "\n"
   ]
  },
  {
   "cell_type": "code",
   "execution_count": null,
   "id": "9cdb546a-4c3c-42ae-bed7-59e68d8c6126",
   "metadata": {},
   "outputs": [],
   "source": [
    "#wap ask the user volume of cylinder\n",
    "# formulae; pi*r*r*h\n",
    "\n",
    "import math\n",
    "import random\n",
    "\n",
    "print(\"===========\")\n",
    "print(\"using harcode values\")\n",
    "#m-1\n",
    "radius = 14\n",
    "height = 20\n",
    "pi = math.pi\n",
    "volume = round(pi * radius\n",
    "\n",
    "\n"
   ]
  },
  {
   "cell_type": "markdown",
   "id": "b601f06f-2374-48cf-ac16-9f11b815c03c",
   "metadata": {},
   "source": [
    "**convesation between mother daughter and condcuter**\n",
    "# son : hi mummy i am gng out\n",
    "# mom : where are u gng\n",
    "# son : i am gng out with my frnds\n",
    "# mom : ok goo and enj\n",
    "# son : ok mummy i need some money\n",
    "# mom : how much money u want beta\n",
    "# son : 10k mummy\n",
    "# mom : what u want 10k na ask ur dad i dont have\n",
    "# son : mummy dad will not give \n",
    "# mom : i dont have money beta \n",
    "# son : pls mummy give me the money\n",
    "# mom : nooooo i dont have beta sorry \n",
    "# son : ok mummy bye i dont come to home bye \n",
    "# mom : y are u saying like that i dont have money beta \n",
    "# son : ok bye mummy i wont come to home\n",
    "\n"
   ]
  },
  {
   "cell_type": "code",
   "execution_count": 15,
   "id": "f19a86da-2ef9-4663-9dff-614b5c236ff2",
   "metadata": {},
   "outputs": [
    {
     "name": "stdin",
     "output_type": "stream",
     "text": [
      "son: bhr\n",
      "mom: nnjrfs\n",
      "son: njdf\n"
     ]
    },
    {
     "data": {
      "text/plain": [
       "'njdf'"
      ]
     },
     "execution_count": 15,
     "metadata": {},
     "output_type": "execute_result"
    }
   ],
   "source": [
    "input(\"son:\")\n",
    "input(\"mom:\")\n",
    "input(\"son:\")\n",
    "\n"
   ]
  },
  {
   "cell_type": "code",
   "execution_count": null,
   "id": "2cff6163-9ffe-41b1-8476-62b0f2c58d5b",
   "metadata": {},
   "outputs": [],
   "source": []
  }
 ],
 "metadata": {
  "kernelspec": {
   "display_name": "Python 3 (ipykernel)",
   "language": "python",
   "name": "python3"
  },
  "language_info": {
   "codemirror_mode": {
    "name": "ipython",
    "version": 3
   },
   "file_extension": ".py",
   "mimetype": "text/x-python",
   "name": "python",
   "nbconvert_exporter": "python",
   "pygments_lexer": "ipython3",
   "version": "3.11.7"
  }
 },
 "nbformat": 4,
 "nbformat_minor": 5
}
