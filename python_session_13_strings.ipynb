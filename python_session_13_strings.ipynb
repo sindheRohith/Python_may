{
 "cells": [
  {
   "cell_type": "markdown",
   "id": "0a31dae7-1f89-482c-be62-dc9244bb373e",
   "metadata": {},
   "source": [
    "- strings\n",
    "- lists\n",
    "- dictionary\n",
    "- tuples\n",
    "- sets\n",
    "- lambda function\n",
    "- file handling"
   ]
  },
  {
   "cell_type": "markdown",
   "id": "0e0f2d72-e182-43a7-b751-e88bcaa77591",
   "metadata": {},
   "source": [
    "**strings**"
   ]
  },
  {
   "cell_type": "markdown",
   "id": "37d24616-7189-4584-b171-2d185919cad8",
   "metadata": {},
   "source": [
    "- strings can intialize in three ways\n",
    "    - single quotes\n",
    "        - very common way to present\n",
    "    - double quotes\n",
    "        - double quotes aslo very common to present\n",
    "    - triple quotes\n",
    "        - triple quotes means **doc string**"
   ]
  },
  {
   "cell_type": "code",
   "execution_count": 2,
   "id": "8f518166-b94b-4f18-9178-f373467ea27f",
   "metadata": {},
   "outputs": [
    {
     "data": {
      "text/plain": [
       "'python'"
      ]
     },
     "execution_count": 2,
     "metadata": {},
     "output_type": "execute_result"
    }
   ],
   "source": [
    "str1='python'\n",
    "str1"
   ]
  },
  {
   "cell_type": "code",
   "execution_count": 4,
   "id": "5a785587-f9d4-40ad-b532-03b6fd52f406",
   "metadata": {},
   "outputs": [],
   "source": [
    "str2='python'\n",
    "str3='10.5'\n",
    "str4='10'\n",
    "str5='true'\n",
    "str6=\"&$\""
   ]
  },
  {
   "cell_type": "markdown",
   "id": "a8bbff47-18b6-4537-bcba-198a73e4b7aa",
   "metadata": {},
   "source": [
    "**triple quotes**\n",
    "\n",
    "- triple quotes is used to convey the information\n",
    "- it is aslo called as **doc string**\n",
    "- it is aslo called as **multiline**"
   ]
  },
  {
   "cell_type": "code",
   "execution_count": 6,
   "id": "d7ebc504-fa6c-42d4-9c4d-6e048ef70753",
   "metadata": {},
   "outputs": [
    {
     "name": "stdout",
     "output_type": "stream",
     "text": [
      "hello dr how are u \n",
      "        i am gud\n"
     ]
    }
   ],
   "source": [
    "str7=\"\"\"hello dr how are u \n",
    "        i am gud\"\"\"\n",
    "print(str7)"
   ]
  },
  {
   "cell_type": "code",
   "execution_count": 8,
   "id": "9dad5f7d-2734-418d-9805-bf3e5a35425d",
   "metadata": {},
   "outputs": [
    {
     "data": {
      "text/plain": [
       "\"I like 'python'\""
      ]
     },
     "execution_count": 8,
     "metadata": {},
     "output_type": "execute_result"
    }
   ],
   "source": [
    "str8=\"I like 'python'\"\n",
    "str8"
   ]
  },
  {
   "cell_type": "markdown",
   "id": "5e5094b6-aeb7-4804-bd62-c7a368ad8f48",
   "metadata": {},
   "source": [
    "- type\n",
    "- print\n",
    "- len\n",
    "- max\n",
    "- min\n",
    "- reversed\n",
    "- sorted\n",
    "- in \n",
    "- index\n",
    "- slice"
   ]
  },
  {
   "cell_type": "markdown",
   "id": "37dfd897-9e21-4769-8298-4ac87982a0ec",
   "metadata": {},
   "source": [
    "**Type operator**\n",
    "\n",
    "- type is the keyword it will give the type of value\n",
    "  "
   ]
  },
  {
   "cell_type": "code",
   "execution_count": 9,
   "id": "a598e776-aa22-4ead-aab5-9aa54b0a4f24",
   "metadata": {},
   "outputs": [
    {
     "data": {
      "text/plain": [
       "str"
      ]
     },
     "execution_count": 9,
     "metadata": {},
     "output_type": "execute_result"
    }
   ],
   "source": [
    "str1='python'\n",
    "type(str1)"
   ]
  },
  {
   "cell_type": "markdown",
   "id": "692010f1-d964-4b5c-bd7c-a2bcca4535d6",
   "metadata": {},
   "source": [
    "#1Q) what is diff b/t keywords and package methods\n",
    "\n",
    "- keyword is reserved\n",
    "- different methods are avaliable on different packages\n",
    "- we have limited keywords are there : 35 keywords are there these are fixed\n",
    "- whenever any keyword : keyword(value)\n",
    "- before keyword there is no another statement\n",
    "- there is no dot before keyword\n",
    "    - eval()\n",
    "    - input()\n",
    "    - type()\n",
    "    - print()\n",
    "    - range()\n",
    "- if you want to use methods from package\n",
    "    - you need to import the package\n",
    "    - or package name or method name"
   ]
  },
  {
   "cell_type": "code",
   "execution_count": 12,
   "id": "db779cb1-8e51-4aff-8bc9-862938dbf9e6",
   "metadata": {},
   "outputs": [],
   "source": [
    "#eval()\n",
    "#input()\n",
    "#type()\n",
    "#print()"
   ]
  },
  {
   "cell_type": "code",
   "execution_count": 13,
   "id": "c99b6eb7-123a-4ae7-9d82-91b1a6f448f1",
   "metadata": {},
   "outputs": [
    {
     "name": "stdout",
     "output_type": "stream",
     "text": [
      "python\n"
     ]
    }
   ],
   "source": [
    "len='python'\n",
    "print(len)"
   ]
  },
  {
   "cell_type": "code",
   "execution_count": 17,
   "id": "bc1ca36b-5a29-4423-8872-67c868286448",
   "metadata": {},
   "outputs": [
    {
     "ename": "TypeError",
     "evalue": "'str' object is not callable",
     "output_type": "error",
     "traceback": [
      "\u001b[1;31m---------------------------------------------------------------------------\u001b[0m",
      "\u001b[1;31mTypeError\u001b[0m                                 Traceback (most recent call last)",
      "Cell \u001b[1;32mIn[17], line 2\u001b[0m\n\u001b[0;32m      1\u001b[0m str1\u001b[38;5;241m=\u001b[39m\u001b[38;5;124m'\u001b[39m\u001b[38;5;124mpython\u001b[39m\u001b[38;5;124m'\u001b[39m\n\u001b[1;32m----> 2\u001b[0m \u001b[38;5;28mlen\u001b[39m(str1), \u001b[38;5;28mlen\u001b[39m(\u001b[38;5;124m'\u001b[39m\u001b[38;5;124momkar sir\u001b[39m\u001b[38;5;124m'\u001b[39m)\n",
      "\u001b[1;31mTypeError\u001b[0m: 'str' object is not callable"
     ]
    }
   ],
   "source": [
    "str1='python'\n",
    "len(str1), len('omkar sir')\n"
   ]
  },
  {
   "cell_type": "markdown",
   "id": "afc7abf9-c24d-4194-ac1d-533210cd0a6e",
   "metadata": {},
   "source": [
    "**max**\n",
    "\n",
    "- it will retrive the maximu charter based on ascii value"
   ]
  },
  {
   "cell_type": "code",
   "execution_count": 19,
   "id": "88e571b8-e02d-42ae-93f4-2e2132080ad0",
   "metadata": {},
   "outputs": [
    {
     "data": {
      "text/plain": [
       "'y'"
      ]
     },
     "execution_count": 19,
     "metadata": {},
     "output_type": "execute_result"
    }
   ],
   "source": [
    "s1='python'\n",
    "max(s1)"
   ]
  },
  {
   "cell_type": "code",
   "execution_count": 23,
   "id": "19d1710f-1611-44d6-9e64-25893cb1dd5e",
   "metadata": {},
   "outputs": [
    {
     "data": {
      "text/plain": [
       "(112, 121, 116, 104, 111, 110)"
      ]
     },
     "execution_count": 23,
     "metadata": {},
     "output_type": "execute_result"
    }
   ],
   "source": [
    "ord('p'),ord('y'),ord('t'),ord('h'),ord('o'),ord('n')"
   ]
  },
  {
   "cell_type": "markdown",
   "id": "c3c6f0b4-d261-4aed-b275-ef7884826e45",
   "metadata": {},
   "source": [
    "**sum**\n",
    "\n",
    "- it will return\n",
    "- it will not work for string"
   ]
  },
  {
   "cell_type": "markdown",
   "id": "356b6c63-d28e-47a1-a56b-8a0e2287cf2e",
   "metadata": {},
   "source": [
    "**Reversed**"
   ]
  },
  {
   "cell_type": "code",
   "execution_count": 24,
   "id": "febe30f5-4345-424a-847e-9fd3cc9d397d",
   "metadata": {},
   "outputs": [
    {
     "data": {
      "text/plain": [
       "<reversed at 0x13518a7bf40>"
      ]
     },
     "execution_count": 24,
     "metadata": {},
     "output_type": "execute_result"
    }
   ],
   "source": [
    "reversed('python')"
   ]
  },
  {
   "cell_type": "code",
   "execution_count": 25,
   "id": "d8688c32-4480-49a6-8241-a566fb0dea27",
   "metadata": {},
   "outputs": [
    {
     "name": "stdout",
     "output_type": "stream",
     "text": [
      "n\n",
      "o\n",
      "h\n",
      "t\n",
      "y\n",
      "p\n"
     ]
    }
   ],
   "source": [
    "str1=reversed('python')\n",
    "for i in str1:\n",
    "    print(i)"
   ]
  },
  {
   "cell_type": "markdown",
   "id": "a31ebf8f-5ec0-4c7a-99bf-30fabb61ba7a",
   "metadata": {},
   "source": [
    "**Note**\n",
    "\n",
    "- whenever you see output inside greater than less than symbol\n",
    "- means the output is stored inside that\n",
    "- it is nothing but iterator\n",
    "- iterator means the output we can see using loop only"
   ]
  },
  {
   "cell_type": "markdown",
   "id": "9ac52cff-5390-47d3-8573-e8d9c8282586",
   "metadata": {},
   "source": [
    "**sorted**\n",
    "\n",
    "- will give output ascending order or decending order based on ascii values\n",
    "- sorted had one argument called reverse\n",
    "- reverse is a default argument with value false\n",
    "- false means it returns in ascending order\n",
    "- ascending means small to big\n",
    "- now give reverse=True and check the order\n",
    "- it should be decending order\n",
    "- decending means big to small"
   ]
  },
  {
   "cell_type": "code",
   "execution_count": 27,
   "id": "338f7920-af58-4b33-a45d-562876f3443f",
   "metadata": {},
   "outputs": [
    {
     "name": "stdout",
     "output_type": "stream",
     "text": [
      "h\n",
      "h\n",
      "i\n",
      "o\n",
      "r\n",
      "t\n"
     ]
    }
   ],
   "source": [
    "str1=sorted('rohith')\n",
    "for i in str1:\n",
    "    print(i)"
   ]
  },
  {
   "cell_type": "code",
   "execution_count": 28,
   "id": "e56e740c-54d3-4e4e-a741-190cb96dad6c",
   "metadata": {},
   "outputs": [
    {
     "data": {
      "text/plain": [
       "['h', 'h', 'i', 'o', 'r', 't']"
      ]
     },
     "execution_count": 28,
     "metadata": {},
     "output_type": "execute_result"
    }
   ],
   "source": [
    "sorted('rohith')"
   ]
  },
  {
   "cell_type": "code",
   "execution_count": 32,
   "id": "2f5c8b9c-a53a-4a83-9ce8-f1547e15fcba",
   "metadata": {},
   "outputs": [
    {
     "data": {
      "text/plain": [
       "['t', 'r', 'o', 'i', 'h', 'h']"
      ]
     },
     "execution_count": 32,
     "metadata": {},
     "output_type": "execute_result"
    }
   ],
   "source": [
    "sorted('rohith',reverse=True)"
   ]
  },
  {
   "cell_type": "code",
   "execution_count": 33,
   "id": "5ecd0105-e1fe-4d16-bbcd-c5e06b5dcf33",
   "metadata": {},
   "outputs": [],
   "source": [
    "# if you see any /\n",
    "# do not assign any argument before the / slash"
   ]
  },
  {
   "cell_type": "code",
   "execution_count": 35,
   "id": "86c3a93b-89f4-4bc4-a718-b7f6d31c35c0",
   "metadata": {},
   "outputs": [
    {
     "data": {
      "text/plain": [
       "0j"
      ]
     },
     "execution_count": 35,
     "metadata": {},
     "output_type": "execute_result"
    }
   ],
   "source": [
    "complex()"
   ]
  },
  {
   "cell_type": "code",
   "execution_count": 37,
   "id": "2dbfc102-70c1-4ab0-9759-f5cd91baa5d0",
   "metadata": {},
   "outputs": [
    {
     "data": {
      "text/plain": [
       "1"
      ]
     },
     "execution_count": 37,
     "metadata": {},
     "output_type": "execute_result"
    }
   ],
   "source": [
    "import random\n",
    "random.randint(1,2)"
   ]
  },
  {
   "cell_type": "code",
   "execution_count": 38,
   "id": "0b27e2ca-f5ef-489b-a706-f3fbb6ef2df1",
   "metadata": {},
   "outputs": [
    {
     "data": {
      "text/plain": [
       "(2+5j)"
      ]
     },
     "execution_count": 38,
     "metadata": {},
     "output_type": "execute_result"
    }
   ],
   "source": [
    "complex(2,5)"
   ]
  },
  {
   "cell_type": "code",
   "execution_count": 41,
   "id": "89d278e9-7585-47f3-ae08-d69bc36052fe",
   "metadata": {},
   "outputs": [
    {
     "data": {
      "text/plain": [
       "(2+7j)"
      ]
     },
     "execution_count": 41,
     "metadata": {},
     "output_type": "execute_result"
    }
   ],
   "source": [
    "complex(real=2,imag=7)"
   ]
  },
  {
   "cell_type": "code",
   "execution_count": 42,
   "id": "b9297980-de8a-44f9-9ae2-63141eed45c1",
   "metadata": {},
   "outputs": [
    {
     "ename": "SyntaxError",
     "evalue": "positional argument follows keyword argument (3188585962.py, line 1)",
     "output_type": "error",
     "traceback": [
      "\u001b[1;36m  Cell \u001b[1;32mIn[42], line 1\u001b[1;36m\u001b[0m\n\u001b[1;33m    complex(real=2,6)\u001b[0m\n\u001b[1;37m                    ^\u001b[0m\n\u001b[1;31mSyntaxError\u001b[0m\u001b[1;31m:\u001b[0m positional argument follows keyword argument\n"
     ]
    }
   ],
   "source": [
    "complex(real=2,6)"
   ]
  },
  {
   "cell_type": "code",
   "execution_count": 43,
   "id": "df31f36d-424a-4818-8f52-ed61fe767e81",
   "metadata": {},
   "outputs": [
    {
     "data": {
      "text/plain": [
       "(2+3j)"
      ]
     },
     "execution_count": 43,
     "metadata": {},
     "output_type": "execute_result"
    }
   ],
   "source": [
    "complex(2,3)"
   ]
  },
  {
   "cell_type": "code",
   "execution_count": 44,
   "id": "57960805-1c8f-4bcb-a567-cb1005209d54",
   "metadata": {},
   "outputs": [
    {
     "data": {
      "text/plain": [
       "(2+4j)"
      ]
     },
     "execution_count": 44,
     "metadata": {},
     "output_type": "execute_result"
    }
   ],
   "source": [
    "complex(2,imag=4)\n"
   ]
  },
  {
   "cell_type": "code",
   "execution_count": 48,
   "id": "4f8e0838-c279-4914-ba62-226ee8838f0c",
   "metadata": {},
   "outputs": [
    {
     "data": {
      "text/plain": [
       "1"
      ]
     },
     "execution_count": 48,
     "metadata": {},
     "output_type": "execute_result"
    }
   ],
   "source": [
    "import random\n",
    "random.randint(1,3)"
   ]
  },
  {
   "cell_type": "code",
   "execution_count": 52,
   "id": "27384c60-d94d-4c2e-9253-edfea8f782d8",
   "metadata": {},
   "outputs": [
    {
     "data": {
      "text/plain": [
       "3"
      ]
     },
     "execution_count": 52,
     "metadata": {},
     "output_type": "execute_result"
    }
   ],
   "source": [
    "import random\n",
    "random.randint(1,b=3)"
   ]
  },
  {
   "cell_type": "markdown",
   "id": "c6041604-17d3-44c1-87f2-871be82b7282",
   "metadata": {},
   "source": [
    "**in operator**"
   ]
  },
  {
   "cell_type": "code",
   "execution_count": 69,
   "id": "12438ad7-0a3a-4d5f-9390-19a6d2d8636a",
   "metadata": {},
   "outputs": [
    {
     "name": "stdout",
     "output_type": "stream",
     "text": [
      "2\n"
     ]
    }
   ],
   "source": [
    "# wap aask the user get the number of 'a' in a given string\n",
    "\n",
    "# count=0\n",
    "# iterate through each letter\n",
    "# if that letter equal to 'a'\n",
    "# then count=count+1\n",
    "# print(count)\n",
    "\n",
    "\n",
    "count=0\n",
    "str1='hello hw are you,i am rohith'\n",
    "for i in str1:\n",
    "    if i=='a':\n",
    "        count=count+1\n",
    "print(count)        \n",
    "\n"
   ]
  },
  {
   "cell_type": "markdown",
   "id": "d6a2ceac-2121-44a0-9a02-e3423c52f9c0",
   "metadata": {},
   "source": [
    "**Index**"
   ]
  },
  {
   "cell_type": "code",
   "execution_count": 1,
   "id": "dbc30ee5-4acf-4de5-8ee9-a4d1399c7ef2",
   "metadata": {},
   "outputs": [
    {
     "data": {
      "text/plain": [
       "'h'"
      ]
     },
     "execution_count": 1,
     "metadata": {},
     "output_type": "execute_result"
    }
   ],
   "source": [
    "str1='hello python'      # in python index start with zero\n",
    "str1[0]"
   ]
  },
  {
   "cell_type": "code",
   "execution_count": null,
   "id": "b008ce33-dc33-4d7f-877b-d5edc20a26ca",
   "metadata": {},
   "outputs": [],
   "source": [
    "-12 -11 -10 -9 -8 -7 -6 -5 -4 -3 -2 -1 \n",
    " h   e   l   l  o     p  y  t  h  o  n\n",
    " 0  1  2  3  4  5     6  7  8  9  10 11"
   ]
  },
  {
   "cell_type": "code",
   "execution_count": null,
   "id": "6e57149c-fd6b-4815-8d56-55a7c9c7d60b",
   "metadata": {},
   "outputs": [],
   "source": [
    "str1='hello python'      # in python index start with zero\n",
    "str1[0]\n",
    "str1[1]\n"
   ]
  },
  {
   "cell_type": "code",
   "execution_count": 4,
   "id": "14e4653c-23d8-4556-9553-6885bee19951",
   "metadata": {},
   "outputs": [
    {
     "name": "stdout",
     "output_type": "stream",
     "text": [
      "0 h\n",
      "1 e\n",
      "2 l\n",
      "3 l\n",
      "4 o\n",
      "5  \n",
      "6 p\n",
      "7 y\n",
      "8 t\n",
      "9 h\n",
      "10 o\n",
      "11 n\n"
     ]
    }
   ],
   "source": [
    "for i in range(0,12):\n",
    "    print(i,str1[i])"
   ]
  },
  {
   "cell_type": "code",
   "execution_count": 5,
   "id": "ba0a0b4c-867d-4f50-b811-35d951db1d5e",
   "metadata": {},
   "outputs": [
    {
     "data": {
      "text/plain": [
       "12"
      ]
     },
     "execution_count": 5,
     "metadata": {},
     "output_type": "execute_result"
    }
   ],
   "source": [
    "len(str1)"
   ]
  },
  {
   "cell_type": "code",
   "execution_count": 8,
   "id": "395a47a1-f988-45a3-a9f5-f9f772decee0",
   "metadata": {},
   "outputs": [
    {
     "name": "stdout",
     "output_type": "stream",
     "text": [
      "0 o\n",
      "1 m\n",
      "2 k\n",
      "3 a\n",
      "4 r\n",
      "5  \n",
      "6 s\n",
      "7 i\n",
      "8 r\n"
     ]
    }
   ],
   "source": [
    "str1='omkar sir'\n",
    "n=len(str1)\n",
    "for i in range(n):\n",
    "    print(i,str1[i])\n"
   ]
  },
  {
   "cell_type": "code",
   "execution_count": null,
   "id": "a7f2be44-7b13-4794-9a9f-979f8d8afa79",
   "metadata": {},
   "outputs": [],
   "source": [
    "st1r[-12]\n",
    "str1[-11]\n",
    "str1[-10]\n",
    "\n",
    "#hello python\n",
    "# -12 to -1"
   ]
  },
  {
   "cell_type": "code",
   "execution_count": 16,
   "id": "a6d9d086-cfa7-4795-9a5e-a00891715c49",
   "metadata": {},
   "outputs": [
    {
     "name": "stdout",
     "output_type": "stream",
     "text": [
      "-6 p -5 y -4 t -3 h -2 o -1 n "
     ]
    }
   ],
   "source": [
    "str1='python'\n",
    "n=len(str1)\n",
    "for i in range(-n,0):\n",
    "    print(i,str1[i],end=' ')"
   ]
  },
  {
   "cell_type": "code",
   "execution_count": 17,
   "id": "447b4aa4-5e54-4150-ab1c-34a50c3ee280",
   "metadata": {},
   "outputs": [
    {
     "name": "stdout",
     "output_type": "stream",
     "text": [
      "-6 p\n",
      "-5 y\n",
      "-4 t\n",
      "-3 h\n",
      "-2 o\n",
      "-1 n\n"
     ]
    }
   ],
   "source": [
    "str1='python'\n",
    "n=len(str1)\n",
    "for i in range(-n,0):\n",
    "    print(i,str1[i])"
   ]
  },
  {
   "cell_type": "code",
   "execution_count": 21,
   "id": "f39587ed-8a4a-4009-8bbf-e6681ead7eee",
   "metadata": {},
   "outputs": [
    {
     "name": "stdout",
     "output_type": "stream",
     "text": [
      "the postive index of p is 0\n",
      "the postive index of y is 1\n",
      "the postive index of t is 2\n",
      "the postive index of h is 3\n",
      "the postive index of o is 4\n",
      "the postive index of n is 5\n"
     ]
    }
   ],
   "source": [
    "#1Q) wap to print the each letter index postive way\n",
    "# the postive of h is 0\n",
    "#  the positve of e is 1\n",
    "\n",
    "str='python'\n",
    "n=len(str1)\n",
    "for i in range(n):\n",
    "    print(f\"the postive index of {str1[i]} is {i}\")\n"
   ]
  },
  {
   "cell_type": "code",
   "execution_count": 31,
   "id": "e96ddc4a-68e1-4884-81d2-d09230295d75",
   "metadata": {},
   "outputs": [
    {
     "name": "stdout",
     "output_type": "stream",
     "text": [
      "the neagtive index of p is -6\n",
      "the neagtive index of y is -5\n",
      "the neagtive index of t is -4\n",
      "the neagtive index of h is -3\n",
      "the neagtive index of o is -2\n",
      "the neagtive index of n is -1\n"
     ]
    }
   ],
   "source": [
    "#2Q) wap to print the each letter index negative way\n",
    "# the negative of h is -0\n",
    "#  the negative of e is -1\n",
    "\n",
    "str='python'\n",
    "n=len(str1)\n",
    "for i in range(-n,0):\n",
    "    print(f\"the neagtive index of {str1[i]} is {i}\")"
   ]
  },
  {
   "cell_type": "code",
   "execution_count": 34,
   "id": "2ffa3748-7145-4846-b208-771575ff41cb",
   "metadata": {},
   "outputs": [
    {
     "name": "stdout",
     "output_type": "stream",
     "text": [
      "the postive index of p is 0 and the neagtive index of p is -6\n",
      "the postive index of y is 1 and the neagtive index of y is -5\n",
      "the postive index of t is 2 and the neagtive index of t is -4\n",
      "the postive index of h is 3 and the neagtive index of h is -3\n",
      "the postive index of o is 4 and the neagtive index of o is -2\n",
      "the postive index of n is 5 and the neagtive index of n is -1\n"
     ]
    }
   ],
   "source": [
    "#3Q) wap to print the each letter index both positve & negative way\n",
    "# the negative of h is -0  the postive of h is 0\n",
    "#  the negative of e is -1  the positve of e is 1\n",
    "\n",
    "str='python'\n",
    "n=len(str1)\n",
    "for i in range(n):\n",
    "    print(f\"the postive index of {str1[i]} is {i} and the neagtive index of {str1[i]} is {i-len(str1)}\")\n",
    "    "
   ]
  },
  {
   "cell_type": "code",
   "execution_count": 46,
   "id": "7c1b3e70-0155-42cd-b197-9320e97cf743",
   "metadata": {},
   "outputs": [
    {
     "name": "stdout",
     "output_type": "stream",
     "text": [
      "'avaialable'"
     ]
    }
   ],
   "source": [
    "# 4Q) wap ask the user get the indexes of occurences of 'a' in agiven strings\n",
    "\n",
    "# str1= 'avaialable'\n",
    "# iterrate through str1 \n",
    "# apply the if condition if charcter == a\n",
    "# then print that i\n",
    "\n",
    "str1=\"'avaialable'\"    \n",
    "for i in (str1):\n",
    "    print(i,end='')"
   ]
  },
  {
   "cell_type": "code",
   "execution_count": 61,
   "id": "34638b2c-ec7c-44e8-95ef-7aa6d9452303",
   "metadata": {},
   "outputs": [
    {
     "name": "stdout",
     "output_type": "stream",
     "text": [
      "1 occurence of index a is 0\n",
      "2 occurence of index a is 2\n",
      "3 occurence of index a is 4\n",
      "4 occurence of index a is 6\n"
     ]
    }
   ],
   "source": [
    "#5q) print first occurence of a index is 0\n",
    "# print second occurence of a index is 2\n",
    "# print third occurence of a index is 4\n",
    "# print fourth occurence of a index is 6\n",
    "count=0\n",
    "str3='avaialable'    \n",
    "for i in range(len(str3)):\n",
    "    if str3[i]=='a':\n",
    "        count=count+1\n",
    "        print(f\"{count} occurence of index {str3[i]} is {i}\")\n",
    "    "
   ]
  },
  {
   "cell_type": "code",
   "execution_count": 68,
   "id": "f804210d-8e09-4177-97e3-0d3e30b0bd02",
   "metadata": {},
   "outputs": [
    {
     "name": "stdout",
     "output_type": "stream",
     "text": [
      "the count of index of all occurence of 'a' is 4\n",
      "the count of index of all occurence of 'a' is 12\n"
     ]
    }
   ],
   "source": [
    "#6q) get the sum of all the index\n",
    "# get the count of all occurence : 3\n",
    "\n",
    "count=0\n",
    "summ=0\n",
    "str1='avaialable'    \n",
    "for i in range(len(str1)):\n",
    "    if str1[i]=='a':\n",
    "        count=count+1\n",
    "        summ=summ+i\n",
    "print(f\"the count of index of all occurence of 'a' is {count}\")\n",
    "print(f\"the count of index of all occurence of 'a' is {summ}\")"
   ]
  },
  {
   "cell_type": "code",
   "execution_count": null,
   "id": "28b4cf72-c758-4d5f-aff0-d5afbdf19a04",
   "metadata": {},
   "outputs": [],
   "source": [
    "#7Q) find the vowels in the given string\n",
    "# str1 : hai how are you\n",
    "# find the indexes of vowels\n",
    "# find the count of the vowels\n",
    "# find the sum of before index of vowels"
   ]
  },
  {
   "cell_type": "code",
   "execution_count": 80,
   "id": "1e513614-0615-4c51-9a72-9345338aa6f9",
   "metadata": {},
   "outputs": [
    {
     "name": "stdout",
     "output_type": "stream",
     "text": [
      "a i o a e o u "
     ]
    }
   ],
   "source": [
    "str='hai how are you'\n",
    "for i in range(len(str)):\n",
    "    if str[i] in 'aeiou':\n",
    "        print(str[i],end=' ')"
   ]
  },
  {
   "cell_type": "code",
   "execution_count": 6,
   "id": "0af6c40e-4d64-4a18-8273-b0318f284cb3",
   "metadata": {},
   "outputs": [
    {
     "name": "stdout",
     "output_type": "stream",
     "text": [
      "a is a vowel\n",
      "i is a vowel\n",
      "o is a vowel\n",
      "a is a vowel\n",
      "e is a vowel\n",
      "o is a vowel\n",
      "u is a vowel\n"
     ]
    }
   ],
   "source": [
    "#a)  find the vowels in given string\n",
    "str1=\"hai how are you\"\n",
    "count=0\n",
    "for i in range(len(str1)):\n",
    "    if str1[i] in'aeiou':\n",
    "        print( f\"{str1[i]} is a vowel\")\n",
    "        count=count+1\n"
   ]
  },
  {
   "cell_type": "code",
   "execution_count": 9,
   "id": "33357491-cabc-41ea-99ea-a54ffb53622e",
   "metadata": {},
   "outputs": [
    {
     "name": "stdout",
     "output_type": "stream",
     "text": [
      "The index of the a is 1\n",
      "The index of the i is 2\n",
      "The index of the o is 5\n",
      "The index of the a is 8\n",
      "The index of the e is 10\n",
      "The index of the o is 13\n",
      "The index of the u is 14\n"
     ]
    }
   ],
   "source": [
    " #b)   find the indexes of the vowels\n",
    "count=0\n",
    "summ=0\n",
    "str1=\"hai how are you\"\n",
    " for i in range(len(str1)):\n",
    "     if str1[i] in 'aeiou':\n",
    "         count=count+1\n",
    "         summ=summ + i\n",
    "         print(f\"The index of the {str1[i]} is {i}\")"
   ]
  },
  {
   "cell_type": "code",
   "execution_count": 10,
   "id": "13561475-3225-4c35-83ca-577c647e335b",
   "metadata": {},
   "outputs": [
    {
     "name": "stdout",
     "output_type": "stream",
     "text": [
      "The count of all the vowels in a given string is: 7\n"
     ]
    }
   ],
   "source": [
    " #c)   find count of vowels\n",
    "count=0\n",
    "summ=0\n",
    "str1=\"hai how are you\"\n",
    " for i in range(len(str1)):\n",
    "     if str1[i] in 'aeiou':\n",
    "         count=count+1\n",
    "         summ=summ + i\n",
    " print(f\"The count of all the vowels in a given string is: {count}\")"
   ]
  },
  {
   "cell_type": "code",
   "execution_count": 15,
   "id": "79edb96a-6abc-49b1-837c-4a44b00dc5da",
   "metadata": {},
   "outputs": [
    {
     "name": "stdout",
     "output_type": "stream",
     "text": [
      "The count of all the consonants in a given string is: 0\n",
      "The count of all the consonants in a given string is: 4\n",
      "The count of all the consonants in a given string is: 10\n",
      "The count of all the consonants in a given string is: 19\n",
      "The count of all the consonants in a given string is: 31\n"
     ]
    }
   ],
   "source": [
    "#d)  find the sum of before index of vowels\n",
    "count=0\n",
    "summ=0\n",
    "str1=\"hai how are you\"\n",
    "consonants=\"bcdfghjklmnpqrstvwxyz\"\n",
    "for i in range(len(str1)):\n",
    "    if str1[i] in consonants:\n",
    "        count=count+1\n",
    "        summ=summ+ i\n",
    "        print(f\"The count of all the consonants in a given string is: {summ}\")"
   ]
  },
  {
   "cell_type": "markdown",
   "id": "009b04d1-640e-48ed-ad27-07a0aebdc0e6",
   "metadata": {},
   "source": [
    "**mutable-immutable**\n",
    "\n",
    "- values cannot change using index operations called immutable\n",
    "- strings are immutable"
   ]
  },
  {
   "cell_type": "code",
   "execution_count": 2,
   "id": "b619faca-5fc8-43ce-8513-fa32d1f1e7b3",
   "metadata": {},
   "outputs": [
    {
     "ename": "TypeError",
     "evalue": "'str' object does not support item assignment",
     "output_type": "error",
     "traceback": [
      "\u001b[1;31m---------------------------------------------------------------------------\u001b[0m",
      "\u001b[1;31mTypeError\u001b[0m                                 Traceback (most recent call last)",
      "Cell \u001b[1;32mIn[2], line 3\u001b[0m\n\u001b[0;32m      1\u001b[0m \u001b[38;5;66;03m#\u001b[39;00m\n\u001b[0;32m      2\u001b[0m str1\u001b[38;5;241m=\u001b[39m\u001b[38;5;124m'\u001b[39m\u001b[38;5;124mpython\u001b[39m\u001b[38;5;124m'\u001b[39m \n\u001b[1;32m----> 3\u001b[0m str1[\u001b[38;5;241m0\u001b[39m]\u001b[38;5;241m=\u001b[39m\u001b[38;5;124m'\u001b[39m\u001b[38;5;124mP\u001b[39m\u001b[38;5;124m'\u001b[39m\n",
      "\u001b[1;31mTypeError\u001b[0m: 'str' object does not support item assignment"
     ]
    }
   ],
   "source": [
    "# i want replace 'p' with 'P'\n",
    "str1='python' \n",
    "str1[0]='P'"
   ]
  },
  {
   "cell_type": "code",
   "execution_count": null,
   "id": "a26b68c2-0d51-4fb4-9995-17c1f2f2e992",
   "metadata": {},
   "outputs": [],
   "source": [
    "## strings are immutable"
   ]
  },
  {
   "cell_type": "code",
   "execution_count": 3,
   "id": "0711e86b-059f-4f1e-ad6c-4844718e9a09",
   "metadata": {},
   "outputs": [],
   "source": [
    "l=[10,20,30]\n",
    "l[0]=100"
   ]
  },
  {
   "cell_type": "code",
   "execution_count": 4,
   "id": "11ac490e-33c2-4a59-954b-ac123c453a5d",
   "metadata": {},
   "outputs": [
    {
     "data": {
      "text/plain": [
       "[100, 20, 30]"
      ]
     },
     "execution_count": 4,
     "metadata": {},
     "output_type": "execute_result"
    }
   ],
   "source": [
    "l"
   ]
  },
  {
   "cell_type": "markdown",
   "id": "38e73181-a196-4697-a1c7-d20e1eda17cb",
   "metadata": {},
   "source": [
    "**slice**\n",
    "\n",
    "- cut into pieces\n",
    "- which means we can extract some part of string\n",
    "- for that we need to understand the start,stop,step\n",
    "\n",
    "- s[start:stop:step]\n",
    "- range(start,stop,step)"
   ]
  },
  {
   "cell_type": "code",
   "execution_count": 7,
   "id": "987c1f69-b975-46d7-809e-e5061fa7c979",
   "metadata": {},
   "outputs": [
    {
     "data": {
      "text/plain": [
       "'llo pyth'"
      ]
     },
     "execution_count": 7,
     "metadata": {},
     "output_type": "execute_result"
    }
   ],
   "source": [
    "#-12 -11 -10 -9 -8 -7 -6 -5 -4 -3 -2 -1 \n",
    "# h   e   l   l  o     p  y  t  h  o  n\n",
    "# 0  1  2  3  4  5     6  7  8  9  10 11\n",
    "\n",
    "str='hello python'\n",
    "str[2:10]"
   ]
  },
  {
   "cell_type": "code",
   "execution_count": 9,
   "id": "7cd7a408-8716-41e6-abf4-c18eb4512727",
   "metadata": {},
   "outputs": [
    {
     "data": {
      "text/plain": [
       "'lopt'"
      ]
     },
     "execution_count": 9,
     "metadata": {},
     "output_type": "execute_result"
    }
   ],
   "source": [
    "str='hello python'\n",
    "str[2:10:2]"
   ]
  },
  {
   "cell_type": "code",
   "execution_count": 10,
   "id": "09211afd-eefa-4a10-a6af-ed654b402ef6",
   "metadata": {},
   "outputs": [
    {
     "data": {
      "text/plain": [
       "''"
      ]
     },
     "execution_count": 10,
     "metadata": {},
     "output_type": "execute_result"
    }
   ],
   "source": [
    "str='hello python'\n",
    "str[2:10:-2]\n",
    "\n",
    "# start=2\n",
    "# direction= negative\n",
    "# last= stop+1=10+1=11\n",
    "# 2====11 (actual postive)\n",
    "# code says negative it is not possible"
   ]
  },
  {
   "cell_type": "code",
   "execution_count": 12,
   "id": "14849598-902f-41b2-96e4-9287ad723261",
   "metadata": {},
   "outputs": [
    {
     "data": {
      "text/plain": [
       "'y le'"
      ]
     },
     "execution_count": 12,
     "metadata": {},
     "output_type": "execute_result"
    }
   ],
   "source": [
    "str='hello python'\n",
    "str[7:-12:-2]"
   ]
  },
  {
   "cell_type": "code",
   "execution_count": 14,
   "id": "8d7f5d1b-6408-4fbf-ac28-4ab59c8438b8",
   "metadata": {},
   "outputs": [
    {
     "data": {
      "text/plain": [
       "'lop'"
      ]
     },
     "execution_count": 14,
     "metadata": {},
     "output_type": "execute_result"
    }
   ],
   "source": [
    "str='hello python'\n",
    "str[2:-4:2]"
   ]
  },
  {
   "cell_type": "code",
   "execution_count": 15,
   "id": "b250bef3-bcc5-4f6b-b534-c34b00c86951",
   "metadata": {},
   "outputs": [
    {
     "data": {
      "text/plain": [
       "'to'"
      ]
     },
     "execution_count": 15,
     "metadata": {},
     "output_type": "execute_result"
    }
   ],
   "source": [
    "str1[2:12:2]"
   ]
  },
  {
   "cell_type": "code",
   "execution_count": 16,
   "id": "5049026f-8281-4955-9cf8-f9a2ffa413af",
   "metadata": {},
   "outputs": [
    {
     "data": {
      "text/plain": [
       "''"
      ]
     },
     "execution_count": 16,
     "metadata": {},
     "output_type": "execute_result"
    }
   ],
   "source": [
    "str1[2:12:-2]"
   ]
  },
  {
   "cell_type": "code",
   "execution_count": 17,
   "id": "bfbc84c3-f528-4820-948c-47bd6508f214",
   "metadata": {},
   "outputs": [
    {
     "data": {
      "text/plain": [
       "''"
      ]
     },
     "execution_count": 17,
     "metadata": {},
     "output_type": "execute_result"
    }
   ],
   "source": [
    "str1[2:-12:2]"
   ]
  },
  {
   "cell_type": "code",
   "execution_count": 25,
   "id": "85812a1e-cb16-4211-821f-d250306a283a",
   "metadata": {},
   "outputs": [
    {
     "data": {
      "text/plain": [
       "'nohtyp'"
      ]
     },
     "execution_count": 25,
     "metadata": {},
     "output_type": "execute_result"
    }
   ],
   "source": [
    "str1[::-1]"
   ]
  },
  {
   "cell_type": "code",
   "execution_count": 26,
   "id": "7b71f9ef-cc25-4388-926d-68fde2d01580",
   "metadata": {},
   "outputs": [
    {
     "data": {
      "text/plain": [
       "'o'"
      ]
     },
     "execution_count": 26,
     "metadata": {},
     "output_type": "execute_result"
    }
   ],
   "source": [
    "str1[-2:12:2]"
   ]
  },
  {
   "cell_type": "code",
   "execution_count": 29,
   "id": "93ea5128-31dd-4e32-b414-ea4598c1006b",
   "metadata": {},
   "outputs": [
    {
     "data": {
      "text/plain": [
       "'o'"
      ]
     },
     "execution_count": 29,
     "metadata": {},
     "output_type": "execute_result"
    }
   ],
   "source": [
    "str1[-2:12:2]"
   ]
  },
  {
   "cell_type": "code",
   "execution_count": 33,
   "id": "8d0528a2-dab4-4ac9-940d-96f90bcf03b3",
   "metadata": {},
   "outputs": [
    {
     "data": {
      "text/plain": [
       "'tp'"
      ]
     },
     "execution_count": 33,
     "metadata": {},
     "output_type": "execute_result"
    }
   ],
   "source": [
    "str1[2::-2]"
   ]
  },
  {
   "cell_type": "markdown",
   "id": "7a863f00-e39a-4f40-88bc-4c7dd1091cde",
   "metadata": {},
   "source": [
    "- type\n",
    "- len\n",
    "- -max\n",
    "- min\n",
    "- sum\n",
    "- reveresed\n",
    "- sorted\n",
    "- in\n",
    "- not in\n",
    "- for loop iterate\n",
    "- index\n",
    "- mutable immutable\n",
    "- slice"
   ]
  },
  {
   "cell_type": "markdown",
   "id": "5d72aeac-302b-4555-8fd3-b32559381b68",
   "metadata": {},
   "source": [
    "**concatenation**"
   ]
  },
  {
   "cell_type": "code",
   "execution_count": 37,
   "id": "bf9448f6-6b88-44a8-be1c-87acd4da220f",
   "metadata": {},
   "outputs": [
    {
     "data": {
      "text/plain": [
       "'hello python'"
      ]
     },
     "execution_count": 37,
     "metadata": {},
     "output_type": "execute_result"
    }
   ],
   "source": [
    "str1='hello'\n",
    "str2='python'\n",
    "str1+' '+str2"
   ]
  },
  {
   "cell_type": "code",
   "execution_count": 41,
   "id": "7cbf33e0-2673-40e4-b53b-bd732639cfcc",
   "metadata": {},
   "outputs": [
    {
     "data": {
      "text/plain": [
       "'hello python'"
      ]
     },
     "execution_count": 41,
     "metadata": {},
     "output_type": "execute_result"
    }
   ],
   "source": [
    "str1='hello '\n",
    "str2='python'\n",
    "str1+str2"
   ]
  },
  {
   "cell_type": "code",
   "execution_count": 42,
   "id": "8055107b-eb0e-405a-bdfa-32f48b3971f1",
   "metadata": {},
   "outputs": [
    {
     "ename": "TypeError",
     "evalue": "can't multiply sequence by non-int of type 'str'",
     "output_type": "error",
     "traceback": [
      "\u001b[1;31m---------------------------------------------------------------------------\u001b[0m",
      "\u001b[1;31mTypeError\u001b[0m                                 Traceback (most recent call last)",
      "Cell \u001b[1;32mIn[42], line 1\u001b[0m\n\u001b[1;32m----> 1\u001b[0m str1\u001b[38;5;241m*\u001b[39mstr2\n",
      "\u001b[1;31mTypeError\u001b[0m: can't multiply sequence by non-int of type 'str'"
     ]
    }
   ],
   "source": [
    "str1*str2"
   ]
  },
  {
   "cell_type": "code",
   "execution_count": 43,
   "id": "b95c7d87-2fe0-45e6-bb70-143683bd5382",
   "metadata": {},
   "outputs": [
    {
     "ename": "TypeError",
     "evalue": "unsupported operand type(s) for -: 'str' and 'str'",
     "output_type": "error",
     "traceback": [
      "\u001b[1;31m---------------------------------------------------------------------------\u001b[0m",
      "\u001b[1;31mTypeError\u001b[0m                                 Traceback (most recent call last)",
      "Cell \u001b[1;32mIn[43], line 1\u001b[0m\n\u001b[1;32m----> 1\u001b[0m str1\u001b[38;5;241m-\u001b[39mstr2\n",
      "\u001b[1;31mTypeError\u001b[0m: unsupported operand type(s) for -: 'str' and 'str'"
     ]
    }
   ],
   "source": [
    "str1-str2"
   ]
  },
  {
   "cell_type": "code",
   "execution_count": 47,
   "id": "fdc833d6-6d8a-489b-8ad0-f0e12e6dbb9a",
   "metadata": {},
   "outputs": [
    {
     "ename": "TypeError",
     "evalue": "unsupported operand type(s) for /: 'str' and 'str'",
     "output_type": "error",
     "traceback": [
      "\u001b[1;31m---------------------------------------------------------------------------\u001b[0m",
      "\u001b[1;31mTypeError\u001b[0m                                 Traceback (most recent call last)",
      "Cell \u001b[1;32mIn[47], line 1\u001b[0m\n\u001b[1;32m----> 1\u001b[0m str1\u001b[38;5;241m/\u001b[39mstr2\n",
      "\u001b[1;31mTypeError\u001b[0m: unsupported operand type(s) for /: 'str' and 'str'"
     ]
    }
   ],
   "source": [
    "str1/str2"
   ]
  },
  {
   "cell_type": "code",
   "execution_count": 45,
   "id": "b3d89be0-5cc3-42a7-86b5-5479249b44cb",
   "metadata": {},
   "outputs": [
    {
     "data": {
      "text/plain": [
       "'hello hello '"
      ]
     },
     "execution_count": 45,
     "metadata": {},
     "output_type": "execute_result"
    }
   ],
   "source": [
    "str1*2"
   ]
  },
  {
   "cell_type": "markdown",
   "id": "24b4b224-c6b4-49d8-bc1c-1291922c4f1a",
   "metadata": {},
   "source": [
    "**string part-2**\n",
    "**string methods**"
   ]
  },
  {
   "cell_type": "markdown",
   "id": "04cc92b3-7e32-4daf-b276-dce66b5dc826",
   "metadata": {},
   "source": [
    "- you need to treat strings is a package\n",
    "- so apply dir on any string we will get the method"
   ]
  },
  {
   "cell_type": "code",
   "execution_count": 48,
   "id": "70406cc0-f07f-4794-b9b5-3ad91bea64f2",
   "metadata": {},
   "outputs": [
    {
     "data": {
      "text/plain": [
       "['__add__',\n",
       " '__class__',\n",
       " '__contains__',\n",
       " '__delattr__',\n",
       " '__dir__',\n",
       " '__doc__',\n",
       " '__eq__',\n",
       " '__format__',\n",
       " '__ge__',\n",
       " '__getattribute__',\n",
       " '__getitem__',\n",
       " '__getnewargs__',\n",
       " '__getstate__',\n",
       " '__gt__',\n",
       " '__hash__',\n",
       " '__init__',\n",
       " '__init_subclass__',\n",
       " '__iter__',\n",
       " '__le__',\n",
       " '__len__',\n",
       " '__lt__',\n",
       " '__mod__',\n",
       " '__mul__',\n",
       " '__ne__',\n",
       " '__new__',\n",
       " '__reduce__',\n",
       " '__reduce_ex__',\n",
       " '__repr__',\n",
       " '__rmod__',\n",
       " '__rmul__',\n",
       " '__setattr__',\n",
       " '__sizeof__',\n",
       " '__str__',\n",
       " '__subclasshook__',\n",
       " 'capitalize',\n",
       " 'casefold',\n",
       " 'center',\n",
       " 'count',\n",
       " 'encode',\n",
       " 'endswith',\n",
       " 'expandtabs',\n",
       " 'find',\n",
       " 'format',\n",
       " 'format_map',\n",
       " 'index',\n",
       " 'isalnum',\n",
       " 'isalpha',\n",
       " 'isascii',\n",
       " 'isdecimal',\n",
       " 'isdigit',\n",
       " 'isidentifier',\n",
       " 'islower',\n",
       " 'isnumeric',\n",
       " 'isprintable',\n",
       " 'isspace',\n",
       " 'istitle',\n",
       " 'isupper',\n",
       " 'join',\n",
       " 'ljust',\n",
       " 'lower',\n",
       " 'lstrip',\n",
       " 'maketrans',\n",
       " 'partition',\n",
       " 'removeprefix',\n",
       " 'removesuffix',\n",
       " 'replace',\n",
       " 'rfind',\n",
       " 'rindex',\n",
       " 'rjust',\n",
       " 'rpartition',\n",
       " 'rsplit',\n",
       " 'rstrip',\n",
       " 'split',\n",
       " 'splitlines',\n",
       " 'startswith',\n",
       " 'strip',\n",
       " 'swapcase',\n",
       " 'title',\n",
       " 'translate',\n",
       " 'upper',\n",
       " 'zfill']"
      ]
     },
     "execution_count": 48,
     "metadata": {},
     "output_type": "execute_result"
    }
   ],
   "source": [
    "s='python'\n",
    "dir(s)"
   ]
  },
  {
   "cell_type": "code",
   "execution_count": null,
   "id": "b7f56f71-6bba-4611-8ec7-e5458fa28bcd",
   "metadata": {},
   "outputs": [],
   "source": [
    "# how to call the keyword\n",
    "\n",
    "keyword()\n",
    "\n",
    "#methods\n",
    "#package. method"
   ]
  },
  {
   "cell_type": "markdown",
   "id": "736d7c17-cc02-4da5-83da-306abc79e42c",
   "metadata": {},
   "source": [
    "**capitalize**\n",
    "\n",
    "- Return a capitalized version of the string.\n",
    "- \n",
    "More specifically, make the first character have upper case and the rest lower"
   ]
  },
  {
   "cell_type": "code",
   "execution_count": 50,
   "id": "f61216d1-1a1d-459d-9422-aa28210297ec",
   "metadata": {},
   "outputs": [
    {
     "data": {
      "text/plain": [
       "'Python'"
      ]
     },
     "execution_count": 50,
     "metadata": {},
     "output_type": "execute_result"
    }
   ],
   "source": [
    "str='python'\n",
    "str.capitalize()"
   ]
  },
  {
   "cell_type": "code",
   "execution_count": 54,
   "id": "423c7a03-7cde-4c23-acc3-f770de58b4b5",
   "metadata": {},
   "outputs": [
    {
     "data": {
      "text/plain": [
       "16"
      ]
     },
     "execution_count": 54,
     "metadata": {},
     "output_type": "execute_result"
    }
   ],
   "source": [
    "import random\n",
    "random.randint(10,20)"
   ]
  },
  {
   "cell_type": "code",
   "execution_count": 55,
   "id": "ae2ff501-e14b-4733-950c-d0938548cc65",
   "metadata": {},
   "outputs": [
    {
     "data": {
      "text/plain": [
       "0j"
      ]
     },
     "execution_count": 55,
     "metadata": {},
     "output_type": "execute_result"
    }
   ],
   "source": [
    "complex()"
   ]
  },
  {
   "cell_type": "code",
   "execution_count": 56,
   "id": "4c0c573d-ab31-4bbe-897b-2cfa540f5719",
   "metadata": {},
   "outputs": [
    {
     "data": {
      "text/plain": [
       "'PYTHON'"
      ]
     },
     "execution_count": 56,
     "metadata": {},
     "output_type": "execute_result"
    }
   ],
   "source": [
    "str.upper()"
   ]
  },
  {
   "cell_type": "code",
   "execution_count": 57,
   "id": "e37c3272-abf0-46bf-84c2-7057f01cb90a",
   "metadata": {},
   "outputs": [
    {
     "data": {
      "text/plain": [
       "'python'"
      ]
     },
     "execution_count": 57,
     "metadata": {},
     "output_type": "execute_result"
    }
   ],
   "source": [
    "str.lower()"
   ]
  },
  {
   "cell_type": "code",
   "execution_count": 58,
   "id": "06d40d44-3383-48a8-841e-769b6bf347dd",
   "metadata": {},
   "outputs": [
    {
     "data": {
      "text/plain": [
       "'python'"
      ]
     },
     "execution_count": 58,
     "metadata": {},
     "output_type": "execute_result"
    }
   ],
   "source": [
    "str.casefold()"
   ]
  },
  {
   "cell_type": "code",
   "execution_count": 67,
   "id": "aae08559-f6c5-4a6c-a5fb-bf249cdb387e",
   "metadata": {},
   "outputs": [
    {
     "data": {
      "text/plain": [
       "'$python'"
      ]
     },
     "execution_count": 67,
     "metadata": {},
     "output_type": "execute_result"
    }
   ],
   "source": [
    "'python'.center(7,'$')"
   ]
  },
  {
   "cell_type": "markdown",
   "id": "9f4b7afe-7752-420b-8d65-e725390d42ec",
   "metadata": {},
   "source": [
    "- upper\n",
    "- lower\n",
    "- casefold\n",
    "- center"
   ]
  },
  {
   "cell_type": "markdown",
   "id": "553ab960-5f8d-4854-bc92-caece33940d9",
   "metadata": {},
   "source": [
    "**Return a version of the string suitable for caseless comparisons**"
   ]
  },
  {
   "cell_type": "code",
   "execution_count": 3,
   "id": "80372749-3a40-4ac6-8f2c-668bfdc27fdd",
   "metadata": {},
   "outputs": [
    {
     "data": {
      "text/plain": [
       "'python'"
      ]
     },
     "execution_count": 3,
     "metadata": {},
     "output_type": "execute_result"
    }
   ],
   "source": [
    "str.casefold('python')"
   ]
  },
  {
   "cell_type": "code",
   "execution_count": 8,
   "id": "741f150a-6523-46c9-b7f4-a40e19abe506",
   "metadata": {},
   "outputs": [
    {
     "ename": "TypeError",
     "evalue": "descriptor 'center' for 'str' objects doesn't apply to a 'int' object",
     "output_type": "error",
     "traceback": [
      "\u001b[1;31m---------------------------------------------------------------------------\u001b[0m",
      "\u001b[1;31mTypeError\u001b[0m                                 Traceback (most recent call last)",
      "Cell \u001b[1;32mIn[8], line 1\u001b[0m\n\u001b[1;32m----> 1\u001b[0m \u001b[38;5;28mstr\u001b[39m\u001b[38;5;241m.\u001b[39mcenter(\u001b[38;5;241m10\u001b[39m,\u001b[38;5;124m'\u001b[39m\u001b[38;5;124m$\u001b[39m\u001b[38;5;124m'\u001b[39m)\n",
      "\u001b[1;31mTypeError\u001b[0m: descriptor 'center' for 'str' objects doesn't apply to a 'int' object"
     ]
    }
   ],
   "source": [
    "str.center(10,'$')\n",
    "# total new string width =10\n",
    "# already given string len=6\n",
    "# so extra 4 $ will add\n",
    "# string should be in center\n",
    "# 2$ are left side 2$ are right side"
   ]
  },
  {
   "cell_type": "code",
   "execution_count": 9,
   "id": "76061087-84bb-4b01-8bb8-33cfa6090305",
   "metadata": {},
   "outputs": [
    {
     "ename": "TypeError",
     "evalue": "descriptor 'center' for 'str' objects doesn't apply to a 'int' object",
     "output_type": "error",
     "traceback": [
      "\u001b[1;31m---------------------------------------------------------------------------\u001b[0m",
      "\u001b[1;31mTypeError\u001b[0m                                 Traceback (most recent call last)",
      "Cell \u001b[1;32mIn[9], line 1\u001b[0m\n\u001b[1;32m----> 1\u001b[0m \u001b[38;5;28mstr\u001b[39m\u001b[38;5;241m.\u001b[39mcenter(\u001b[38;5;241m11\u001b[39m,\u001b[38;5;124m'\u001b[39m\u001b[38;5;124m$\u001b[39m\u001b[38;5;124m'\u001b[39m)\n",
      "\u001b[1;31mTypeError\u001b[0m: descriptor 'center' for 'str' objects doesn't apply to a 'int' object"
     ]
    }
   ],
   "source": [
    "str.center(11,'$')"
   ]
  },
  {
   "cell_type": "code",
   "execution_count": 10,
   "id": "2c26da0d-3d27-4b8f-844a-c5391707bc81",
   "metadata": {},
   "outputs": [
    {
     "data": {
      "text/plain": [
       "'python'"
      ]
     },
     "execution_count": 10,
     "metadata": {},
     "output_type": "execute_result"
    }
   ],
   "source": [
    "'python'.center(2,'$')"
   ]
  },
  {
   "cell_type": "code",
   "execution_count": 11,
   "id": "522fe461-b9ab-43da-9505-dc812968d8df",
   "metadata": {},
   "outputs": [
    {
     "data": {
      "text/plain": [
       "'$python'"
      ]
     },
     "execution_count": 11,
     "metadata": {},
     "output_type": "execute_result"
    }
   ],
   "source": [
    "'python'.center(7,'$')"
   ]
  },
  {
   "cell_type": "markdown",
   "id": "01bb29d6-f1bd-4fbf-b2a7-1dfb55cfe749",
   "metadata": {},
   "source": [
    "**unique vowels or items**\n",
    "- always make an empty string\n",
    "- iterate the letters of original string through for loop\n",
    "- whenever vowel condition match keep that letter in empty string\n",
    "- now onwards do the two checks is that vowels is that present in that new string"
   ]
  },
  {
   "cell_type": "code",
   "execution_count": 14,
   "id": "790599d2-13f4-4b6f-8526-b9ef491add8a",
   "metadata": {},
   "outputs": [
    {
     "data": {
      "text/plain": [
       "2"
      ]
     },
     "execution_count": 14,
     "metadata": {},
     "output_type": "execute_result"
    }
   ],
   "source": [
    "str1='aabbccddee'\n",
    "str2=''\n",
    "for i in str1:\n",
    "    if i in 'aeiou':\n",
    "        if i not in str2:\n",
    "            str2=str2+i\n",
    "len(str2)"
   ]
  },
  {
   "cell_type": "code",
   "execution_count": 16,
   "id": "0be8fda5-e2c7-494c-9521-2ff506251fbc",
   "metadata": {},
   "outputs": [
    {
     "data": {
      "text/plain": [
       "2"
      ]
     },
     "execution_count": 16,
     "metadata": {},
     "output_type": "execute_result"
    }
   ],
   "source": [
    "str1='aabbccddee'\n",
    "str2=''\n",
    "for i in str1:\n",
    "    if i in 'aeiou' and i not in str2:\n",
    "        str2=str2+i\n",
    "len(str2)\n",
    "\n",
    "#i ='a' if 'a' in 'aeiou' and 'a' not in '' True str2=''+'a'='a'\n",
    "# i='a' if 'a' in 'aeiou' and 'a' not in 'a' <>"
   ]
  },
  {
   "cell_type": "code",
   "execution_count": 17,
   "id": "16adcb90-819c-4287-bea3-85431f6dcad7",
   "metadata": {},
   "outputs": [
    {
     "data": {
      "text/plain": [
       "False"
      ]
     },
     "execution_count": 17,
     "metadata": {},
     "output_type": "execute_result"
    }
   ],
   "source": [
    "'a' not in 'a'"
   ]
  },
  {
   "cell_type": "code",
   "execution_count": 19,
   "id": "f4d86a9d-2745-4ec3-8d3a-794b5a701286",
   "metadata": {},
   "outputs": [
    {
     "data": {
      "text/plain": [
       "3"
      ]
     },
     "execution_count": 19,
     "metadata": {},
     "output_type": "execute_result"
    }
   ],
   "source": [
    "str9= 'aabbccddee'\n",
    "str10=' '\n",
    "for i in str9:\n",
    "    if i in 'aeiou' and i not in str10:\n",
    "        str10=str10+i\n",
    "len(str10)"
   ]
  },
  {
   "cell_type": "code",
   "execution_count": 20,
   "id": "bc3a1605-ebb8-4bec-8683-3a3842aa9f14",
   "metadata": {},
   "outputs": [
    {
     "data": {
      "text/plain": [
       "' ae'"
      ]
     },
     "execution_count": 20,
     "metadata": {},
     "output_type": "execute_result"
    }
   ],
   "source": [
    "str10"
   ]
  },
  {
   "cell_type": "markdown",
   "id": "4d17460b-82b3-40ba-9163-06b41ed56718",
   "metadata": {},
   "source": [
    "- Capitalize\n",
    "- upper\n",
    "- lower\n",
    "- center\n",
    "- casefold"
   ]
  },
  {
   "cell_type": "code",
   "execution_count": 21,
   "id": "3cca582f-a21a-4913-a028-71bab8d9a392",
   "metadata": {},
   "outputs": [
    {
     "data": {
      "text/plain": [
       "['__add__',\n",
       " '__class__',\n",
       " '__contains__',\n",
       " '__delattr__',\n",
       " '__dir__',\n",
       " '__doc__',\n",
       " '__eq__',\n",
       " '__format__',\n",
       " '__ge__',\n",
       " '__getattribute__',\n",
       " '__getitem__',\n",
       " '__getnewargs__',\n",
       " '__getstate__',\n",
       " '__gt__',\n",
       " '__hash__',\n",
       " '__init__',\n",
       " '__init_subclass__',\n",
       " '__iter__',\n",
       " '__le__',\n",
       " '__len__',\n",
       " '__lt__',\n",
       " '__mod__',\n",
       " '__mul__',\n",
       " '__ne__',\n",
       " '__new__',\n",
       " '__reduce__',\n",
       " '__reduce_ex__',\n",
       " '__repr__',\n",
       " '__rmod__',\n",
       " '__rmul__',\n",
       " '__setattr__',\n",
       " '__sizeof__',\n",
       " '__str__',\n",
       " '__subclasshook__',\n",
       " 'capitalize',\n",
       " 'casefold',\n",
       " 'center',\n",
       " 'count',\n",
       " 'encode',\n",
       " 'endswith',\n",
       " 'expandtabs',\n",
       " 'find',\n",
       " 'format',\n",
       " 'format_map',\n",
       " 'index',\n",
       " 'isalnum',\n",
       " 'isalpha',\n",
       " 'isascii',\n",
       " 'isdecimal',\n",
       " 'isdigit',\n",
       " 'isidentifier',\n",
       " 'islower',\n",
       " 'isnumeric',\n",
       " 'isprintable',\n",
       " 'isspace',\n",
       " 'istitle',\n",
       " 'isupper',\n",
       " 'join',\n",
       " 'ljust',\n",
       " 'lower',\n",
       " 'lstrip',\n",
       " 'maketrans',\n",
       " 'partition',\n",
       " 'removeprefix',\n",
       " 'removesuffix',\n",
       " 'replace',\n",
       " 'rfind',\n",
       " 'rindex',\n",
       " 'rjust',\n",
       " 'rpartition',\n",
       " 'rsplit',\n",
       " 'rstrip',\n",
       " 'split',\n",
       " 'splitlines',\n",
       " 'startswith',\n",
       " 'strip',\n",
       " 'swapcase',\n",
       " 'title',\n",
       " 'translate',\n",
       " 'upper',\n",
       " 'zfill']"
      ]
     },
     "execution_count": 21,
     "metadata": {},
     "output_type": "execute_result"
    }
   ],
   "source": [
    "str='python'\n",
    "dir(str)"
   ]
  },
  {
   "cell_type": "code",
   "execution_count": 22,
   "id": "384a220a-c5f0-4f52-b917-66b0c0b5e43e",
   "metadata": {},
   "outputs": [
    {
     "data": {
      "text/plain": [
       "'Python'"
      ]
     },
     "execution_count": 22,
     "metadata": {},
     "output_type": "execute_result"
    }
   ],
   "source": [
    "str.title()"
   ]
  },
  {
   "cell_type": "code",
   "execution_count": 23,
   "id": "6d00a20d-d2b6-425b-b70f-0eb0439bdda5",
   "metadata": {},
   "outputs": [
    {
     "data": {
      "text/plain": [
       "'Hello How Are You'"
      ]
     },
     "execution_count": 23,
     "metadata": {},
     "output_type": "execute_result"
    }
   ],
   "source": [
    "# Q: 12) str='hello how are you'\n",
    "# op: 'Hello How Are You'\n",
    "str='hello how are you'\n",
    "str.title()"
   ]
  },
  {
   "cell_type": "code",
   "execution_count": 24,
   "id": "41adf96b-7a1e-46be-9cfa-536ba8635366",
   "metadata": {},
   "outputs": [
    {
     "data": {
      "text/plain": [
       "'Hello how are you'"
      ]
     },
     "execution_count": 24,
     "metadata": {},
     "output_type": "execute_result"
    }
   ],
   "source": [
    "str='hello how are you'\n",
    "str.capitalize()"
   ]
  },
  {
   "cell_type": "markdown",
   "id": "e9f1089e-4957-4243-8fb2-06c7fc6f4ee6",
   "metadata": {},
   "source": [
    "**count**"
   ]
  },
  {
   "cell_type": "code",
   "execution_count": 25,
   "id": "ac3c5972-9b38-4e67-b944-7c838f0fed7a",
   "metadata": {},
   "outputs": [
    {
     "data": {
      "text/plain": [
       "2"
      ]
     },
     "execution_count": 25,
     "metadata": {},
     "output_type": "execute_result"
    }
   ],
   "source": [
    "str1='hai how are you'\n",
    "str1.count('a')"
   ]
  },
  {
   "cell_type": "code",
   "execution_count": 26,
   "id": "b6f2c137-a2f6-442c-8cea-8e6082236bf3",
   "metadata": {},
   "outputs": [
    {
     "data": {
      "text/plain": [
       "2"
      ]
     },
     "execution_count": 26,
     "metadata": {},
     "output_type": "execute_result"
    }
   ],
   "source": [
    "count=0\n",
    "for i in str1:\n",
    "    if i=='a':\n",
    "        count=count+1\n",
    "count"
   ]
  },
  {
   "cell_type": "code",
   "execution_count": 27,
   "id": "d9d5305b-4ac4-4c2e-80db-7702fec9741c",
   "metadata": {},
   "outputs": [
    {
     "data": {
      "text/plain": [
       "0"
      ]
     },
     "execution_count": 27,
     "metadata": {},
     "output_type": "execute_result"
    }
   ],
   "source": [
    "str1='ola ola ola'\n",
    "str1.count('z')"
   ]
  },
  {
   "cell_type": "code",
   "execution_count": 28,
   "id": "a555c23b-0ca8-430e-aeaf-0801f0e4f101",
   "metadata": {},
   "outputs": [
    {
     "data": {
      "text/plain": [
       "1"
      ]
     },
     "execution_count": 28,
     "metadata": {},
     "output_type": "execute_result"
    }
   ],
   "source": [
    "# You want count the number of 'a' after 5th index\n",
    "# You want count the number of 'a' between 5th and 10th index\n",
    "str1='ola ola ola'\n",
    "str1.count('a',7)"
   ]
  },
  {
   "cell_type": "code",
   "execution_count": 29,
   "id": "881948b6-1555-44da-bd1a-3b0d61d4b1a6",
   "metadata": {},
   "outputs": [
    {
     "data": {
      "text/plain": [
       "'ola ol'"
      ]
     },
     "execution_count": 29,
     "metadata": {},
     "output_type": "execute_result"
    }
   ],
   "source": [
    "str1='ola ola ola'\n",
    "str1.count('a',4,10)\n",
    "# 10-1=9\n",
    "str1[4:10]"
   ]
  },
  {
   "cell_type": "code",
   "execution_count": 30,
   "id": "c640a6d8-815c-4750-939b-f5075f7dc8fc",
   "metadata": {},
   "outputs": [
    {
     "data": {
      "text/plain": [
       "2"
      ]
     },
     "execution_count": 30,
     "metadata": {},
     "output_type": "execute_result"
    }
   ],
   "source": [
    "str1='ola ola ola'\n",
    "str1.count('a',4,21)"
   ]
  },
  {
   "cell_type": "markdown",
   "id": "f0267a9e-4cf5-4fcc-b10c-96d68689a367",
   "metadata": {},
   "source": [
    "- Note: There is no error in count"
   ]
  },
  {
   "cell_type": "code",
   "execution_count": 32,
   "id": "cb09af87-2f26-482b-82dd-b71e2d563557",
   "metadata": {},
   "outputs": [
    {
     "ename": "SyntaxError",
     "evalue": "expected ':' (1717680243.py, line 5)",
     "output_type": "error",
     "traceback": [
      "\u001b[1;36m  Cell \u001b[1;32mIn[32], line 5\u001b[1;36m\u001b[0m\n\u001b[1;33m    if i=='ola' # 'o' =='ola'\u001b[0m\n\u001b[1;37m                ^\u001b[0m\n\u001b[1;31mSyntaxError\u001b[0m\u001b[1;31m:\u001b[0m expected ':'\n"
     ]
    }
   ],
   "source": [
    "# Q13 with out using count find the number of 'ola'\n",
    "str1='ola'\n",
    "# ans=3\n",
    "for i in str1:\n",
    "    if i=='ola' # 'o' =='ola'\n",
    "# clue: index\n",
    "# i:i+3"
   ]
  },
  {
   "cell_type": "markdown",
   "id": "98dcd99c-59d4-48a3-9482-1565fd2c4ca2",
   "metadata": {},
   "source": [
    "**replace**"
   ]
  },
  {
   "cell_type": "code",
   "execution_count": 34,
   "id": "b28430e2-55d8-4d93-a8d0-2418133201ac",
   "metadata": {},
   "outputs": [],
   "source": [
    "str1='helo'\n",
    "# I want to replace 'l' with 'L'\n",
    "# This we are not able to do with index operations\n",
    "# That's why we are calling strings are immutable\n",
    "#But this is possibile using replace"
   ]
  },
  {
   "cell_type": "code",
   "execution_count": 35,
   "id": "6fd7f734-1966-47cb-91df-45db442712b1",
   "metadata": {},
   "outputs": [
    {
     "data": {
      "text/plain": [
       "'heLo'"
      ]
     },
     "execution_count": 35,
     "metadata": {},
     "output_type": "execute_result"
    }
   ],
   "source": [
    "str1.replace('l','L')"
   ]
  },
  {
   "cell_type": "markdown",
   "id": "21743232-2379-40d6-87fd-4c5e47d1edff",
   "metadata": {},
   "source": [
    "\n",
    "-  In replace we have count=-1 as default value\r\n",
    "- \n",
    "which means it will replace all the letters\n",
    "- \r\n",
    "So If i want replace only one later can i give the count value? Ye\n",
    "- s\r\n",
    "/ means do not give the argument names , directly provide the value"
   ]
  },
  {
   "cell_type": "code",
   "execution_count": 36,
   "id": "a761da36-dfab-4be2-86df-b8fbb0cdd3ec",
   "metadata": {},
   "outputs": [
    {
     "data": {
      "text/plain": [
       "'heLLLLo'"
      ]
     },
     "execution_count": 36,
     "metadata": {},
     "output_type": "execute_result"
    }
   ],
   "source": [
    "str1='hellllo'\n",
    "str1.replace('l','L') # count=-1"
   ]
  },
  {
   "cell_type": "code",
   "execution_count": 37,
   "id": "99218615-ca70-4f85-94c0-e2834741054f",
   "metadata": {},
   "outputs": [
    {
     "data": {
      "text/plain": [
       "'heLLllo'"
      ]
     },
     "execution_count": 37,
     "metadata": {},
     "output_type": "execute_result"
    }
   ],
   "source": [
    "str1='hellllo'\n",
    "str1.replace('l','L',2) # count=2"
   ]
  },
  {
   "cell_type": "code",
   "execution_count": 38,
   "id": "3a61b4e7-2028-4f0b-80cb-485d5e7095a0",
   "metadata": {},
   "outputs": [
    {
     "data": {
      "text/plain": [
       "'hellllo'"
      ]
     },
     "execution_count": 38,
     "metadata": {},
     "output_type": "execute_result"
    }
   ],
   "source": [
    "str1='hellllo'\n",
    "str1.replace('z','L')"
   ]
  },
  {
   "cell_type": "markdown",
   "id": "70e15fde-ed22-4fd6-b090-42689bb417e8",
   "metadata": {},
   "source": [
    "- Read the doc string carefully\n",
    "- In that it will mention we wil get error at particular incident\n",
    "- For count method we will not get any error\n",
    "- There is no substring found, then ans will be zero\n",
    "- For replace also we will not get any error\n",
    "- If there is no substring found, then the ans will be original string"
   ]
  },
  {
   "cell_type": "code",
   "execution_count": 40,
   "id": "48def4ac-5a22-4754-94af-4a0de6e2a9bd",
   "metadata": {},
   "outputs": [
    {
     "data": {
      "text/plain": [
       "'$esta$t'"
      ]
     },
     "execution_count": 40,
     "metadata": {},
     "output_type": "execute_result"
    }
   ],
   "source": [
    "# Q14) wap ask the user replace the string\n",
    "# input str: 'restart'\n",
    "# op : 'resta$t'\n",
    "str1='restart'\n",
    "str1.replace('r','$')"
   ]
  },
  {
   "cell_type": "code",
   "execution_count": 41,
   "id": "e603a497-7c2a-4fd5-b605-1d1d47fc397c",
   "metadata": {},
   "outputs": [
    {
     "data": {
      "text/plain": [
       "'$estart'"
      ]
     },
     "execution_count": 41,
     "metadata": {},
     "output_type": "execute_result"
    }
   ],
   "source": [
    "str1='restart'\n",
    "str1.replace('r','$',1)"
   ]
  },
  {
   "cell_type": "code",
   "execution_count": 42,
   "id": "cbf5e939-d8b5-4413-885a-b68fd69153a7",
   "metadata": {},
   "outputs": [
    {
     "data": {
      "text/plain": [
       "'resta$t'"
      ]
     },
     "execution_count": 42,
     "metadata": {},
     "output_type": "execute_result"
    }
   ],
   "source": [
    "str2=str1[::-1] # Reverse\n",
    "str3=str2.replace('r','$',1) # repalce 1st occurenace\n",
    "str4=str3[::-1] # reverse it\n",
    "str4"
   ]
  },
  {
   "cell_type": "code",
   "execution_count": 43,
   "id": "f40561f3-95c1-4e01-85a8-020866acf8ff",
   "metadata": {},
   "outputs": [
    {
     "data": {
      "text/plain": [
       "'resta$t'"
      ]
     },
     "execution_count": 43,
     "metadata": {},
     "output_type": "execute_result"
    }
   ],
   "source": [
    "str1[::-1].replace('r','$',1)[::-1]"
   ]
  },
  {
   "cell_type": "code",
   "execution_count": 44,
   "id": "c76ad63b-c433-43f0-b125-946237ec47e0",
   "metadata": {},
   "outputs": [
    {
     "data": {
      "text/plain": [
       "'resta$t'"
      ]
     },
     "execution_count": 44,
     "metadata": {},
     "output_type": "execute_result"
    }
   ],
   "source": [
    "s1=str1[0] # 'r'\n",
    "s2=str1[1:] # 'estart'\n",
    "s3=s2.replace('r','$') # 'esta$t'\n",
    "s1+s3"
   ]
  },
  {
   "cell_type": "markdown",
   "id": "23818bb0-02c8-456d-bcbf-8d71f07d82ae",
   "metadata": {},
   "source": [
    "**index**\n",
    "- index will give the index of letter in a given string\n",
    "- By default It will provide the first occurence of letter only\n",
    "- If you want next occurence index of same letter you need to give start,stop\n",
    "- Like we given in count method"
   ]
  },
  {
   "cell_type": "code",
   "execution_count": 45,
   "id": "a333e084-b875-4533-baeb-aaa67ac57537",
   "metadata": {},
   "outputs": [
    {
     "data": {
      "text/plain": [
       "0"
      ]
     },
     "execution_count": 45,
     "metadata": {},
     "output_type": "execute_result"
    }
   ],
   "source": [
    "str1='restart'\n",
    "str1.index('r')"
   ]
  },
  {
   "cell_type": "code",
   "execution_count": 46,
   "id": "dcaec694-e1ea-4575-ac07-c59e61eecad1",
   "metadata": {},
   "outputs": [
    {
     "data": {
      "text/plain": [
       "5"
      ]
     },
     "execution_count": 46,
     "metadata": {},
     "output_type": "execute_result"
    }
   ],
   "source": [
    "# I want second r\n",
    "str1.index('r',1)"
   ]
  },
  {
   "cell_type": "code",
   "execution_count": 47,
   "id": "a0115591-6947-463d-8b8a-8f0aef3a7be7",
   "metadata": {},
   "outputs": [
    {
     "ename": "SyntaxError",
     "evalue": "invalid syntax (3246951724.py, line 1)",
     "output_type": "error",
     "traceback": [
      "\u001b[1;36m  Cell \u001b[1;32mIn[47], line 1\u001b[1;36m\u001b[0m\n\u001b[1;33m    r e s t a r t\u001b[0m\n\u001b[1;37m      ^\u001b[0m\n\u001b[1;31mSyntaxError\u001b[0m\u001b[1;31m:\u001b[0m invalid syntax\n"
     ]
    }
   ],
   "source": [
    "r e s t a r t\n",
    "0 1 2 3 4 5 6\n",
    "\n",
    "my eyes will not consider first 'r' 0\n",
    "my eyes are looking from index 1"
   ]
  },
  {
   "cell_type": "code",
   "execution_count": 48,
   "id": "c6e14e8c-585e-4b39-a5b1-4229aa2c6efe",
   "metadata": {},
   "outputs": [
    {
     "data": {
      "text/plain": [
       "(1, 5, 9, 13, 17)"
      ]
     },
     "execution_count": 48,
     "metadata": {},
     "output_type": "execute_result"
    }
   ],
   "source": [
    "str1='hai hai hai hai hai'\n",
    "i1=str1.index('a') # 1\n",
    "i2=str1.index('a',i1+1) # 5\n",
    "i3=str1.index('a',i2+1) # 9\n",
    "i4=str1.index('a',i3+1)\n",
    "i5=str1.index('a',i4+1)\n",
    "i1,i2,i3,i4,i5"
   ]
  },
  {
   "cell_type": "code",
   "execution_count": null,
   "id": "5be3d024-0277-442f-af5e-4745f6522da5",
   "metadata": {},
   "outputs": [],
   "source": [
    "'hai hai hai hai'\n",
    "a=1\n",
    "hai hai hai hai\n",
    "i hai hai hai'\n",
    "i hai hai\n",
    "i hai"
   ]
  },
  {
   "cell_type": "markdown",
   "id": "b0b360d0-3a6a-4abb-8203-2812ae84875e",
   "metadata": {},
   "source": [
    "**count-replace-index**"
   ]
  },
  {
   "cell_type": "code",
   "execution_count": 4,
   "id": "8b71a3e3-5c3c-4010-ae86-72ee7d0b7d3f",
   "metadata": {},
   "outputs": [
    {
     "data": {
      "text/plain": [
       "0"
      ]
     },
     "execution_count": 4,
     "metadata": {},
     "output_type": "execute_result"
    }
   ],
   "source": [
    "str1='python'\n",
    "str1.count('z')"
   ]
  },
  {
   "cell_type": "code",
   "execution_count": 6,
   "id": "627d41f2-fa3a-46f2-9e2e-043ad6811897",
   "metadata": {},
   "outputs": [
    {
     "ename": "TypeError",
     "evalue": "replace expected at least 2 arguments, got 1",
     "output_type": "error",
     "traceback": [
      "\u001b[1;31m---------------------------------------------------------------------------\u001b[0m",
      "\u001b[1;31mTypeError\u001b[0m                                 Traceback (most recent call last)",
      "Cell \u001b[1;32mIn[6], line 2\u001b[0m\n\u001b[0;32m      1\u001b[0m str1\u001b[38;5;241m=\u001b[39m\u001b[38;5;124m'\u001b[39m\u001b[38;5;124mpython\u001b[39m\u001b[38;5;124m'\u001b[39m\n\u001b[1;32m----> 2\u001b[0m str1\u001b[38;5;241m.\u001b[39mreplace(\u001b[38;5;124m'\u001b[39m\u001b[38;5;124mZ\u001b[39m\u001b[38;5;124m'\u001b[39m)\n",
      "\u001b[1;31mTypeError\u001b[0m: replace expected at least 2 arguments, got 1"
     ]
    }
   ],
   "source": [
    "str1='python'\n",
    "str1.replace('Z')"
   ]
  },
  {
   "cell_type": "code",
   "execution_count": 8,
   "id": "2664429b-f60b-4218-9d27-f25058bca0f3",
   "metadata": {},
   "outputs": [
    {
     "ename": "ValueError",
     "evalue": "substring not found",
     "output_type": "error",
     "traceback": [
      "\u001b[1;31m---------------------------------------------------------------------------\u001b[0m",
      "\u001b[1;31mValueError\u001b[0m                                Traceback (most recent call last)",
      "Cell \u001b[1;32mIn[8], line 2\u001b[0m\n\u001b[0;32m      1\u001b[0m str1\u001b[38;5;241m=\u001b[39m\u001b[38;5;124m'\u001b[39m\u001b[38;5;124mpython\u001b[39m\u001b[38;5;124m'\u001b[39m\n\u001b[1;32m----> 2\u001b[0m str1\u001b[38;5;241m.\u001b[39mindex(\u001b[38;5;124m'\u001b[39m\u001b[38;5;124mz\u001b[39m\u001b[38;5;124m'\u001b[39m)\n",
      "\u001b[1;31mValueError\u001b[0m: substring not found"
     ]
    }
   ],
   "source": [
    "str1='python'\n",
    "str1.index('z')\n",
    "\n",
    "# z= substring\n",
    "# z is not present in python"
   ]
  },
  {
   "cell_type": "code",
   "execution_count": 9,
   "id": "c22d97b4-7317-4c8d-bc78-b2bf4c2e2ead",
   "metadata": {},
   "outputs": [
    {
     "data": {
      "text/plain": [
       "1"
      ]
     },
     "execution_count": 9,
     "metadata": {},
     "output_type": "execute_result"
    }
   ],
   "source": [
    "str1='hai hai hai hai'\n",
    "str1.count('a')   # total 'a'\n",
    "str1.count('a',4) # we want to count 'a' from index 4\n",
    "str1.count('a',5,9) # start at 5 and end with 9-1=8"
   ]
  },
  {
   "cell_type": "code",
   "execution_count": 11,
   "id": "8a0d0dab-ed2a-4531-9970-88593de56935",
   "metadata": {},
   "outputs": [
    {
     "data": {
      "text/plain": [
       "1"
      ]
     },
     "execution_count": 11,
     "metadata": {},
     "output_type": "execute_result"
    }
   ],
   "source": [
    "str1='hai hai hai hai'\n",
    "str1.find('a') \n",
    "\n",
    "# index of 'a'\n",
    "# but so many 'a' are there\n",
    "# by defualt it will first give occurence"
   ]
  },
  {
   "cell_type": "code",
   "execution_count": 14,
   "id": "b60615fc-2bb1-435a-a9dc-a3796b088ff5",
   "metadata": {},
   "outputs": [
    {
     "data": {
      "text/plain": [
       "5"
      ]
     },
     "execution_count": 14,
     "metadata": {},
     "output_type": "execute_result"
    }
   ],
   "source": [
    "str1='hai hai hai hai'\n",
    "str1.find('a',2) "
   ]
  },
  {
   "cell_type": "code",
   "execution_count": 15,
   "id": "52002df3-cd40-4c1f-8d31-ff71d157ad2b",
   "metadata": {},
   "outputs": [
    {
     "data": {
      "text/plain": [
       "13"
      ]
     },
     "execution_count": 15,
     "metadata": {},
     "output_type": "execute_result"
    }
   ],
   "source": [
    "str1='hai hai hai hai'\n",
    "str1.find('a',2) \n",
    "str1.find('a',6) \n",
    "str1.find('a',10) "
   ]
  },
  {
   "cell_type": "code",
   "execution_count": 28,
   "id": "f10257c2-cfe6-4ef0-953e-e6e1850f6bb7",
   "metadata": {},
   "outputs": [
    {
     "data": {
      "text/plain": [
       "3"
      ]
     },
     "execution_count": 28,
     "metadata": {},
     "output_type": "execute_result"
    }
   ],
   "source": [
    "count=0\n",
    "str1='omkarsir omkarsir omkarsir'\n",
    "for i in range(len(str1)):\n",
    "    if str1[i:i+8]=='omkarsir':\n",
    "        count=count+1\n",
    "count"
   ]
  },
  {
   "cell_type": "markdown",
   "id": "e3d3e35d-07e9-4f8f-8837-81f48b8a3691",
   "metadata": {},
   "source": [
    "**find operation**"
   ]
  },
  {
   "cell_type": "code",
   "execution_count": 29,
   "id": "b3584e5b-807a-4483-99e4-b8185d37a442",
   "metadata": {},
   "outputs": [
    {
     "data": {
      "text/plain": [
       "1"
      ]
     },
     "execution_count": 29,
     "metadata": {},
     "output_type": "execute_result"
    }
   ],
   "source": [
    "str1='hai hai hai hai'\n",
    "str1.find('a')"
   ]
  },
  {
   "cell_type": "code",
   "execution_count": 30,
   "id": "ed0d9b25-141e-4d53-951b-618e23a3400e",
   "metadata": {},
   "outputs": [
    {
     "data": {
      "text/plain": [
       "-1"
      ]
     },
     "execution_count": 30,
     "metadata": {},
     "output_type": "execute_result"
    }
   ],
   "source": [
    "str1='hai hai hai hai'\n",
    "str1.find('z')"
   ]
  },
  {
   "cell_type": "code",
   "execution_count": 31,
   "id": "46ec1d4a-49a2-4a48-8353-f7495b963375",
   "metadata": {},
   "outputs": [
    {
     "data": {
      "text/plain": [
       "1"
      ]
     },
     "execution_count": 31,
     "metadata": {},
     "output_type": "execute_result"
    }
   ],
   "source": [
    "str1='hai hai hai hai'\n",
    "str1.index('a')"
   ]
  },
  {
   "cell_type": "markdown",
   "id": "b54632f3-cc2b-4471-b9bd-6d603f240491",
   "metadata": {},
   "source": [
    "**if substring not found**\n",
    "\n",
    "- do the shift+tab understand the docstring\n",
    "- if they mentioned any error or not\n",
    "- for count and replace they did not mention any error\n",
    "- for index error is mentioned\n",
    "- for find it is mentioned -1\n",
    "\n",
    "- count will five 0\n",
    "- replace will give same string\n",
    "- index will give error\n",
    "- find will give -1"
   ]
  },
  {
   "cell_type": "code",
   "execution_count": 43,
   "id": "538b154b-7247-498b-8b8e-74c8f8971a19",
   "metadata": {},
   "outputs": [
    {
     "data": {
      "text/plain": [
       "('rohith', 'kumar', 'au')"
      ]
     },
     "execution_count": 43,
     "metadata": {},
     "output_type": "execute_result"
    }
   ],
   "source": [
    "#Q15)\n",
    "\n",
    "name='rohith.kumar@au.com'\n",
    "# first name = 'rohith'\n",
    "# second name= 'kumar'\n",
    "# c_name = 'au'\n",
    "\n",
    "\n",
    "name='rohith.kumar@au.com'\n",
    "i1=name.find('.')\n",
    "i2=name.find('@')\n",
    "i3=name.find('.',i1+1)\n",
    "\n",
    "f_name=name[0:i1]\n",
    "s_name=name[i1+1:i2]\n",
    "c_name=name[i2+1:i3]\n",
    "f_name,s_name,c_name\n",
    "\n"
   ]
  },
  {
   "cell_type": "code",
   "execution_count": 46,
   "id": "196e26c7-cea5-41bd-bd85-c3c7fc1b962a",
   "metadata": {},
   "outputs": [
    {
     "name": "stdout",
     "output_type": "stream",
     "text": [
      "rohith sharma srh\n"
     ]
    }
   ],
   "source": [
    "\n",
    "def name_extraction(name):\n",
    "                    i1=name.find('.')\n",
    "                    i2=name.find('@')\n",
    "                    i3=name.find('.',i1+1)\n",
    "\n",
    "                    f_name=name[0:i1]\n",
    "                    s_name=name[i1+1:i2]\n",
    "                    c_name=name[i2+1:i3]\n",
    "                    f_name,s_name,c_name\n",
    "                    print(f_name,s_name,c_name)\n",
    "name_extraction('rohith.sharma@srh.com')\n"
   ]
  },
  {
   "cell_type": "code",
   "execution_count": 48,
   "id": "04114176-4f6d-4b39-8f48-efb94b3a71e0",
   "metadata": {},
   "outputs": [
    {
     "data": {
      "text/plain": [
       "['__add__',\n",
       " '__class__',\n",
       " '__contains__',\n",
       " '__delattr__',\n",
       " '__dir__',\n",
       " '__doc__',\n",
       " '__eq__',\n",
       " '__format__',\n",
       " '__ge__',\n",
       " '__getattribute__',\n",
       " '__getitem__',\n",
       " '__getnewargs__',\n",
       " '__getstate__',\n",
       " '__gt__',\n",
       " '__hash__',\n",
       " '__init__',\n",
       " '__init_subclass__',\n",
       " '__iter__',\n",
       " '__le__',\n",
       " '__len__',\n",
       " '__lt__',\n",
       " '__mod__',\n",
       " '__mul__',\n",
       " '__ne__',\n",
       " '__new__',\n",
       " '__reduce__',\n",
       " '__reduce_ex__',\n",
       " '__repr__',\n",
       " '__rmod__',\n",
       " '__rmul__',\n",
       " '__setattr__',\n",
       " '__sizeof__',\n",
       " '__str__',\n",
       " '__subclasshook__',\n",
       " 'capitalize',\n",
       " 'casefold',\n",
       " 'center',\n",
       " 'count',\n",
       " 'encode',\n",
       " 'endswith',\n",
       " 'expandtabs',\n",
       " 'find',\n",
       " 'format',\n",
       " 'format_map',\n",
       " 'index',\n",
       " 'isalnum',\n",
       " 'isalpha',\n",
       " 'isascii',\n",
       " 'isdecimal',\n",
       " 'isdigit',\n",
       " 'isidentifier',\n",
       " 'islower',\n",
       " 'isnumeric',\n",
       " 'isprintable',\n",
       " 'isspace',\n",
       " 'istitle',\n",
       " 'isupper',\n",
       " 'join',\n",
       " 'ljust',\n",
       " 'lower',\n",
       " 'lstrip',\n",
       " 'maketrans',\n",
       " 'partition',\n",
       " 'removeprefix',\n",
       " 'removesuffix',\n",
       " 'replace',\n",
       " 'rfind',\n",
       " 'rindex',\n",
       " 'rjust',\n",
       " 'rpartition',\n",
       " 'rsplit',\n",
       " 'rstrip',\n",
       " 'split',\n",
       " 'splitlines',\n",
       " 'startswith',\n",
       " 'strip',\n",
       " 'swapcase',\n",
       " 'title',\n",
       " 'translate',\n",
       " 'upper',\n",
       " 'zfill']"
      ]
     },
     "execution_count": 48,
     "metadata": {},
     "output_type": "execute_result"
    }
   ],
   "source": [
    "dir('')"
   ]
  },
  {
   "cell_type": "code",
   "execution_count": null,
   "id": "1925c313-18ec-46f0-ab93-bc6697f64e27",
   "metadata": {},
   "outputs": [],
   "source": [
    "'isalnum',\n",
    " 'isalpha',\n",
    " 'isascii',\n",
    " 'isdecimal',\n",
    " 'isdigit',\n",
    " 'isidentifier',\n",
    " 'islower',\n",
    " 'isnumeric',\n",
    " 'isprintable',\n",
    " 'isspace',\n",
    " 'istitle',\n",
    " 'isupper'"
   ]
  },
  {
   "cell_type": "code",
   "execution_count": 51,
   "id": "87173523-8da0-430b-a044-44e3b6e7cd2d",
   "metadata": {},
   "outputs": [
    {
     "data": {
      "text/plain": [
       "True"
      ]
     },
     "execution_count": 51,
     "metadata": {},
     "output_type": "execute_result"
    }
   ],
   "source": [
    "'BC'.isalnum()"
   ]
  },
  {
   "cell_type": "code",
   "execution_count": 52,
   "id": "19eb8814-b6e6-41da-974b-6d1aa55a2bb0",
   "metadata": {},
   "outputs": [
    {
     "data": {
      "text/plain": [
       "True"
      ]
     },
     "execution_count": 52,
     "metadata": {},
     "output_type": "execute_result"
    }
   ],
   "source": [
    "'abc'.isalpha()"
   ]
  },
  {
   "cell_type": "code",
   "execution_count": 54,
   "id": "ae405538-1cb2-47de-acf1-39dd2a4e98dd",
   "metadata": {},
   "outputs": [
    {
     "data": {
      "text/plain": [
       "True"
      ]
     },
     "execution_count": 54,
     "metadata": {},
     "output_type": "execute_result"
    }
   ],
   "source": [
    "'ACX'.isupper()"
   ]
  },
  {
   "cell_type": "markdown",
   "id": "e381d93b-60e0-47c6-8124-05da3867ad8d",
   "metadata": {},
   "source": [
    "$$strip-lstrip-rstrip$$"
   ]
  },
  {
   "cell_type": "code",
   "execution_count": 71,
   "id": "e01cb73c-49de-4a46-a613-fe3fc424c229",
   "metadata": {},
   "outputs": [],
   "source": [
    "name1='python'\n",
    "name2='python '\n",
    "name3=' python '"
   ]
  },
  {
   "cell_type": "code",
   "execution_count": 72,
   "id": "1b4b9d18-470a-416d-9492-9abda23a8bba",
   "metadata": {},
   "outputs": [
    {
     "data": {
      "text/plain": [
       "'python'"
      ]
     },
     "execution_count": 72,
     "metadata": {},
     "output_type": "execute_result"
    }
   ],
   "source": [
    "name1.strip()"
   ]
  },
  {
   "cell_type": "code",
   "execution_count": 73,
   "id": "4d434f36-5d25-4692-8eee-126cb4bf807e",
   "metadata": {},
   "outputs": [
    {
     "data": {
      "text/plain": [
       "'python'"
      ]
     },
     "execution_count": 73,
     "metadata": {},
     "output_type": "execute_result"
    }
   ],
   "source": [
    "name1.lstrip()"
   ]
  },
  {
   "cell_type": "code",
   "execution_count": 74,
   "id": "d8718f0f-a1a0-4a0c-a42e-af995bf172e3",
   "metadata": {},
   "outputs": [
    {
     "data": {
      "text/plain": [
       "'python'"
      ]
     },
     "execution_count": 74,
     "metadata": {},
     "output_type": "execute_result"
    }
   ],
   "source": [
    "name1.rstrip()"
   ]
  },
  {
   "cell_type": "code",
   "execution_count": 75,
   "id": "7f19b32c-e72c-4ded-89e4-56d71088b379",
   "metadata": {},
   "outputs": [
    {
     "data": {
      "text/plain": [
       "('python', 'python ', 'python')"
      ]
     },
     "execution_count": 75,
     "metadata": {},
     "output_type": "execute_result"
    }
   ],
   "source": [
    "name2.strip(),name2.lstrip(),name2.rstrip()"
   ]
  },
  {
   "cell_type": "code",
   "execution_count": 76,
   "id": "fc213480-3c2c-4508-9c88-80d6bc2895db",
   "metadata": {},
   "outputs": [],
   "source": [
    "name4=' python$$$'"
   ]
  },
  {
   "cell_type": "code",
   "execution_count": 83,
   "id": "0681dcbf-b5e6-46cb-b017-cfbee0911eae",
   "metadata": {},
   "outputs": [
    {
     "data": {
      "text/plain": [
       "('python$$$', ' python$$$', ' python')"
      ]
     },
     "execution_count": 83,
     "metadata": {},
     "output_type": "execute_result"
    }
   ],
   "source": [
    "name4.strip(),name4.lstrip('$'),name4.rstrip('$$$')"
   ]
  },
  {
   "cell_type": "code",
   "execution_count": 87,
   "id": "c2ed4171-128e-4db1-a6cf-a9bd0a06ff10",
   "metadata": {},
   "outputs": [
    {
     "data": {
      "text/plain": [
       "'python'"
      ]
     },
     "execution_count": 87,
     "metadata": {},
     "output_type": "execute_result"
    }
   ],
   "source": [
    "name4.strip('$ ')"
   ]
  },
  {
   "cell_type": "markdown",
   "id": "29d51e82-20bd-4d90-a634-76895663732a",
   "metadata": {},
   "source": [
    "**split**"
   ]
  },
  {
   "cell_type": "code",
   "execution_count": 90,
   "id": "f64cf1c7-feac-4dd1-9c1a-474c6a2cd017",
   "metadata": {},
   "outputs": [],
   "source": [
    "name1='hi neha dr'"
   ]
  },
  {
   "cell_type": "code",
   "execution_count": 92,
   "id": "7828263c-6039-4a97-8b4c-d376f9f7aa88",
   "metadata": {},
   "outputs": [
    {
     "data": {
      "text/plain": [
       "['hi neha dr']"
      ]
     },
     "execution_count": 92,
     "metadata": {},
     "output_type": "execute_result"
    }
   ],
   "source": [
    "name1.split(',')"
   ]
  },
  {
   "cell_type": "code",
   "execution_count": 94,
   "id": "d87ebd7f-19eb-4b62-8ab5-074e14c5972b",
   "metadata": {},
   "outputs": [
    {
     "data": {
      "text/plain": [
       "['hel', '', ' h', 'w are y', 'u']"
      ]
     },
     "execution_count": 94,
     "metadata": {},
     "output_type": "execute_result"
    }
   ],
   "source": [
    "str2='heloo how are you'\n",
    "str2.split('o')"
   ]
  },
  {
   "cell_type": "markdown",
   "id": "b3e25920-df16-4280-a04f-981a6e15ec29",
   "metadata": {},
   "source": [
    "**startswith-endwith**"
   ]
  },
  {
   "cell_type": "code",
   "execution_count": 98,
   "id": "59800e8a-eddc-41d4-8ee5-3e3007903c9f",
   "metadata": {},
   "outputs": [
    {
     "data": {
      "text/plain": [
       "False"
      ]
     },
     "execution_count": 98,
     "metadata": {},
     "output_type": "execute_result"
    }
   ],
   "source": [
    "str='hello hw are u'\n",
    "str.startswith('o')"
   ]
  },
  {
   "cell_type": "code",
   "execution_count": 100,
   "id": "fe47d238-2a75-494d-801c-2932d95cbf0c",
   "metadata": {},
   "outputs": [
    {
     "data": {
      "text/plain": [
       "True"
      ]
     },
     "execution_count": 100,
     "metadata": {},
     "output_type": "execute_result"
    }
   ],
   "source": [
    "str='hello hw are u'\n",
    "str.endswith('hello hw are u')"
   ]
  },
  {
   "cell_type": "code",
   "execution_count": 1,
   "id": "6a6c9bad-de9d-4bb2-960a-6d1b14b04c7b",
   "metadata": {},
   "outputs": [
    {
     "data": {
      "text/plain": [
       "27"
      ]
     },
     "execution_count": 1,
     "metadata": {},
     "output_type": "execute_result"
    }
   ],
   "source": [
    "3**3"
   ]
  },
  {
   "cell_type": "code",
   "execution_count": 2,
   "id": "3665b6df-f818-4f69-bb8a-f7882eb344b9",
   "metadata": {},
   "outputs": [
    {
     "data": {
      "text/plain": [
       "3"
      ]
     },
     "execution_count": 2,
     "metadata": {},
     "output_type": "execute_result"
    }
   ],
   "source": [
    "3*1**3"
   ]
  },
  {
   "cell_type": "code",
   "execution_count": 3,
   "id": "c56e5ff6-06b4-44dd-9fcf-5c469389aee1",
   "metadata": {},
   "outputs": [
    {
     "data": {
      "text/plain": [
       "1"
      ]
     },
     "execution_count": 3,
     "metadata": {},
     "output_type": "execute_result"
    }
   ],
   "source": [
    "1**3"
   ]
  },
  {
   "cell_type": "code",
   "execution_count": 4,
   "id": "67155982-d745-4c97-a96b-40a72b1d38e0",
   "metadata": {},
   "outputs": [
    {
     "data": {
      "text/plain": [
       "3"
      ]
     },
     "execution_count": 4,
     "metadata": {},
     "output_type": "execute_result"
    }
   ],
   "source": [
    "3*1"
   ]
  },
  {
   "cell_type": "code",
   "execution_count": null,
   "id": "1d69c748-1e04-404b-9b8e-3114cc986552",
   "metadata": {},
   "outputs": [],
   "source": [
    "# python mutable concept always based on index\n",
    "# list are mutable means we can change the values using index"
   ]
  },
  {
   "cell_type": "code",
   "execution_count": 8,
   "id": "76a5b589-20a1-4046-a29c-74ba3c76c16c",
   "metadata": {},
   "outputs": [
    {
     "data": {
      "text/plain": [
       "[100, 2, 3, 4]"
      ]
     },
     "execution_count": 8,
     "metadata": {},
     "output_type": "execute_result"
    }
   ],
   "source": [
    "l=[1,2,3,4]\n",
    "l[0]=100\n",
    "l\n"
   ]
  },
  {
   "cell_type": "markdown",
   "id": "05576fce-53b8-4882-be9f-9e7ffd6b1d47",
   "metadata": {},
   "source": [
    "**concatenation**\n"
   ]
  },
  {
   "cell_type": "code",
   "execution_count": 1,
   "id": "ee05859e-c3af-4a19-a311-2a51440cf14d",
   "metadata": {},
   "outputs": [
    {
     "data": {
      "text/plain": [
       "[1, 2, 3, 4, 10, 20, 30, 40]"
      ]
     },
     "execution_count": 1,
     "metadata": {},
     "output_type": "execute_result"
    }
   ],
   "source": [
    "l1=[1,2,3,4]\n",
    "l2=[10,20,30,40]\n",
    "l1+l2"
   ]
  },
  {
   "cell_type": "code",
   "execution_count": 2,
   "id": "708542ee-5235-4a30-8988-e5a118f0c20f",
   "metadata": {},
   "outputs": [
    {
     "ename": "TypeError",
     "evalue": "unsupported operand type(s) for -: 'list' and 'list'",
     "output_type": "error",
     "traceback": [
      "\u001b[1;31m---------------------------------------------------------------------------\u001b[0m",
      "\u001b[1;31mTypeError\u001b[0m                                 Traceback (most recent call last)",
      "Cell \u001b[1;32mIn[2], line 1\u001b[0m\n\u001b[1;32m----> 1\u001b[0m l1\u001b[38;5;241m-\u001b[39ml2\n",
      "\u001b[1;31mTypeError\u001b[0m: unsupported operand type(s) for -: 'list' and 'list'"
     ]
    }
   ],
   "source": [
    "l1-l2   # fail"
   ]
  },
  {
   "cell_type": "code",
   "execution_count": 3,
   "id": "d6bdd93d-3bd8-46ab-be2b-8f83acdf9ced",
   "metadata": {},
   "outputs": [
    {
     "ename": "TypeError",
     "evalue": "can't multiply sequence by non-int of type 'list'",
     "output_type": "error",
     "traceback": [
      "\u001b[1;31m---------------------------------------------------------------------------\u001b[0m",
      "\u001b[1;31mTypeError\u001b[0m                                 Traceback (most recent call last)",
      "Cell \u001b[1;32mIn[3], line 1\u001b[0m\n\u001b[1;32m----> 1\u001b[0m l1\u001b[38;5;241m*\u001b[39ml2\n",
      "\u001b[1;31mTypeError\u001b[0m: can't multiply sequence by non-int of type 'list'"
     ]
    }
   ],
   "source": [
    "l1*l2 # fail"
   ]
  },
  {
   "cell_type": "code",
   "execution_count": 4,
   "id": "45c4896c-d69b-4763-be31-f5ca3931aa7e",
   "metadata": {},
   "outputs": [
    {
     "data": {
      "text/plain": [
       "[1, 2, 3, 4, 1, 2, 3, 4]"
      ]
     },
     "execution_count": 4,
     "metadata": {},
     "output_type": "execute_result"
    }
   ],
   "source": [
    "l1*2"
   ]
  },
  {
   "cell_type": "code",
   "execution_count": 6,
   "id": "4cb9a12e-8900-4244-8ae6-573f175395d5",
   "metadata": {},
   "outputs": [],
   "source": [
    "# l1=[1,2,3,4]\n",
    "# l2=[10,20,30]\n",
    "# 0= [11,22,33]"
   ]
  },
  {
   "cell_type": "markdown",
   "id": "9ef980a4-52ab-464d-9648-4318d7ce2fca",
   "metadata": {},
   "source": [
    "**methods**"
   ]
  },
  {
   "cell_type": "code",
   "execution_count": 8,
   "id": "2eee6728-04d7-4360-acaf-4a1f3ed84eef",
   "metadata": {},
   "outputs": [
    {
     "data": {
      "text/plain": [
       "['__add__',\n",
       " '__class__',\n",
       " '__contains__',\n",
       " '__delattr__',\n",
       " '__dir__',\n",
       " '__doc__',\n",
       " '__eq__',\n",
       " '__format__',\n",
       " '__ge__',\n",
       " '__getattribute__',\n",
       " '__getitem__',\n",
       " '__getnewargs__',\n",
       " '__getstate__',\n",
       " '__gt__',\n",
       " '__hash__',\n",
       " '__init__',\n",
       " '__init_subclass__',\n",
       " '__iter__',\n",
       " '__le__',\n",
       " '__len__',\n",
       " '__lt__',\n",
       " '__mod__',\n",
       " '__mul__',\n",
       " '__ne__',\n",
       " '__new__',\n",
       " '__reduce__',\n",
       " '__reduce_ex__',\n",
       " '__repr__',\n",
       " '__rmod__',\n",
       " '__rmul__',\n",
       " '__setattr__',\n",
       " '__sizeof__',\n",
       " '__str__',\n",
       " '__subclasshook__',\n",
       " 'capitalize',\n",
       " 'casefold',\n",
       " 'center',\n",
       " 'count',\n",
       " 'encode',\n",
       " 'endswith',\n",
       " 'expandtabs',\n",
       " 'find',\n",
       " 'format',\n",
       " 'format_map',\n",
       " 'index',\n",
       " 'isalnum',\n",
       " 'isalpha',\n",
       " 'isascii',\n",
       " 'isdecimal',\n",
       " 'isdigit',\n",
       " 'isidentifier',\n",
       " 'islower',\n",
       " 'isnumeric',\n",
       " 'isprintable',\n",
       " 'isspace',\n",
       " 'istitle',\n",
       " 'isupper',\n",
       " 'join',\n",
       " 'ljust',\n",
       " 'lower',\n",
       " 'lstrip',\n",
       " 'maketrans',\n",
       " 'partition',\n",
       " 'removeprefix',\n",
       " 'removesuffix',\n",
       " 'replace',\n",
       " 'rfind',\n",
       " 'rindex',\n",
       " 'rjust',\n",
       " 'rpartition',\n",
       " 'rsplit',\n",
       " 'rstrip',\n",
       " 'split',\n",
       " 'splitlines',\n",
       " 'startswith',\n",
       " 'strip',\n",
       " 'swapcase',\n",
       " 'title',\n",
       " 'translate',\n",
       " 'upper',\n",
       " 'zfill']"
      ]
     },
     "execution_count": 8,
     "metadata": {},
     "output_type": "execute_result"
    }
   ],
   "source": [
    "dir('')"
   ]
  },
  {
   "cell_type": "markdown",
   "id": "83a39d54-25b7-42c4-a717-89f4ce50419d",
   "metadata": {},
   "source": [
    "**append**\n",
    "\n",
    "- append means adding a number at the end of the list\n",
    "- append is used to save the results\n",
    "- append is very basic method we will use many times in our code\n",
    "- append is used for store the result\n",
    "- append values will override"
   ]
  },
  {
   "cell_type": "code",
   "execution_count": 9,
   "id": "b77aba30-3555-43f8-af3f-046e6c29095f",
   "metadata": {},
   "outputs": [
    {
     "ename": "TypeError",
     "evalue": "list indices must be integers or slices, not str",
     "output_type": "error",
     "traceback": [
      "\u001b[1;31m---------------------------------------------------------------------------\u001b[0m",
      "\u001b[1;31mTypeError\u001b[0m                                 Traceback (most recent call last)",
      "Cell \u001b[1;32mIn[9], line 2\u001b[0m\n\u001b[0;32m      1\u001b[0m number\u001b[38;5;241m=\u001b[39m[\u001b[38;5;124m'\u001b[39m\u001b[38;5;124mone\u001b[39m\u001b[38;5;124m'\u001b[39m,\u001b[38;5;124m'\u001b[39m\u001b[38;5;124mtwo\u001b[39m\u001b[38;5;124m'\u001b[39m,\u001b[38;5;124m'\u001b[39m\u001b[38;5;124mthree\u001b[39m\u001b[38;5;124m'\u001b[39m,\u001b[38;5;124m'\u001b[39m\u001b[38;5;124mfour\u001b[39m\u001b[38;5;124m'\u001b[39m,\u001b[38;5;124m'\u001b[39m\u001b[38;5;124mfive\u001b[39m\u001b[38;5;124m'\u001b[39m]\n\u001b[1;32m----> 2\u001b[0m number[\u001b[38;5;124m'\u001b[39m\u001b[38;5;124mfour\u001b[39m\u001b[38;5;124m'\u001b[39m]\n",
      "\u001b[1;31mTypeError\u001b[0m: list indices must be integers or slices, not str"
     ]
    }
   ],
   "source": [
    "number=['one','two','three','four','five']\n",
    "number['four']"
   ]
  },
  {
   "cell_type": "code",
   "execution_count": 10,
   "id": "27863f55-0530-4063-b0da-85e0624149f5",
   "metadata": {},
   "outputs": [
    {
     "data": {
      "text/plain": [
       "'four'"
      ]
     },
     "execution_count": 10,
     "metadata": {},
     "output_type": "execute_result"
    }
   ],
   "source": [
    "number[3]"
   ]
  },
  {
   "cell_type": "code",
   "execution_count": 11,
   "id": "b7dfe81d-fc62-4e5b-928a-391dd9cba808",
   "metadata": {},
   "outputs": [
    {
     "data": {
      "text/plain": [
       "[1, 2, 3, 4, 100]"
      ]
     },
     "execution_count": 11,
     "metadata": {},
     "output_type": "execute_result"
    }
   ],
   "source": [
    "l=[1,2,3,4]\n",
    "l.append(100)\n",
    "l"
   ]
  },
  {
   "cell_type": "code",
   "execution_count": 15,
   "id": "759a4eb9-6479-411a-8c1c-44dde8095922",
   "metadata": {},
   "outputs": [
    {
     "data": {
      "text/plain": [
       "[10, 'apple']"
      ]
     },
     "execution_count": 15,
     "metadata": {},
     "output_type": "execute_result"
    }
   ],
   "source": [
    "l=[]\n",
    "l.append(10)\n",
    "l.append('apple')\n",
    "l"
   ]
  },
  {
   "cell_type": "code",
   "execution_count": 14,
   "id": "82b6ae01-e42e-4eab-96b6-20d18ae2f228",
   "metadata": {},
   "outputs": [
    {
     "data": {
      "text/plain": [
       "''"
      ]
     },
     "execution_count": 14,
     "metadata": {},
     "output_type": "execute_result"
    }
   ],
   "source": [
    "s=''\n",
    "s+'p'\n",
    "s"
   ]
  },
  {
   "cell_type": "code",
   "execution_count": 17,
   "id": "4706b7cf-a1ce-4bff-a632-76b6752568ee",
   "metadata": {},
   "outputs": [
    {
     "data": {
      "text/plain": [
       "('', 'p')"
      ]
     },
     "execution_count": 17,
     "metadata": {},
     "output_type": "execute_result"
    }
   ],
   "source": [
    "s=''\n",
    "s1=s+'p'\n",
    "s,s1"
   ]
  },
  {
   "cell_type": "code",
   "execution_count": 23,
   "id": "f6aa2e75-5705-4260-ad7b-fe4e82a9f593",
   "metadata": {},
   "outputs": [
    {
     "data": {
      "text/plain": [
       "[1, 4, 9, 16, 25]"
      ]
     },
     "execution_count": 23,
     "metadata": {},
     "output_type": "execute_result"
    }
   ],
   "source": [
    "# wap ask the user print 1,5 numbers square\n",
    "# save the result in the list\n",
    "\n",
    "l=[]\n",
    "for i in range (1,6):\n",
    "    l.append(i*i)\n",
    "l"
   ]
  },
  {
   "cell_type": "code",
   "execution_count": 31,
   "id": "91dbc80b-0cef-4207-8969-d242679ae752",
   "metadata": {},
   "outputs": [
    {
     "data": {
      "text/plain": [
       "['Hyd', 'Chennai']"
      ]
     },
     "execution_count": 31,
     "metadata": {},
     "output_type": "execute_result"
    }
   ],
   "source": [
    "#2q) l=['Hyd','blr','chennai','pune']\n",
    "# output=['Hyd',chennai']\n",
    "\n",
    "# is title\n",
    "# step-1 make one empty list\n",
    "# step-2 iterate each word from list\n",
    "# step-3 if that condition is stasify\n",
    "\n",
    "l=['Hyd','blr','Chennai','pune']\n",
    "out=[]\n",
    "for i in l:\n",
    "    if i.istitle():\n",
    "        out.append(i)\n",
    "out        \n"
   ]
  },
  {
   "cell_type": "code",
   "execution_count": 25,
   "id": "8e2c3645-007c-4bc8-a47b-9926df36ed46",
   "metadata": {},
   "outputs": [
    {
     "data": {
      "text/plain": [
       "True"
      ]
     },
     "execution_count": 25,
     "metadata": {},
     "output_type": "execute_result"
    }
   ],
   "source": [
    "'Hyd'.istitle()"
   ]
  },
  {
   "cell_type": "code",
   "execution_count": 26,
   "id": "960686d6-51e7-43ca-81d3-f8ed627916de",
   "metadata": {},
   "outputs": [
    {
     "data": {
      "text/plain": [
       "False"
      ]
     },
     "execution_count": 26,
     "metadata": {},
     "output_type": "execute_result"
    }
   ],
   "source": [
    "'blr'.istitle()"
   ]
  },
  {
   "cell_type": "code",
   "execution_count": 29,
   "id": "2bc21284-e730-408c-a66c-8aa5d4227b73",
   "metadata": {},
   "outputs": [
    {
     "data": {
      "text/plain": [
       "True"
      ]
     },
     "execution_count": 29,
     "metadata": {},
     "output_type": "execute_result"
    }
   ],
   "source": [
    "'Chennai'.istitle()"
   ]
  },
  {
   "cell_type": "code",
   "execution_count": 28,
   "id": "f22be3ce-0078-436d-83dc-bdb25e5318b5",
   "metadata": {},
   "outputs": [
    {
     "data": {
      "text/plain": [
       "False"
      ]
     },
     "execution_count": 28,
     "metadata": {},
     "output_type": "execute_result"
    }
   ],
   "source": [
    "'pune'.istitle()"
   ]
  },
  {
   "cell_type": "code",
   "execution_count": 38,
   "id": "ff090e2d-72f5-44d3-8a58-e81f172b6e29",
   "metadata": {},
   "outputs": [
    {
     "data": {
      "text/plain": [
       "['HYD', 'PUNE']"
      ]
     },
     "execution_count": 38,
     "metadata": {},
     "output_type": "execute_result"
    }
   ],
   "source": [
    "# l=['HYD','blr','Chennai','PUNE']\n",
    "# out=['HYD','PUNE']\n",
    "\n",
    "dir('')\n",
    "l=['HYD','blr','Chennai','PUNE']\n",
    "out=[]\n",
    "for i in l:\n",
    "       if i.isupper():\n",
    "        out.append(i)\n",
    "out        \n",
    "    \n"
   ]
  },
  {
   "cell_type": "code",
   "execution_count": 47,
   "id": "d2d681aa-a7f6-488b-943d-b77dff0aae45",
   "metadata": {},
   "outputs": [
    {
     "data": {
      "text/plain": [
       "['bl#r', 'Che#nnai']"
      ]
     },
     "execution_count": 47,
     "metadata": {},
     "output_type": "execute_result"
    }
   ],
   "source": [
    "# l=['HYD','bl#r','Che#nnai','PUNE']\n",
    "# out=['bl#r','che#nnai']\n",
    "\n",
    "\n",
    "l=['HYD','bl#r','Che#nnai','PUNE']\n",
    "out=[]\n",
    "for i in l:\n",
    "       if'#' in i:\n",
    "        out.append(i)\n",
    "out        "
   ]
  },
  {
   "cell_type": "code",
   "execution_count": 53,
   "id": "17a512c5-f12c-4485-a9b2-4e70cc6ecfde",
   "metadata": {},
   "outputs": [
    {
     "data": {
      "text/plain": [
       "['Chennai']"
      ]
     },
     "execution_count": 53,
     "metadata": {},
     "output_type": "execute_result"
    }
   ],
   "source": [
    "# l=['HYD','blr','Chennai','PUNE']\n",
    "# out=['chennai']\n",
    "# lenght of string >4\n",
    "\n",
    "l=['HYD','blr','Chennai','PUNE']\n",
    "out=[]\n",
    "for i in l:\n",
    "       if len(i)>4:\n",
    "        out.append(i)\n",
    "out        "
   ]
  },
  {
   "cell_type": "code",
   "execution_count": 5,
   "id": "32702560-ea73-4d73-9d3e-eabda12f27ee",
   "metadata": {},
   "outputs": [
    {
     "name": "stdout",
     "output_type": "stream",
     "text": [
      "can 1\n",
      "can 2\n",
      "can 3\n",
      "can 4\n",
      "can 5\n",
      "canner 1\n",
      "canner 2\n",
      "can 1\n",
      "can 2\n",
      "can 3\n",
      "can 4\n",
      "can 5\n",
      "not 1\n",
      "a 1\n",
      "a 2\n",
      "can 1\n",
      "can 2\n",
      "can 3\n",
      "can 4\n",
      "can 5\n",
      "but 1\n",
      "canner 1\n",
      "canner 2\n",
      "can 1\n",
      "can 2\n",
      "can 3\n",
      "can 4\n",
      "can 5\n",
      "you 1\n",
      "make 1\n",
      "a 1\n",
      "a 2\n",
      "can 1\n",
      "can 2\n",
      "can 3\n",
      "can 4\n",
      "can 5\n"
     ]
    }
   ],
   "source": [
    "#6q)  can canner can not a can but canner can you make a can\n",
    "# find out the each word how many times repeated\n",
    "\n",
    "# stp-1 ; split it\n",
    "# stp-2 ; iterate it\n",
    "# stp-3 ; no count method\n",
    "\n",
    "s='can canner can not a can but canner can you make a can'\n",
    "l=s.split()\n",
    "for i in l:\n",
    "    count=0\n",
    "    for j in l:\n",
    "        if i==j:\n",
    "            count=count+1\n",
    "            print(i,count)\n"
   ]
  },
  {
   "cell_type": "code",
   "execution_count": null,
   "id": "998d49d3-ed35-4ef9-9578-8aa8ed5b3b10",
   "metadata": {},
   "outputs": [],
   "source": [
    "# wap ask the user get the even and odd numbers \n",
    "# you want 5 numbers randomdly \n",
    "# 5 numbers randomadly\n",
    "# even list and odd list\n",
    "# append the even numbers in even list\n",
    "# append the odd numbers in odd list\n",
    "\n",
    "import random\n",
    "even_list=[]\n",
    "odd_list=[]\n",
    "for i in range "
   ]
  },
  {
   "cell_type": "code",
   "execution_count": null,
   "id": "173c408b-075d-49ef-a556-389825354365",
   "metadata": {},
   "outputs": [],
   "source": [
    "# sliding window problem\n",
    "\n",
    "\n",
    "#1Q)l=['apple','cat','dog','ball']                     \n",
    "# sort it with out sort method                                          \n",
    "\n",
    "\n",
    "#2Q) l=[10,15,2,25,89]\n",
    "# find the maximun word find the minumum word\n",
    "\n",
    "#3Q) l1=[1,2,3,4]\n",
    "    l2=[10,20,30,40]\n",
    "    ouput=[11,22,33,44]\n",
    "\n",
    "#4Q)l1=[1,2,3,4,5]\n",
    "    l2=[10,20,30,40]\n",
    "     ouput=[11,22,33,44,5]\n",
    "\n",
    "\n",
    "#5Q) s='hello how are you im good at python in naresh it'\n",
    "#find the maximun word\n",
    "#find the minimum word\n",
    "#find the most repeated word"
   ]
  },
  {
   "cell_type": "markdown",
   "id": "32931ef7-b94b-419b-a0f8-a82f59f92935",
   "metadata": {},
   "source": [
    "**list comprehensions**"
   ]
  },
  {
   "cell_type": "code",
   "execution_count": 6,
   "id": "ba76ec7c-34b3-49b9-891f-4485190dc0bb",
   "metadata": {},
   "outputs": [
    {
     "data": {
      "text/plain": [
       "[1, 4, 9, 16, 25]"
      ]
     },
     "execution_count": 6,
     "metadata": {},
     "output_type": "execute_result"
    }
   ],
   "source": [
    "# wap ask the user print 1,5 numbers square\n",
    "# save the result in the list\n",
    "\n",
    "l=[]\n",
    "for i in range (1,6):\n",
    "    l.append(i*i)\n",
    "l"
   ]
  },
  {
   "cell_type": "code",
   "execution_count": null,
   "id": "4e6bc743-7f75-4637-b67f-f416f9e50f12",
   "metadata": {},
   "outputs": [],
   "source": [
    "# pattern no : 1\n",
    "\n",
    "only for loop\n",
    "\n",
    "# syntax\n",
    "l=[<outpu> <forloop>]"
   ]
  },
  {
   "cell_type": "code",
   "execution_count": 8,
   "id": "927918f5-4d2d-496e-a74f-4d071f63aa9c",
   "metadata": {},
   "outputs": [
    {
     "data": {
      "text/plain": [
       "[1, 4, 9, 16, 25]"
      ]
     },
     "execution_count": 8,
     "metadata": {},
     "output_type": "execute_result"
    }
   ],
   "source": [
    "l=[]\n",
    "for i in range (1,6):\n",
    "    l.append(i*i)\n",
    "l1=[i*i for i in range(1,6)]\n",
    "l1"
   ]
  },
  {
   "cell_type": "code",
   "execution_count": 10,
   "id": "15382aaf-aa86-4b34-8008-cb9afea8f274",
   "metadata": {},
   "outputs": [
    {
     "data": {
      "text/plain": [
       "[1, 4, 9, 16, 25]"
      ]
     },
     "execution_count": 10,
     "metadata": {},
     "output_type": "execute_result"
    }
   ],
   "source": [
    "l1=[i*i for i in range(1,6)]\n",
    "l1"
   ]
  },
  {
   "cell_type": "code",
   "execution_count": 20,
   "id": "e33b9134-9707-4a65-9bbe-2119cbe5f4d2",
   "metadata": {},
   "outputs": [
    {
     "data": {
      "text/plain": [
       "['hello', 'hello', 'hello', 'hello', 'hello']"
      ]
     },
     "execution_count": 20,
     "metadata": {},
     "output_type": "execute_result"
    }
   ],
   "source": [
    "# wap ask the use save 5 times hello\n",
    "# save hello in list use list compreshension\n",
    "\n",
    "['hello' for i in range(5)]\n"
   ]
  },
  {
   "cell_type": "markdown",
   "id": "1ba497cd-a5f2-4665-a961-3037f519b9ad",
   "metadata": {},
   "source": [
    "**for loop with if condition**"
   ]
  },
  {
   "cell_type": "code",
   "execution_count": null,
   "id": "96ad1b6a-3ef8-479b-9d0b-ca0952533eb3",
   "metadata": {},
   "outputs": [],
   "source": [
    " [<ouput>_<for loop>__<if condition>]"
   ]
  },
  {
   "cell_type": "code",
   "execution_count": null,
   "id": "533a7622-1afd-4b6a-83d4-a830daa3a159",
   "metadata": {},
   "outputs": [],
   "source": [
    "#2q) l=['Hyd','blr','chennai','pune']\n",
    "# output=['Hyd',chennai']\n",
    "\n",
    "# is title\n",
    "# step-1 make one empty list\n",
    "# step-2 iterate each word from list\n",
    "# step-3 if that condition is stasify\n",
    "\n",
    "l=['Hyd','blr','Chennai','pune']\n",
    "out=[]\n",
    "for i in l:\n",
    "    if i.istitle():\n",
    "        out.append(i)\n",
    "out        \n"
   ]
  },
  {
   "cell_type": "code",
   "execution_count": 26,
   "id": "930b21f3-cdc2-4f69-9d9b-8151df3f74b1",
   "metadata": {},
   "outputs": [
    {
     "data": {
      "text/plain": [
       "['Hyd', 'Blr', 'Chennai', 'Pune']"
      ]
     },
     "execution_count": 26,
     "metadata": {},
     "output_type": "execute_result"
    }
   ],
   "source": [
    "#  [<ouput>_<for loop>__<if condition>]\n",
    "\n",
    "l=['Hyd','Blr','Chennai','Pune']\n",
    "out=[i for i in l if i.istitle()]\n",
    "out"
   ]
  },
  {
   "cell_type": "code",
   "execution_count": null,
   "id": "af8a6773-3208-4619-a8eb-8c2d4f01eba4",
   "metadata": {},
   "outputs": [],
   "source": [
    "# l=['HYD','blr','Chennai','PUNE']\n",
    "# out=['HYD','PUNE']\n",
    "\n",
    "dir('')\n",
    "l=['HYD','blr','Chennai','PUNE']\n",
    "out=[]\n",
    "for i in l:\n",
    "       if i.isupper():\n",
    "        out.append(i)\n",
    "out        \n",
    "    "
   ]
  },
  {
   "cell_type": "code",
   "execution_count": 27,
   "id": "c82cf41d-83f9-425c-94e1-418c6c398958",
   "metadata": {},
   "outputs": [
    {
     "data": {
      "text/plain": [
       "['HYD', 'PUNE']"
      ]
     },
     "execution_count": 27,
     "metadata": {},
     "output_type": "execute_result"
    }
   ],
   "source": [
    "l=['HYD','blr','Chennai','PUNE']\n",
    "out=[i for i in l if i.isupper()]\n",
    "out"
   ]
  },
  {
   "cell_type": "code",
   "execution_count": null,
   "id": "c4dd5b7d-bf02-4304-a2af-ea0c1a8e1baa",
   "metadata": {},
   "outputs": [],
   "source": [
    "#4q)  l=['HYD','bl#r','Che#nnai','PUNE']\n",
    "# out=['bl#r','che#nnai']\n",
    "\n",
    "\n",
    "l=['HYD','bl#r','Che#nnai','PUNE']\n",
    "out=[]\n",
    "for i in l:\n",
    "       if'#' in i:\n",
    "        out.append(i)\n",
    "out        "
   ]
  },
  {
   "cell_type": "code",
   "execution_count": 28,
   "id": "50a5ef86-cea8-4bad-8b53-8539d14197a0",
   "metadata": {},
   "outputs": [
    {
     "data": {
      "text/plain": [
       "['bl#r', 'Che#nnai']"
      ]
     },
     "execution_count": 28,
     "metadata": {},
     "output_type": "execute_result"
    }
   ],
   "source": [
    "l=['HYD','bl#r','Che#nnai','PUNE']\n",
    "out=[i for i in l if '#' in i]\n",
    "out"
   ]
  },
  {
   "cell_type": "markdown",
   "id": "1e2058ac-a74a-4aee-9b6e-52dcd7fec73a",
   "metadata": {},
   "source": [
    "**for-if-else**"
   ]
  },
  {
   "cell_type": "code",
   "execution_count": null,
   "id": "74c69b0e-561c-420d-8a4f-dd26f32fe534",
   "metadata": {},
   "outputs": [],
   "source": [
    "#  [<ouput>_<for loop>]\n",
    "#  [<ouput>_<for loop>__<if condition>]\n",
    "#  [<ouput>_<for loop>__<if condition> <else_output> <else>]\n"
   ]
  },
  {
   "cell_type": "code",
   "execution_count": 33,
   "id": "aba7b772-0820-4ad8-8fae-66b23ccce429",
   "metadata": {},
   "outputs": [
    {
     "data": {
      "text/plain": [
       "['odd 1',\n",
       " 'even 2',\n",
       " 'odd 3',\n",
       " 'even 4',\n",
       " 'odd 5',\n",
       " 'even 6',\n",
       " 'odd 7',\n",
       " 'even 8',\n",
       " 'odd 9',\n",
       " 'even 10']"
      ]
     },
     "execution_count": 33,
     "metadata": {},
     "output_type": "execute_result"
    }
   ],
   "source": [
    "out=[]\n",
    "for i in range(1,11):\n",
    "    if i%2==0:\n",
    "        out.append(f\"even {i}\")\n",
    "    else:\n",
    "        out.append(f\"odd {i}\")\n",
    "out        "
   ]
  },
  {
   "cell_type": "code",
   "execution_count": 32,
   "id": "4742d083-0dfe-4ad8-9db3-274af1f0cec0",
   "metadata": {},
   "outputs": [
    {
     "data": {
      "text/plain": [
       "['odd 1',\n",
       " 'even 2',\n",
       " 'odd 3',\n",
       " 'even 4',\n",
       " 'odd 5',\n",
       " 'even 6',\n",
       " 'odd 7',\n",
       " 'even 8',\n",
       " 'odd 9',\n",
       " 'even 10']"
      ]
     },
     "execution_count": 32,
     "metadata": {},
     "output_type": "execute_result"
    }
   ],
   "source": [
    "[f\"even {i}\" if i%2==0 else f\"odd {i}\" for i in range(1,11)]"
   ]
  },
  {
   "cell_type": "code",
   "execution_count": 36,
   "id": "8abedcda-2711-4f27-aa28-1ae7516906de",
   "metadata": {},
   "outputs": [
    {
     "data": {
      "text/plain": [
       "<function dir>"
      ]
     },
     "execution_count": 36,
     "metadata": {},
     "output_type": "execute_result"
    }
   ],
   "source": [
    "dir"
   ]
  },
  {
   "cell_type": "markdown",
   "id": "1e2992b1-6d84-4599-880a-5b7cfc08efbf",
   "metadata": {},
   "source": [
    "**unique vowels wrapper**"
   ]
  },
  {
   "cell_type": "code",
   "execution_count": 46,
   "id": "6302bd6d-2db5-4b78-981d-e4987cdb981e",
   "metadata": {},
   "outputs": [
    {
     "name": "stdout",
     "output_type": "stream",
     "text": [
      "can 5\n",
      "canner 2\n",
      "not 1\n",
      "a 2\n",
      "but 1\n",
      "you 1\n",
      "make 1\n"
     ]
    }
   ],
   "source": [
    "s='can canner can not a can but canner can you make a can'\n",
    "l=s.split()\n",
    "l1=[]\n",
    "for i in l:\n",
    "    if i not in l1:\n",
    "        print(i,l.count(i))\n",
    "        l1.append(i)\n",
    "\n",
    "# step-1 : i='can'  if'can'  not in l1 true print('can',5) l1=['can']\n",
    "\n",
    "#step-3 : i='can' if 'can' not in l1 false"
   ]
  },
  {
   "cell_type": "code",
   "execution_count": null,
   "id": "adc7c536-380d-4882-b4eb-3dfdb4275ebb",
   "metadata": {},
   "outputs": [],
   "source": []
  }
 ],
 "metadata": {
  "kernelspec": {
   "display_name": "Python 3 (ipykernel)",
   "language": "python",
   "name": "python3"
  },
  "language_info": {
   "codemirror_mode": {
    "name": "ipython",
    "version": 3
   },
   "file_extension": ".py",
   "mimetype": "text/x-python",
   "name": "python",
   "nbconvert_exporter": "python",
   "pygments_lexer": "ipython3",
   "version": "3.11.7"
  }
 },
 "nbformat": 4,
 "nbformat_minor": 5
}
