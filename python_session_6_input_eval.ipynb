{
 "cells": [
  {
   "cell_type": "markdown",
   "id": "c1c71e1e-7b4a-40d5-a8bb-a32e8c6c7ed9",
   "metadata": {},
   "source": [
    "**Input**\n",
    "\n",
    "- input is a keyword, we can provide values from keyboard\n",
    "- which means user can give the own values\n",
    "- the kernal will be busy util unless u need to provide values inside the box\n",
    "- provide the value and hit enter\n",
    "- make sure that *should gone\n",
    "- the default data type is **string data type**"
   ]
  },
  {
   "cell_type": "code",
   "execution_count": 2,
   "id": "4cff6528-6134-43a5-bd3b-d28bd2b8b9cf",
   "metadata": {},
   "outputs": [
    {
     "name": "stdin",
     "output_type": "stream",
     "text": [
      " hey dr\n"
     ]
    },
    {
     "data": {
      "text/plain": [
       "'hey dr'"
      ]
     },
     "execution_count": 2,
     "metadata": {},
     "output_type": "execute_result"
    }
   ],
   "source": [
    "input()"
   ]
  },
  {
   "cell_type": "code",
   "execution_count": 3,
   "id": "af0092a2-e934-49fc-9d05-a64df3caa38f",
   "metadata": {},
   "outputs": [
    {
     "name": "stdin",
     "output_type": "stream",
     "text": [
      " hey python\n"
     ]
    },
    {
     "data": {
      "text/plain": [
       "'hey python'"
      ]
     },
     "execution_count": 3,
     "metadata": {},
     "output_type": "execute_result"
    }
   ],
   "source": [
    "input()\n"
   ]
  },
  {
   "cell_type": "code",
   "execution_count": 6,
   "id": "b474262a-d5f9-4c40-ab67-a7ab71470ccc",
   "metadata": {},
   "outputs": [
    {
     "name": "stdin",
     "output_type": "stream",
     "text": [
      " 10\n"
     ]
    }
   ],
   "source": [
    "a=input()"
   ]
  },
  {
   "cell_type": "code",
   "execution_count": 7,
   "id": "ca0e28e0-505b-41a7-a424-a199de95731e",
   "metadata": {},
   "outputs": [
    {
     "data": {
      "text/plain": [
       "'10'"
      ]
     },
     "execution_count": 7,
     "metadata": {},
     "output_type": "execute_result"
    }
   ],
   "source": [
    "a"
   ]
  },
  {
   "cell_type": "code",
   "execution_count": 9,
   "id": "215bff82-409e-40ab-8243-5fa0dc7329fb",
   "metadata": {},
   "outputs": [
    {
     "name": "stdin",
     "output_type": "stream",
     "text": [
      " 100\n",
      " 200\n"
     ]
    },
    {
     "data": {
      "text/plain": [
       "'100200'"
      ]
     },
     "execution_count": 9,
     "metadata": {},
     "output_type": "execute_result"
    }
   ],
   "source": [
    "a=input()\n",
    "b=input()\n",
    "a+b"
   ]
  },
  {
   "cell_type": "code",
   "execution_count": 10,
   "id": "fc288802-ec85-4136-ad2b-764af8091f07",
   "metadata": {},
   "outputs": [
    {
     "data": {
      "text/plain": [
       "str"
      ]
     },
     "execution_count": 10,
     "metadata": {},
     "output_type": "execute_result"
    }
   ],
   "source": [
    "type(a)"
   ]
  },
  {
   "cell_type": "code",
   "execution_count": 11,
   "id": "04b0f863-b27d-40d8-820f-d9093edd51a6",
   "metadata": {},
   "outputs": [
    {
     "data": {
      "text/plain": [
       "str"
      ]
     },
     "execution_count": 11,
     "metadata": {},
     "output_type": "execute_result"
    }
   ],
   "source": [
    "type(b)"
   ]
  },
  {
   "cell_type": "code",
   "execution_count": 12,
   "id": "83aa7d9c-c4b3-41dd-9955-d1e8ee75b70c",
   "metadata": {},
   "outputs": [
    {
     "name": "stdin",
     "output_type": "stream",
     "text": [
      "hey dr hello dr\n"
     ]
    }
   ],
   "source": [
    "num=input(\"hey dr\")"
   ]
  },
  {
   "cell_type": "code",
   "execution_count": 15,
   "id": "c31f3b2a-019a-4b65-98fa-4c726ae9e549",
   "metadata": {},
   "outputs": [
    {
     "name": "stdin",
     "output_type": "stream",
     "text": [
      " 100\n",
      " 300\n"
     ]
    },
    {
     "data": {
      "text/plain": [
       "400"
      ]
     },
     "execution_count": 15,
     "metadata": {},
     "output_type": "execute_result"
    }
   ],
   "source": [
    "a=int(input())   #int('100')=100\n",
    "b=int(input())   #int('300')=300\n",
    "a+b               #100+300=400"
   ]
  },
  {
   "cell_type": "code",
   "execution_count": 17,
   "id": "9c304cc7-407b-4140-a959-d9b78e7ce37e",
   "metadata": {},
   "outputs": [
    {
     "name": "stdin",
     "output_type": "stream",
     "text": [
      "enter the num1: 100\n",
      "enter the num2: 200\n"
     ]
    },
    {
     "name": "stdout",
     "output_type": "stream",
     "text": [
      "the addition of 100 and 200 is 300\n"
     ]
    }
   ],
   "source": [
    "a=int(input(\"enter the num1:\"))\n",
    "b=int(input(\"enter the num2:\"))\n",
    "c=a+b\n",
    "print(f\"the addition of {a} and {b} is {c}\")"
   ]
  },
  {
   "cell_type": "code",
   "execution_count": 1,
   "id": "b2ae9fc6-7b5e-45ff-bf5f-1ed847ef30bc",
   "metadata": {},
   "outputs": [
    {
     "name": "stdin",
     "output_type": "stream",
     "text": [
      " omkar sir\n"
     ]
    },
    {
     "data": {
      "text/plain": [
       "'omkar sir'"
      ]
     },
     "execution_count": 1,
     "metadata": {},
     "output_type": "execute_result"
    }
   ],
   "source": [
    "input()"
   ]
  },
  {
   "cell_type": "code",
   "execution_count": 4,
   "id": "82df0f15-a9a9-4f37-8b5e-bc752df291a7",
   "metadata": {},
   "outputs": [
    {
     "name": "stdin",
     "output_type": "stream",
     "text": [
      "enter the name: omkar sir\n"
     ]
    },
    {
     "data": {
      "text/plain": [
       "'omkar sir'"
      ]
     },
     "execution_count": 4,
     "metadata": {},
     "output_type": "execute_result"
    }
   ],
   "source": [
    "input(\"enter the name:\")"
   ]
  },
  {
   "cell_type": "code",
   "execution_count": 5,
   "id": "50abcdfe-8c5e-4865-8905-8807986d3cd3",
   "metadata": {},
   "outputs": [
    {
     "name": "stdin",
     "output_type": "stream",
     "text": [
      "enter the number1: 500\n"
     ]
    },
    {
     "data": {
      "text/plain": [
       "'500'"
      ]
     },
     "execution_count": 5,
     "metadata": {},
     "output_type": "execute_result"
    }
   ],
   "source": [
    "input(\"enter the number1:\")"
   ]
  },
  {
   "cell_type": "code",
   "execution_count": 6,
   "id": "612aff9d-e064-451a-a009-735819056fa2",
   "metadata": {},
   "outputs": [
    {
     "name": "stdin",
     "output_type": "stream",
     "text": [
      " hey sir\n",
      "enter the name: good mrng\n",
      "enter the number1: hw are u sir \n"
     ]
    },
    {
     "data": {
      "text/plain": [
       "'hw are u sir '"
      ]
     },
     "execution_count": 6,
     "metadata": {},
     "output_type": "execute_result"
    }
   ],
   "source": [
    "input()\n",
    "input(\"enter the name:\")\n",
    "input(\"enter the number1:\")"
   ]
  },
  {
   "cell_type": "code",
   "execution_count": 10,
   "id": "e82f6023-600e-4e30-a531-ae06b0f74289",
   "metadata": {},
   "outputs": [
    {
     "name": "stdin",
     "output_type": "stream",
     "text": [
      " hey sir\n",
      "enter the name: hwa re u\n",
      "enter the number1: gud mrng\n"
     ]
    },
    {
     "name": "stdout",
     "output_type": "stream",
     "text": [
      "hey sir\n",
      "hwa re u\n",
      "gud mrng\n"
     ]
    }
   ],
   "source": [
    "name1=input()\n",
    "name2=input(\"enter the name:\")\n",
    "name3=input(\"enter the number1:\")\n",
    "print(name1)\n",
    "print(name2)\n",
    "print(name3)"
   ]
  },
  {
   "cell_type": "code",
   "execution_count": 13,
   "id": "b6eed821-7969-4b6e-96f6-64eab280eb1b",
   "metadata": {},
   "outputs": [
    {
     "name": "stdin",
     "output_type": "stream",
     "text": [
      "enter the num1: 500\n",
      "enter the num2: 500\n"
     ]
    },
    {
     "name": "stdout",
     "output_type": "stream",
     "text": [
      "1000\n"
     ]
    }
   ],
   "source": [
    "n1=int(input(\"enter the num1:\"))  #int('500')=500\n",
    "n2=int(input(\"enter the num2:\"))  #int('500')=500\n",
    "add=n1+n2                         #add=500+500\n",
    "print(add)"
   ]
  },
  {
   "cell_type": "code",
   "execution_count": 14,
   "id": "52d925c0-54ad-4b21-adde-1b36d0e80a2f",
   "metadata": {},
   "outputs": [
    {
     "name": "stdin",
     "output_type": "stream",
     "text": [
      "enter the num1: 500\n",
      "enter the num2: 500\n"
     ]
    },
    {
     "name": "stdout",
     "output_type": "stream",
     "text": [
      "1000\n"
     ]
    }
   ],
   "source": [
    "n1=(input(\"enter the num1:\"))  #n1='500'\n",
    "n2=(input(\"enter the num2:\"))  #n2='500'\n",
    "add=int(n1)+int(n2)            #add=int('500')+int('500')\n",
    "print(add)"
   ]
  },
  {
   "cell_type": "code",
   "execution_count": 18,
   "id": "1377f990-e967-4af7-a30b-ccc3e169f496",
   "metadata": {},
   "outputs": [
    {
     "name": "stdin",
     "output_type": "stream",
     "text": [
      "enter the num1: 500.5\n",
      "enter the num2: 500\n"
     ]
    },
    {
     "name": "stdout",
     "output_type": "stream",
     "text": [
      "1000.5\n"
     ]
    }
   ],
   "source": [
    "n1=float(input(\"enter the num1:\"))  #int('500')=500\n",
    "n2=int(input(\"enter the num2:\"))  #int('500')=500\n",
    "add=n1+n2                         #add=500+500\n",
    "print(add)\n",
    "\n",
    "# whenever int is there dont give the float values\n",
    "# if u want float values apply float conversion\n",
    "# if u want to give int value then apply int conversion"
   ]
  },
  {
   "cell_type": "markdown",
   "id": "8d0d7111-017a-4552-a5e0-a435bbca7c5f",
   "metadata": {},
   "source": [
    "**Eval_concept**\n",
    "\n",
    "- Eval meaning **Evaluate**\n",
    "- evaluate will use for number only not for english\n",
    "- evaluate will convert int number to integer\n",
    "- evaluate will convert float number to float\n",
    "- eval(input()"
   ]
  },
  {
   "cell_type": "code",
   "execution_count": 19,
   "id": "0a3ed45a-0dc1-4b85-922e-dfaf8ab1e04b",
   "metadata": {},
   "outputs": [
    {
     "name": "stdin",
     "output_type": "stream",
     "text": [
      " 500\n"
     ]
    },
    {
     "data": {
      "text/plain": [
       "500"
      ]
     },
     "execution_count": 19,
     "metadata": {},
     "output_type": "execute_result"
    }
   ],
   "source": [
    "eval(input())"
   ]
  },
  {
   "cell_type": "code",
   "execution_count": 20,
   "id": "5ad5afa7-5cc4-4fd9-bb4d-632a39e72ee6",
   "metadata": {},
   "outputs": [
    {
     "name": "stdin",
     "output_type": "stream",
     "text": [
      "enter the num1: 500\n",
      "enter the num2: 400\n"
     ]
    },
    {
     "name": "stdout",
     "output_type": "stream",
     "text": [
      "900\n"
     ]
    }
   ],
   "source": [
    "n1=eval(input(\"enter the num1:\"))  \n",
    "n2=eval(input(\"enter the num2:\"))  \n",
    "add=n1+n2                        \n",
    "print(add)"
   ]
  },
  {
   "cell_type": "code",
   "execution_count": null,
   "id": "c95f78e6-e0e9-415d-8cd8-5d105aa89159",
   "metadata": {},
   "outputs": [],
   "source": []
  }
 ],
 "metadata": {
  "kernelspec": {
   "display_name": "Python 3 (ipykernel)",
   "language": "python",
   "name": "python3"
  },
  "language_info": {
   "codemirror_mode": {
    "name": "ipython",
    "version": 3
   },
   "file_extension": ".py",
   "mimetype": "text/x-python",
   "name": "python",
   "nbconvert_exporter": "python",
   "pygments_lexer": "ipython3",
   "version": "3.11.7"
  }
 },
 "nbformat": 4,
 "nbformat_minor": 5
}
