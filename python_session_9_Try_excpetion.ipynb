{
 "cells": [
  {
   "cell_type": "markdown",
   "id": "7b7f72c7-b5f0-454d-aba0-ca4870a33688",
   "metadata": {},
   "source": [
    "**try-except**\n",
    "\n",
    "- Generally python is a sequential process\n",
    "- which mean if you get error,the compiler will not execute other statements\n",
    "- there is situation even though if you got error at particular lines\n",
    "- complier should execute some parts of the code\n",
    "- this is possible by using try-except method\n",
    "- we have two blocks\n",
    "-        Try block\n",
    "-           original code will run under try block\n",
    "-       except block\n",
    "-            if any error come redirect to except block"
   ]
  },
  {
   "cell_type": "markdown",
   "id": "37b43e23-0759-40c4-9786-a6e57972f622",
   "metadata": {},
   "source": [
    "**Case_1**\n",
    "\n",
    "- when ever we got the error in try block\n",
    "- complier will excute statement of except block"
   ]
  },
  {
   "cell_type": "markdown",
   "id": "4c5a41a3-faa9-4d69-a469-ae6cbca14bbc",
   "metadata": {},
   "source": [
    "**case_2**\n",
    "\n",
    "- If there is no error in try block\n",
    "- the complier will not execute statement of except block"
   ]
  },
  {
   "cell_type": "code",
   "execution_count": 3,
   "id": "98894cb6-896b-4ccc-8562-62c32e87c136",
   "metadata": {},
   "outputs": [
    {
     "name": "stdout",
     "output_type": "stream",
     "text": [
      "hello\n"
     ]
    }
   ],
   "source": [
    "try:\n",
    "    a=10\n",
    "    b=0\n",
    "    a/b\n",
    "except:    \n",
    "    print(\"hello\")"
   ]
  },
  {
   "cell_type": "code",
   "execution_count": 4,
   "id": "fd688dcf-060e-4765-a60d-1ecd41b59aee",
   "metadata": {},
   "outputs": [
    {
     "ename": "ZeroDivisionError",
     "evalue": "division by zero",
     "output_type": "error",
     "traceback": [
      "\u001b[1;31m---------------------------------------------------------------------------\u001b[0m",
      "\u001b[1;31mZeroDivisionError\u001b[0m                         Traceback (most recent call last)",
      "Cell \u001b[1;32mIn[4], line 3\u001b[0m\n\u001b[0;32m      1\u001b[0m a\u001b[38;5;241m=\u001b[39m\u001b[38;5;241m10\u001b[39m\n\u001b[0;32m      2\u001b[0m b\u001b[38;5;241m=\u001b[39m\u001b[38;5;241m0\u001b[39m\n\u001b[1;32m----> 3\u001b[0m a\u001b[38;5;241m/\u001b[39mb\n\u001b[0;32m      4\u001b[0m \u001b[38;5;28mprint\u001b[39m(\u001b[38;5;124m\"\u001b[39m\u001b[38;5;124mhello\u001b[39m\u001b[38;5;124m\"\u001b[39m)\n",
      "\u001b[1;31mZeroDivisionError\u001b[0m: division by zero"
     ]
    }
   ],
   "source": [
    "a=10\n",
    "b=0\n",
    "a/b\n",
    "print(\"hello\")"
   ]
  },
  {
   "cell_type": "code",
   "execution_count": 6,
   "id": "c0a986a8-04f6-4c08-b956-f3718531cd76",
   "metadata": {},
   "outputs": [
    {
     "name": "stdout",
     "output_type": "stream",
     "text": [
      "the value get error: 10\n",
      "hello\n"
     ]
    }
   ],
   "source": [
    " try:\n",
    "    a=10\n",
    "    b=0\n",
    "    print(\"the value get error:\",a)\n",
    "    a/b\n",
    "    print(\"you will get error\")\n",
    "except:   \n",
    "    print(\"hello\")"
   ]
  },
  {
   "cell_type": "code",
   "execution_count": 12,
   "id": "727ac495-356b-4a15-afd9-aa64c462ca70",
   "metadata": {},
   "outputs": [
    {
     "name": "stdout",
     "output_type": "stream",
     "text": [
      "the value a: 10\n",
      "the value b: 10\n",
      "you will get error\n"
     ]
    }
   ],
   "source": [
    "try:\n",
    "    a=10\n",
    "    b=10\n",
    "    print(\"the value a:\",a)\n",
    "    print(\"the value b:\",b)\n",
    "    a/b\n",
    "    print(\"you will get error\")\n",
    "except:   \n",
    "    print(\"hello\")"
   ]
  },
  {
   "cell_type": "code",
   "execution_count": 15,
   "id": "fc139a92-3078-4cbd-823b-4502465f5abd",
   "metadata": {},
   "outputs": [
    {
     "name": "stdout",
     "output_type": "stream",
     "text": [
      "the value a: 100\n",
      "the value b: 100\n",
      "you will get mul value\n"
     ]
    }
   ],
   "source": [
    "try:\n",
    "    a=10\n",
    "    b=10\n",
    "    print(\"the value a:\",a*b)\n",
    "    print(\"the value b:\",b*a)\n",
    "    a*b\n",
    "    print(\"you will get mul value\")\n",
    "except:   \n",
    "    print(\"hello\")"
   ]
  },
  {
   "cell_type": "code",
   "execution_count": 16,
   "id": "46e69340-cb01-481f-9068-408a768b66f2",
   "metadata": {},
   "outputs": [
    {
     "name": "stdout",
     "output_type": "stream",
     "text": [
      "the value a: 25\n",
      "the value b: 25\n",
      "you will get addition value\n"
     ]
    }
   ],
   "source": [
    "try:\n",
    "    a=20\n",
    "    b=5\n",
    "    print(\"the value a:\",a+b)\n",
    "    print(\"the value b:\",b+a)\n",
    "    a+b\n",
    "    print(\"you will get addition value\")\n",
    "except:   \n",
    "    print(\"hello\")"
   ]
  },
  {
   "cell_type": "code",
   "execution_count": 18,
   "id": "7004e69b-5e60-46d7-858a-b85c4b36583a",
   "metadata": {},
   "outputs": [
    {
     "name": "stdout",
     "output_type": "stream",
     "text": [
      "hai dr\n",
      "whats up\n"
     ]
    },
    {
     "name": "stdin",
     "output_type": "stream",
     "text": [
      "enter the num1: 5\n",
      "enter the num2: 1\n"
     ]
    },
    {
     "name": "stdout",
     "output_type": "stream",
     "text": [
      "the addition of 5 and 1 is: 6\n",
      "bye dr\n"
     ]
    }
   ],
   "source": [
    "print(\"hai dr\")\n",
    "print(\"whats up\")\n",
    "try:\n",
    "    a=eval(input(\"enter the num1:\"))\n",
    "    b=eval(input(\"enter the num2:\"))\n",
    "    add=a+b\n",
    "    print(f\"the addition of {a} and {b} is: {add}\")\n",
    "except:\n",
    "    print(\"error is there\")\n",
    "    print(\"check the code\")\n",
    "print(\"bye dr\")    "
   ]
  },
  {
   "cell_type": "code",
   "execution_count": 21,
   "id": "43f5a234-2c3f-46ac-bcf2-0e3caf09c486",
   "metadata": {},
   "outputs": [
    {
     "name": "stdout",
     "output_type": "stream",
     "text": [
      "hai dr\n",
      "whats up\n"
     ]
    },
    {
     "name": "stdin",
     "output_type": "stream",
     "text": [
      "enter the num1: hii\n"
     ]
    },
    {
     "name": "stdout",
     "output_type": "stream",
     "text": [
      "error is there\n",
      "check the code\n",
      "bye dr\n"
     ]
    }
   ],
   "source": [
    "print(\"hai dr\")\n",
    "print(\"whats up\")\n",
    "try:\n",
    "    a=eval(input(\"enter the num1:\"))\n",
    "    b=eval(input(\"enter the num2:\"))\n",
    "    add=a+b\n",
    "    print(f\"the addition of {a} and {b} is: {add}\")\n",
    "except:\n",
    "    print(\"error is there\")\n",
    "    print(\"check the code\")\n",
    "print(\"bye dr\")  "
   ]
  },
  {
   "cell_type": "code",
   "execution_count": 24,
   "id": "06181e7a-f678-4427-93e8-4833d14e27b2",
   "metadata": {},
   "outputs": [
    {
     "name": "stdout",
     "output_type": "stream",
     "text": [
      "hai dr\n",
      "whats up\n"
     ]
    },
    {
     "name": "stdin",
     "output_type": "stream",
     "text": [
      "enter the num1: hii\n"
     ]
    },
    {
     "name": "stdout",
     "output_type": "stream",
     "text": [
      "error is there\n",
      "check the code\n",
      "n2 is greater\n",
      "bye dr\n"
     ]
    }
   ],
   "source": [
    "print(\"hai dr\")\n",
    "print(\"whats up\")\n",
    "try:\n",
    "    a=eval(input(\"enter the num1:\"))\n",
    "    b=eval(input(\"enter the num2:\"))\n",
    "    add=a+b\n",
    "    print(f\"the addition of {a} and {b} is: {add}\")\n",
    "except:\n",
    "    print(\"error is there\")\n",
    "    print(\"check the code\")\n",
    "    n1=200\n",
    "    n2=500\n",
    "    if n1>n2:\n",
    "        print(\"n1 is greater\")\n",
    "    else:\n",
    "        print(\"n2 is greater\")\n",
    "print(\"bye dr\")  "
   ]
  },
  {
   "cell_type": "markdown",
   "id": "7b15193c-2adb-4345-9ace-efe942083b90",
   "metadata": {},
   "source": [
    "**Capture the errors**\n",
    "\n",
    "- Mainly try and except is used to capture the errors"
   ]
  },
  {
   "cell_type": "code",
   "execution_count": 27,
   "id": "0b90039b-c59d-4835-a099-362f5e0d5966",
   "metadata": {},
   "outputs": [
    {
     "name": "stdout",
     "output_type": "stream",
     "text": [
      "hai dr\n",
      "whats up\n"
     ]
    },
    {
     "name": "stdin",
     "output_type": "stream",
     "text": [
      "enter the num1: hbgvj\n"
     ]
    },
    {
     "name": "stdout",
     "output_type": "stream",
     "text": [
      "error is there\n",
      "check the code\n",
      "bye dr\n"
     ]
    }
   ],
   "source": [
    "print(\"hai dr\")\n",
    "print(\"whats up\")\n",
    "try:\n",
    "    a=eval(input(\"enter the num1:\"))\n",
    "    b=eval(input(\"enter the num2:\"))\n",
    "    add=a+b\n",
    "    print(f\"the addition of {a} and {b} is: {add}\")\n",
    "except:\n",
    "    print(\"error is there\")\n",
    "    print(\"check the code\")\n",
    "print(\"bye dr\")   "
   ]
  },
  {
   "cell_type": "markdown",
   "id": "c1a5bab4-bf4a-405e-be29-6d1e7c5b0c20",
   "metadata": {},
   "source": [
    "- syntax error\n",
    "     - if you miss the ) , \"\" , :\n",
    "- name error\n",
    "     - if you not defined any name that in black colour\n",
    "- division error\n",
    "     - some number divided by zero\n",
    "- value error\n",
    "     - number type conversion\n",
    "- type error\n",
    "     - any math operation on english letters\n",
    "- indentation error\n",
    "     - after:we need some space"
   ]
  },
  {
   "cell_type": "code",
   "execution_count": 31,
   "id": "f033bb6a-6ae9-40df-96c9-5922d35a3400",
   "metadata": {},
   "outputs": [
    {
     "name": "stdin",
     "output_type": "stream",
     "text": [
      "enter the num1: 10.5\n",
      "enter the num2: 0\n"
     ]
    },
    {
     "name": "stdout",
     "output_type": "stream",
     "text": [
      "zero division error\n"
     ]
    }
   ],
   "source": [
    "try:\n",
    "    a=eval(input(\"enter the num1:\"))\n",
    "    b=eval(input(\"enter the num2:\"))\n",
    "    add=a/b\n",
    "    print(f\"the addition of {a} and {b} is: {add}\")\n",
    "except:\n",
    "    print(\"zero division error\")"
   ]
  },
  {
   "cell_type": "code",
   "execution_count": 34,
   "id": "7bd5ef02-c12d-4f0d-9f19-65b9f93b5bed",
   "metadata": {},
   "outputs": [
    {
     "name": "stdin",
     "output_type": "stream",
     "text": [
      "enter the num1: 10\n",
      "enter the num2: 0\n"
     ]
    },
    {
     "name": "stdout",
     "output_type": "stream",
     "text": [
      "division by zero\n"
     ]
    }
   ],
   "source": [
    "try:\n",
    "    a=eval(input(\"enter the num1:\"))\n",
    "    b=eval(input(\"enter the num2:\"))\n",
    "    add=a/b\n",
    "    print(f\"the addition of {a} and {b} is: {add}\")\n",
    "except Exception as e:\n",
    "    print(e)"
   ]
  },
  {
   "cell_type": "code",
   "execution_count": 37,
   "id": "a935d858-8c2b-4195-b29d-0fe00910bac9",
   "metadata": {},
   "outputs": [
    {
     "name": "stdin",
     "output_type": "stream",
     "text": [
      "enter the num1: 10\n",
      "enter the num2: 20\n"
     ]
    },
    {
     "name": "stdout",
     "output_type": "stream",
     "text": [
      "name 'aaa' is not defined\n"
     ]
    }
   ],
   "source": [
    "try:\n",
    "    a=eval(input(\"enter the num1:\"))\n",
    "    b=eval(input(\"enter the num2:\"))\n",
    "    add=aaa/b\n",
    "    print(f\"the addition of {a} and {b} is: {add}\")\n",
    "except Exception as e:\n",
    "    print(e)"
   ]
  },
  {
   "cell_type": "code",
   "execution_count": 39,
   "id": "95a1cf5b-1b67-4a17-81b8-3a6be2269b3f",
   "metadata": {},
   "outputs": [
    {
     "ename": "SyntaxError",
     "evalue": "incomplete input (3303723684.py, line 7)",
     "output_type": "error",
     "traceback": [
      "\u001b[1;36m  Cell \u001b[1;32mIn[39], line 7\u001b[1;36m\u001b[0m\n\u001b[1;33m    print(e\u001b[0m\n\u001b[1;37m           ^\u001b[0m\n\u001b[1;31mSyntaxError\u001b[0m\u001b[1;31m:\u001b[0m incomplete input\n"
     ]
    }
   ],
   "source": [
    "try:\n",
    "    a=eval(input(\"enter the num1:\"))\n",
    "    b=eval(input(\"enter the num2:\"))\n",
    "    add=aaa/b\n",
    "    print(f\"the addition of {a} and {b} is: {add}\")\n",
    "except Exception as e:\n",
    "    print(e"
   ]
  },
  {
   "cell_type": "markdown",
   "id": "bee35000-f598-4b60-85b4-ec7556bcbb9a",
   "metadata": {},
   "source": [
    "**syntax error will not capture by exception block**"
   ]
  },
  {
   "cell_type": "code",
   "execution_count": 41,
   "id": "85cc2f81-aeba-4ce6-9b4a-87ede73eddce",
   "metadata": {},
   "outputs": [
    {
     "name": "stdout",
     "output_type": "stream",
     "text": [
      "the 98 is even\n"
     ]
    }
   ],
   "source": [
    "1Q)# apply try-exception block for even-odd program\n",
    "# wap implement above the code\n",
    "# by taking number radomly between 10,100\n",
    "\n",
    "import random\n",
    "try:\n",
    "    num=random.randint(10,100)\n",
    "    if num%2==0:\n",
    "        print(f\"the {num} is even\")\n",
    "    else:\n",
    "        print(f\"the {num} is odd\")\n",
    "except Exception as e:\n",
    "    print(e)\n",
    "        \n"
   ]
  },
  {
   "cell_type": "code",
   "execution_count": 42,
   "id": "68e20c0a-9234-450e-9b1e-5ca9e19810e0",
   "metadata": {},
   "outputs": [
    {
     "name": "stdout",
     "output_type": "stream",
     "text": [
      "70\n"
     ]
    },
    {
     "name": "stdin",
     "output_type": "stream",
     "text": [
      "enter the number 50\n"
     ]
    },
    {
     "name": "stdout",
     "output_type": "stream",
     "text": [
      "loss\n"
     ]
    }
   ],
   "source": [
    "2Q)# game program\n",
    "# there are two numbers\n",
    "# num1 comes from random\n",
    "# num2 is taking from the keyboard\n",
    "# if both numbers are equal\n",
    "# then print you won\n",
    "# else\n",
    "# print you loss\n",
    "\n",
    "import random\n",
    "try:\n",
    "    num1=random.randint(40,150)\n",
    "    print(num1)\n",
    "    num2=eval(input(\"enter the number\"))\n",
    "    if num1==num2:\n",
    "        print(\"won\")\n",
    "    else:\n",
    "        print(\"loss\")\n",
    "except Exception as e:\n",
    "    print(e)\n"
   ]
  },
  {
   "cell_type": "code",
   "execution_count": 45,
   "id": "f3b64f08-76a3-48d5-bc1c-6d8637ce55a1",
   "metadata": {},
   "outputs": [
    {
     "name": "stdin",
     "output_type": "stream",
     "text": [
      "how much distance need to travel: 100\n",
      "enter charge per km: 5\n"
     ]
    },
    {
     "name": "stdout",
     "output_type": "stream",
     "text": [
      "total charge : 500\n"
     ]
    }
   ],
   "source": [
    "#3Q)\n",
    "# wap ask the user enter how much distance need to travel\n",
    "# ask the user enter the charge per km\n",
    "# if the distance >25km\n",
    "# then print total charge\n",
    "# otherwise\n",
    "# print free ride\n",
    "\n",
    "try:\n",
    "    distance=eval(input(\"how much distance need to travel:\"))\n",
    "    if distance>25:\n",
    "        charge = eval(input(\"enter charge per km:\"))\n",
    "        print(f\"total charge : {distance*charge}\")\n",
    "    else:    \n",
    "        print(\"it is free ride\")\n",
    "except Exception as e:\n",
    "    print(e)\n"
   ]
  },
  {
   "cell_type": "code",
   "execution_count": 46,
   "id": "37bacc5a-7a0c-497d-ae70-b4d5c5d50718",
   "metadata": {},
   "outputs": [
    {
     "name": "stdin",
     "output_type": "stream",
     "text": [
      "enter the numbers 2\n"
     ]
    },
    {
     "name": "stdout",
     "output_type": "stream",
     "text": [
      "2\n"
     ]
    }
   ],
   "source": [
    "#4Q)\n",
    "#wap ask the user enter the number\n",
    "# if number equal to 1 then print 1\n",
    "# if number equal to 2 then print 2\n",
    "# if number equal to 3 then print 3\n",
    "# if number equal to 4 then print 4\n",
    "# otherwise print bye: else\n",
    "\n",
    "try:\n",
    "    num=eval(input(\"enter the numbers\"))\n",
    "    if num==1:\n",
    "        print(1)\n",
    "    elif num==2:\n",
    "        print(2)\n",
    "    elif num==3:\n",
    "        print(3)\n",
    "    elif num==4:\n",
    "        print (\"hello\")\n",
    "    else:\n",
    "        print(\"hello\")\n",
    "except Exception as e:\n",
    "    print(e)"
   ]
  },
  {
   "cell_type": "code",
   "execution_count": 47,
   "id": "b912862a-94d6-496d-9e94-2a328b01dc26",
   "metadata": {},
   "outputs": [
    {
     "name": "stdin",
     "output_type": "stream",
     "text": [
      "enter the percentage 50\n"
     ]
    },
    {
     "name": "stdout",
     "output_type": "stream",
     "text": [
      "C grade\n"
     ]
    }
   ],
   "source": [
    "#5Q)\n",
    "#wap ask the user \n",
    "#enter marks percentage\n",
    "#if percentage greater than 90 then print A grade\n",
    "#if percentage between 70 and 90 then print B grade\n",
    "#if percentage between 50 and 70 then print C grade\n",
    "#if percentage between 35 and 50 then print D grade\n",
    "#otherwise print fail\n",
    "\n",
    "try:\n",
    "    per=eval(input(\"enter the percentage\"))\n",
    "    if per>=90:\n",
    "        print('A grade')\n",
    "    elif per>=70:\n",
    "        print('B grade')\n",
    "    elif per>=50:\n",
    "        print('C grade')\n",
    "    elif per>=35:\n",
    "        print('D grade')\n",
    "    else:\n",
    "        print('pass')\n",
    "except Exception as e:\n",
    "    print(e)"
   ]
  },
  {
   "cell_type": "code",
   "execution_count": 49,
   "id": "e79b266c-1561-44f0-a294-07fcf05e9b14",
   "metadata": {},
   "outputs": [
    {
     "name": "stdin",
     "output_type": "stream",
     "text": [
      "enter your age 50\n"
     ]
    },
    {
     "name": "stdout",
     "output_type": "stream",
     "text": [
      "middle age\n"
     ]
    }
   ],
   "source": [
    "#6Q)\n",
    "#wap ask the user \n",
    "#enter age\n",
    "#if age greater than 90 then print lucky man\n",
    "#if age between 70 and 90 then print old man\n",
    "#if age between 50 and 70 then print sc\n",
    "#if age between 35 and 50 then print middle aged\n",
    "#if age between 20 and 35 then print young\n",
    "#if age between 13 and 20 then print teen\n",
    "#otherwise print kid\n",
    "\n",
    "try:\n",
    "    per=eval(input(\"enter your age\"))\n",
    "    if  per>90:\n",
    "        print(\"lucky man\")\n",
    "    elif per>70:\n",
    "        print(\"old man\")\n",
    "    elif per>50:\n",
    "        print(\"sc\")\n",
    "    elif per>35:\n",
    "        print(\"middle age\")\n",
    "    elif per>20:\n",
    "        print(\"young\")\n",
    "    elif per>13:\n",
    "        print(\"teen\")\n",
    "    else:\n",
    "        print(\"kid\")\n",
    "except Exception as e:\n",
    "    print(e)"
   ]
  },
  {
   "cell_type": "code",
   "execution_count": 50,
   "id": "9b6d24f5-9f77-4b3a-ab85-975e48ef0893",
   "metadata": {},
   "outputs": [
    {
     "name": "stdin",
     "output_type": "stream",
     "text": [
      "enter your gender male\n",
      "enter the age 50\n"
     ]
    },
    {
     "name": "stdout",
     "output_type": "stream",
     "text": [
      "man\n"
     ]
    }
   ],
   "source": [
    "#7Q)\n",
    "#wap\n",
    "# ask the user enter gender\n",
    "# if gender equal to male\n",
    "#    ask the user enter age\n",
    "# if age greater then 30 then print middle aged\n",
    "# otherwise print boy\n",
    "#elif gender equal to female\n",
    "# ask the user enter age\n",
    "# if age greater than 30 then print middle aged woman\n",
    "# otherwise print girl\n",
    "# otherwise\n",
    "#   print enter valid gender\n",
    "\n",
    "try:\n",
    "    gender=input(\"enter your gender\")\n",
    "    if gender=='male':\n",
    "        age=eval(input(\"enter the age\"))\n",
    "        if age>=30:\n",
    "            print(\"man\")\n",
    "        else:\n",
    "            print(\"boy\")\n",
    "    elif gender=='female':\n",
    "        age2=eval(input(\"enter the age\"))\n",
    "        if age>30:\n",
    "            print(\"middle age women\")\n",
    "        else:\n",
    "            print(\"girl\")\n",
    "    else:\n",
    "        print(\"gender\")\n",
    "except Exception as e:\n",
    "    print(e)\n",
    "    "
   ]
  },
  {
   "cell_type": "code",
   "execution_count": 51,
   "id": "6f36b18c-35eb-4cdf-af8c-9ae72b83c210",
   "metadata": {},
   "outputs": [
    {
     "name": "stdin",
     "output_type": "stream",
     "text": [
      "enter 1st number 5\n",
      "enter 2nd number 8\n",
      "enter 3rd number 3\n"
     ]
    },
    {
     "name": "stdout",
     "output_type": "stream",
     "text": [
      "B is big\n"
     ]
    }
   ],
   "source": [
    "#8Q)\n",
    "# wap\n",
    "# ask the user enter 3 numbers\n",
    "# find biggest number\n",
    "\n",
    "try:\n",
    "    a=eval(input(\"enter 1st number\"))\n",
    "    b=eval(input(\"enter 2nd number\"))\n",
    "    c=eval(input(\"enter 3rd number\"))\n",
    "    if a>b and a>c:\n",
    "        print(\"A is big\")\n",
    "    elif b>c:\n",
    "        print(\"B is big\")\n",
    "    else:\n",
    "        print(\"c is big\")\n",
    "except Exception as e:\n",
    "    print(e)\n"
   ]
  },
  {
   "cell_type": "code",
   "execution_count": null,
   "id": "23ad00f8-f9ad-4ccb-af01-ca4ea9c3c0eb",
   "metadata": {},
   "outputs": [],
   "source": []
  }
 ],
 "metadata": {
  "kernelspec": {
   "display_name": "Python 3 (ipykernel)",
   "language": "python",
   "name": "python3"
  },
  "language_info": {
   "codemirror_mode": {
    "name": "ipython",
    "version": 3
   },
   "file_extension": ".py",
   "mimetype": "text/x-python",
   "name": "python",
   "nbconvert_exporter": "python",
   "pygments_lexer": "ipython3",
   "version": "3.11.7"
  }
 },
 "nbformat": 4,
 "nbformat_minor": 5
}
