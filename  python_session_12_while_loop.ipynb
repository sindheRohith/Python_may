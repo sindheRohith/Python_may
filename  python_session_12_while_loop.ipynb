{
 "cells": [
  {
   "cell_type": "markdown",
   "id": "cd524e55-36da-48dd-979b-9c40b473416c",
   "metadata": {},
   "source": [
    "**While-loop**\n",
    "\n",
    "- if you want to apply unlimited iterations then we choose while loop\n",
    "- any loop we required 3 things\n",
    "   - intial point\n",
    "   - condition to stop\n",
    "   - increment or decrement\n",
    "- in for loop we use all these 3 lines in single line\n",
    "- in while loop we will use all these 3 in 3 lines "
   ]
  },
  {
   "cell_type": "code",
   "execution_count": null,
   "id": "d2a22615-8ed2-42eb-bbf3-d3cc87056df4",
   "metadata": {},
   "outputs": [],
   "source": [
    "# intial point\n",
    "# while <condition>:\n",
    "#     <statements>\n",
    "#     <increment or decrement>"
   ]
  },
  {
   "cell_type": "code",
   "execution_count": 1,
   "id": "75b8208e-5c0f-4ad0-a79c-534c604cd711",
   "metadata": {},
   "outputs": [
    {
     "name": "stdout",
     "output_type": "stream",
     "text": [
      "1 2 3 4 5 "
     ]
    }
   ],
   "source": [
    "for i in range(1,6):\n",
    "    print(i,end=' ')"
   ]
  },
  {
   "cell_type": "code",
   "execution_count": 5,
   "id": "962b8113-576a-4221-8c8c-f1c9525d3d07",
   "metadata": {},
   "outputs": [
    {
     "ename": "SyntaxError",
     "evalue": "invalid syntax (273507016.py, line 2)",
     "output_type": "error",
     "traceback": [
      "\u001b[1;36m  Cell \u001b[1;32mIn[5], line 2\u001b[1;36m\u001b[0m\n\u001b[1;33m    while <condition>:\u001b[0m\n\u001b[1;37m          ^\u001b[0m\n\u001b[1;31mSyntaxError\u001b[0m\u001b[1;31m:\u001b[0m invalid syntax\n"
     ]
    }
   ],
   "source": [
    "i=1\n",
    "while <condition>:\n",
    "    print(i,end=' ')\n",
    "    i=i+1"
   ]
  },
  {
   "cell_type": "code",
   "execution_count": 9,
   "id": "46b89e7a-793c-41fc-9428-1e27f967fa61",
   "metadata": {},
   "outputs": [
    {
     "name": "stdout",
     "output_type": "stream",
     "text": [
      "1 2 "
     ]
    }
   ],
   "source": [
    "#case-1\n",
    "\n",
    "i=1                      #start point\n",
    "while i<3:              # condition\n",
    "    print(i,end=' ')\n",
    "    i=i+1               # increment or decrement"
   ]
  },
  {
   "cell_type": "markdown",
   "id": "b5485dcd-e3b0-4803-902d-b4a3446c3efc",
   "metadata": {},
   "source": [
    "**Infinite loop**\n",
    "\n",
    "- whenever infinte"
   ]
  },
  {
   "cell_type": "code",
   "execution_count": 1,
   "id": "820f55e4-189d-4824-b832-03784f794702",
   "metadata": {},
   "outputs": [
    {
     "name": "stdout",
     "output_type": "stream",
     "text": [
      "1 2 3 4 5 6 7 8 9 "
     ]
    }
   ],
   "source": [
    "i=1                     \n",
    "while i!=0:              \n",
    "    print(i,end=' ')\n",
    "    i=i+1 \n",
    "    if i==10:\n",
    "        break"
   ]
  },
  {
   "cell_type": "code",
   "execution_count": null,
   "id": "b228cbd9-6035-4cfb-b041-00283785a44f",
   "metadata": {},
   "outputs": [],
   "source": [
    "i=1\n",
    "while i<20:\n",
    "    print(i,end=' ')\n",
    "    i=i+1\n",
    "    "
   ]
  },
  {
   "cell_type": "code",
   "execution_count": 4,
   "id": "f272920b-3982-46ca-bdd7-f90b873d1aeb",
   "metadata": {},
   "outputs": [
    {
     "name": "stdout",
     "output_type": "stream",
     "text": [
      "-10 -9 -8 -7 -6 -5 -4 -3 -2 "
     ]
    }
   ],
   "source": [
    "# wap to print -10 to -1 \n",
    "# using for loop and while loop\n",
    "\n",
    "for i in range(-10,-1):\n",
    "    print(i,end=' ')\n",
    "    "
   ]
  },
  {
   "cell_type": "code",
   "execution_count": 10,
   "id": "06ae5578-8223-48ef-88e6-33a0f9e03924",
   "metadata": {},
   "outputs": [
    {
     "name": "stdout",
     "output_type": "stream",
     "text": [
      "-10 -9 -8 -7 -6 -5 -4 -3 -2 -1 "
     ]
    }
   ],
   "source": [
    "i=-10\n",
    "while i<0:\n",
    "    print(i,end=' ')\n",
    "    i=i+1"
   ]
  },
  {
   "cell_type": "code",
   "execution_count": 11,
   "id": "d3c5edb3-1c28-479e-9991-d63014da82e2",
   "metadata": {},
   "outputs": [
    {
     "name": "stdout",
     "output_type": "stream",
     "text": [
      "-1 -2 -3 -4 -5 -6 -7 -8 -9 "
     ]
    }
   ],
   "source": [
    "# wap to print -1 to -10 \n",
    "# using for loop and while loop\n",
    "\n",
    "for i in range(-1,-10,-1):\n",
    "    print(i,end=' ')"
   ]
  },
  {
   "cell_type": "code",
   "execution_count": 21,
   "id": "91a2bdff-beeb-4b26-bf2a-a29104c89475",
   "metadata": {},
   "outputs": [
    {
     "name": "stdout",
     "output_type": "stream",
     "text": [
      "-1 -2 -3 -4 -5 -6 -7 -8 -9 -10 "
     ]
    }
   ],
   "source": [
    "i=-1\n",
    "while i>=-10:\n",
    "    print(i,end=' ')\n",
    "    i=i-1"
   ]
  },
  {
   "cell_type": "code",
   "execution_count": 22,
   "id": "34ecaf2f-cf90-4ffb-94e9-297baea42804",
   "metadata": {},
   "outputs": [
    {
     "name": "stdout",
     "output_type": "stream",
     "text": [
      "10 9 8 7 6 5 4 3 2 1 "
     ]
    }
   ],
   "source": [
    "# wap to print 10 to 1\n",
    "# using for loop and while loop\n",
    "\n",
    "for i in range(10,0,-1):\n",
    "    print(i,end=' ')\n",
    "    "
   ]
  },
  {
   "cell_type": "code",
   "execution_count": 25,
   "id": "8d652555-d8aa-4b4c-aea1-51323dae2eca",
   "metadata": {},
   "outputs": [
    {
     "name": "stdout",
     "output_type": "stream",
     "text": [
      "10 9 8 7 6 5 4 3 2 1 "
     ]
    }
   ],
   "source": [
    "i=10\n",
    "while i>=1:\n",
    "    print(i,end=' ')\n",
    "    i=i-1"
   ]
  },
  {
   "cell_type": "code",
   "execution_count": null,
   "id": "21024341-293f-403f-9963-e85fce217ab8",
   "metadata": {},
   "outputs": [],
   "source": []
  },
  {
   "cell_type": "code",
   "execution_count": null,
   "id": "dcd8a606-e664-4a5e-8f92-70752f5b2ed0",
   "metadata": {},
   "outputs": [],
   "source": []
  },
  {
   "cell_type": "code",
   "execution_count": null,
   "id": "27ddc3d1-b882-48b4-a4c7-38173d520a48",
   "metadata": {},
   "outputs": [],
   "source": []
  },
  {
   "cell_type": "code",
   "execution_count": null,
   "id": "fc51a282-5279-4d3f-9b67-4d7abbcd7083",
   "metadata": {},
   "outputs": [],
   "source": []
  }
 ],
 "metadata": {
  "kernelspec": {
   "display_name": "Python 3 (ipykernel)",
   "language": "python",
   "name": "python3"
  },
  "language_info": {
   "codemirror_mode": {
    "name": "ipython",
    "version": 3
   },
   "file_extension": ".py",
   "mimetype": "text/x-python",
   "name": "python",
   "nbconvert_exporter": "python",
   "pygments_lexer": "ipython3",
   "version": "3.11.7"
  }
 },
 "nbformat": 4,
 "nbformat_minor": 5
}
